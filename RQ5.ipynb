{
 "cells": [
  {
   "cell_type": "code",
   "execution_count": 2,
   "id": "5fadad90",
   "metadata": {},
   "outputs": [
    {
     "name": "stdout",
     "output_type": "stream",
     "text": [
      "Collecting datatable\n",
      "  Downloading datatable-1.0.0-cp39-cp39-win_amd64.whl (4.0 MB)\n",
      "Installing collected packages: datatable\n",
      "Successfully installed datatable-1.0.0\n",
      "Note: you may need to restart the kernel to use updated packages.\n"
     ]
    }
   ],
   "source": []
  },
  {
   "cell_type": "code",
   "execution_count": 1,
   "id": "af521b02",
   "metadata": {},
   "outputs": [
    {
     "data": {
      "text/html": [
       "<style type='text/css'>\n",
       ".datatable table.frame { margin-bottom: 0; }\n",
       ".datatable table.frame thead { border-bottom: none; }\n",
       ".datatable table.frame tr.coltypes td {  color: #FFFFFF;  line-height: 6px;  padding: 0 0.5em;}\n",
       ".datatable .bool    { background: #DDDD99; }\n",
       ".datatable .object  { background: #565656; }\n",
       ".datatable .int     { background: #5D9E5D; }\n",
       ".datatable .float   { background: #4040CC; }\n",
       ".datatable .str     { background: #CC4040; }\n",
       ".datatable .time    { background: #40CC40; }\n",
       ".datatable .row_index {  background: var(--jp-border-color3);  border-right: 1px solid var(--jp-border-color0);  color: var(--jp-ui-font-color3);  font-size: 9px;}\n",
       ".datatable .frame tbody td { text-align: left; }\n",
       ".datatable .frame tr.coltypes .row_index {  background: var(--jp-border-color0);}\n",
       ".datatable th:nth-child(2) { padding-left: 12px; }\n",
       ".datatable .hellipsis {  color: var(--jp-cell-editor-border-color);}\n",
       ".datatable .vellipsis {  background: var(--jp-layout-color0);  color: var(--jp-cell-editor-border-color);}\n",
       ".datatable .na {  color: var(--jp-cell-editor-border-color);  font-size: 80%;}\n",
       ".datatable .sp {  opacity: 0.25;}\n",
       ".datatable .footer { font-size: 9px; }\n",
       ".datatable .frame_dimensions {  background: var(--jp-border-color3);  border-top: 1px solid var(--jp-border-color0);  color: var(--jp-ui-font-color3);  display: inline-block;  opacity: 0.6;  padding: 1px 10px 1px 5px;}\n",
       "</style>\n"
      ],
      "text/plain": [
       "<IPython.core.display.HTML object>"
      ]
     },
     "metadata": {},
     "output_type": "display_data"
    }
   ],
   "source": [
    "import pandas as pd \n",
    "import matplotlib as mpl\n",
    "import matplotlib.pyplot as plt\n",
    "import datatable as dt"
   ]
  },
  {
   "cell_type": "markdown",
   "id": "0b0d02d7",
   "metadata": {},
   "source": [
    "#### IMPORT DATASETS"
   ]
  },
  {
   "cell_type": "code",
   "execution_count": 2,
   "id": "4bb368f3",
   "metadata": {},
   "outputs": [],
   "source": [
    "profiles=dt.fread(r\"D:\\DATASET_ADM-HW2\\archive\\instagram_profiles.csv\").to_pandas()"
   ]
  },
  {
   "cell_type": "code",
   "execution_count": 9,
   "id": "0596c866",
   "metadata": {},
   "outputs": [],
   "source": [
    "locations=dt.fread(r\"D:\\DATASET_ADM-HW2\\archive\\instagram_locations.csv\").to_pandas()"
   ]
  },
  {
   "cell_type": "code",
   "execution_count": 10,
   "id": "1f646f1d",
   "metadata": {},
   "outputs": [],
   "source": [
    "posts=dt.fread(r\"D:\\DATASET_ADM-HW2\\archive\\instagram_posts.csv\", \n",
    "               sep=\"\\t\", \n",
    "               columns={\"sid_profile\",\"profile_id\",\"location_id\",\"post_type\",\"numbr_likes\",\"number_comments\"}).to_pandas()"
   ]
  },
  {
   "cell_type": "markdown",
   "id": "c8bee3ea",
   "metadata": {},
   "source": [
    "#### Plot the top 10 most popular users in terms of followers and their number of posts."
   ]
  },
  {
   "cell_type": "code",
   "execution_count": 11,
   "id": "1d16c8a0",
   "metadata": {},
   "outputs": [
    {
     "name": "stdout",
     "output_type": "stream",
     "text": [
      "The ten most influential users are: ['instagram' 'victoriassecret' 'nba' 'louisvuitton' 'buzzfeedtasty'\n",
      " 'andresiniesta8' 'hm' 'princessyahrini' 'danbilzerian' 'akshaykumar']\n"
     ]
    }
   ],
   "source": [
    "ten_most_inf_user=profiles.sort_values(by=[\"followers\"],ascending=False)\n",
    "ten_most_inf_user=ten_most_inf_user.head(10)\n",
    "print(f\"The ten most influential users are: {ten_most_inf_user.profile_name.values}\")"
   ]
  },
  {
   "cell_type": "code",
   "execution_count": 12,
   "id": "9725ca28",
   "metadata": {},
   "outputs": [
    {
     "data": {
      "text/plain": [
       "<BarContainer object of 10 artists>"
      ]
     },
     "execution_count": 12,
     "metadata": {},
     "output_type": "execute_result"
    },
    {
     "data": {
      "image/png": "[encoded data removed]",
      "text/plain": [
       "<Figure size 1152x504 with 1 Axes>"
      ]
     },
     "metadata": {
      "needs_background": "light"
     },
     "output_type": "display_data"
    }
   ],
   "source": [
    "fig, ax = plt.subplots(figsize =(16, 7))\n",
    "plt.bar(ten_most_inf_user.profile_name,ten_most_inf_user.n_posts)"
   ]
  },
  {
   "cell_type": "markdown",
   "id": "005c5220",
   "metadata": {},
   "source": [
    "#### Who is the most influential user?"
   ]
  },
  {
   "cell_type": "code",
   "execution_count": 13,
   "id": "be164fa9",
   "metadata": {},
   "outputs": [
    {
     "name": "stdout",
     "output_type": "stream",
     "text": [
      "The most influential user is: instagram\n"
     ]
    }
   ],
   "source": [
    "most_inf_user=profiles.sort_values(by=\"followers\",ascending=False)\n",
    "most_inf_user=most_inf_user.head(1)\n",
    "print(f\"The most influential user is: {most_inf_user.profile_name.values[0]}\")"
   ]
  },
  {
   "cell_type": "markdown",
   "id": "55cd6753",
   "metadata": {},
   "source": [
    "#### Have they posted anything with tagged locations? Extract the most frequent areas on their posts and plot the number of times each city has been visited."
   ]
  },
  {
   "cell_type": "code",
   "execution_count": 14,
   "id": "6416966a",
   "metadata": {},
   "outputs": [],
   "source": [
    "post_ten=ten_most_inf_user.merge(posts,on=\"profile_id\")"
   ]
  },
  {
   "cell_type": "code",
   "execution_count": 15,
   "id": "9de8dac2",
   "metadata": {},
   "outputs": [],
   "source": [
    "post_ten_loc=post_ten.merge(locations, left_on=\"location_id\",right_on=\"id\")\n",
    "post_ten_loc_=post_ten_loc[[\"profile_id\",\"profile_name\",\n",
    "                           \"location_id\",\"name\",\"post_type\"]]"
   ]
  },
  {
   "cell_type": "markdown",
   "id": "50ed61f0",
   "metadata": {},
   "source": [
    "#### \n",
    "By merging the datasets through the location_id variable we can see that there is a match, so we can say that yes, the ten most influential profiles have posted something with tagged locations. "
   ]
  },
  {
   "cell_type": "code",
   "execution_count": 19,
   "id": "b26e8efc",
   "metadata": {},
   "outputs": [
    {
     "name": "stdout",
     "output_type": "stream",
     "text": [
      "The most tagged locations are:\n",
      " Sydney, Australia              9\n",
      "Victoria's Secret              4\n",
      "Kobe-shi, Hyogo, Japan         3\n",
      "Wells Fargo Center             2\n",
      "Bel-Air Estate                 2\n",
      "Bora Bora, French Polynesia    2\n",
      "Name: name, dtype: int64\n"
     ]
    }
   ],
   "source": [
    "# count how many times each locations appears\n",
    "post_ten_loc_count=post_ten_loc_.name.value_counts()\n",
    "# consider only locations that appear more than once\n",
    "post_ten_loc_count_names=post_ten_loc_count[post_ten_loc_count>1]\n",
    "print(f\"The most tagged locations are:\\n {post_ten_loc_count_names}\")"
   ]
  },
  {
   "cell_type": "code",
   "execution_count": 20,
   "id": "e905dbe4",
   "metadata": {},
   "outputs": [],
   "source": [
    "from collections import Counter\n",
    "top_10_locations = Counter(post_ten_loc.name).most_common(6)\n",
    "top_10_locations = list(zip(*top_10_locations))\n",
    "x, y = top_10_locations[0], top_10_locations[1]"
   ]
  },
  {
   "cell_type": "code",
   "execution_count": 21,
   "id": "acadb4e2",
   "metadata": {},
   "outputs": [
    {
     "data": {
      "text/plain": [
       "<BarContainer object of 6 artists>"
      ]
     },
     "execution_count": 21,
     "metadata": {},
     "output_type": "execute_result"
    },
    {
     "data": {
      "image/png": "[encoded data removed]",
      "text/plain": [
       "<Figure size 1152x504 with 1 Axes>"
      ]
     },
     "metadata": {
      "needs_background": "light"
     },
     "output_type": "display_data"
    }
   ],
   "source": [
    "fig, ax = plt.subplots(figsize =(16, 7))\n",
    "plt.bar(x, y) "
   ]
  },
  {
   "cell_type": "markdown",
   "id": "2c7998b1",
   "metadata": {},
   "source": [
    "#### How many pictures-only posts have they published? How many reels? (only videos) and how many with both contents? Provide the number as percentages and interpret those figures."
   ]
  },
  {
   "cell_type": "code",
   "execution_count": 22,
   "id": "7ac5b2f9",
   "metadata": {},
   "outputs": [
    {
     "data": {
      "text/html": [
       "<div>\n",
       "<style scoped>\n",
       "    .dataframe tbody tr th:only-of-type {\n",
       "        vertical-align: middle;\n",
       "    }\n",
       "\n",
       "    .dataframe tbody tr th {\n",
       "        vertical-align: top;\n",
       "    }\n",
       "\n",
       "    .dataframe thead th {\n",
       "        text-align: right;\n",
       "    }\n",
       "</style>\n",
       "<table border=\"1\" class=\"dataframe\">\n",
       "  <thead>\n",
       "    <tr style=\"text-align: right;\">\n",
       "      <th></th>\n",
       "      <th>sid</th>\n",
       "      <th>profile_id</th>\n",
       "      <th>profile_name</th>\n",
       "      <th>firstname_lastname</th>\n",
       "      <th>description</th>\n",
       "      <th>following</th>\n",
       "      <th>followers</th>\n",
       "      <th>n_posts</th>\n",
       "      <th>url</th>\n",
       "      <th>cts</th>\n",
       "      <th>is_business_account</th>\n",
       "      <th>sid_profile</th>\n",
       "      <th>location_id</th>\n",
       "      <th>post_type</th>\n",
       "      <th>numbr_likes</th>\n",
       "      <th>number_comments</th>\n",
       "    </tr>\n",
       "  </thead>\n",
       "  <tbody>\n",
       "    <tr>\n",
       "      <th>0</th>\n",
       "      <td>336492</td>\n",
       "      <td>25025320.0</td>\n",
       "      <td>instagram</td>\n",
       "      <td>Instagram</td>\n",
       "      <td>Bringing you closer to the people and things y...</td>\n",
       "      <td>226.0</td>\n",
       "      <td>285457645.0</td>\n",
       "      <td>5760.0</td>\n",
       "      <td>help.instagram.com</td>\n",
       "      <td></td>\n",
       "      <td>False</td>\n",
       "      <td>336492</td>\n",
       "      <td>5.332856e+06</td>\n",
       "      <td>1</td>\n",
       "      <td>125428.0</td>\n",
       "      <td>1240.0</td>\n",
       "    </tr>\n",
       "    <tr>\n",
       "      <th>1</th>\n",
       "      <td>336492</td>\n",
       "      <td>25025320.0</td>\n",
       "      <td>instagram</td>\n",
       "      <td>Instagram</td>\n",
       "      <td>Bringing you closer to the people and things y...</td>\n",
       "      <td>226.0</td>\n",
       "      <td>285457645.0</td>\n",
       "      <td>5760.0</td>\n",
       "      <td>help.instagram.com</td>\n",
       "      <td></td>\n",
       "      <td>False</td>\n",
       "      <td>336492</td>\n",
       "      <td>5.873874e+08</td>\n",
       "      <td>1</td>\n",
       "      <td>669786.0</td>\n",
       "      <td>4818.0</td>\n",
       "    </tr>\n",
       "    <tr>\n",
       "      <th>2</th>\n",
       "      <td>336492</td>\n",
       "      <td>25025320.0</td>\n",
       "      <td>instagram</td>\n",
       "      <td>Instagram</td>\n",
       "      <td>Bringing you closer to the people and things y...</td>\n",
       "      <td>226.0</td>\n",
       "      <td>285457645.0</td>\n",
       "      <td>5760.0</td>\n",
       "      <td>help.instagram.com</td>\n",
       "      <td></td>\n",
       "      <td>False</td>\n",
       "      <td>336492</td>\n",
       "      <td>8.770667e+14</td>\n",
       "      <td>1</td>\n",
       "      <td>1914299.0</td>\n",
       "      <td>20065.0</td>\n",
       "    </tr>\n",
       "    <tr>\n",
       "      <th>3</th>\n",
       "      <td>336492</td>\n",
       "      <td>25025320.0</td>\n",
       "      <td>instagram</td>\n",
       "      <td>Instagram</td>\n",
       "      <td>Bringing you closer to the people and things y...</td>\n",
       "      <td>226.0</td>\n",
       "      <td>285457645.0</td>\n",
       "      <td>5760.0</td>\n",
       "      <td>help.instagram.com</td>\n",
       "      <td></td>\n",
       "      <td>False</td>\n",
       "      <td>336492</td>\n",
       "      <td>3.500213e+08</td>\n",
       "      <td>1</td>\n",
       "      <td>840588.0</td>\n",
       "      <td>3627.0</td>\n",
       "    </tr>\n",
       "    <tr>\n",
       "      <th>4</th>\n",
       "      <td>336492</td>\n",
       "      <td>25025320.0</td>\n",
       "      <td>instagram</td>\n",
       "      <td>Instagram</td>\n",
       "      <td>Bringing you closer to the people and things y...</td>\n",
       "      <td>226.0</td>\n",
       "      <td>285457645.0</td>\n",
       "      <td>5760.0</td>\n",
       "      <td>help.instagram.com</td>\n",
       "      <td></td>\n",
       "      <td>False</td>\n",
       "      <td>336492</td>\n",
       "      <td>5.243120e+08</td>\n",
       "      <td>1</td>\n",
       "      <td>385494.0</td>\n",
       "      <td>5664.0</td>\n",
       "    </tr>\n",
       "    <tr>\n",
       "      <th>...</th>\n",
       "      <td>...</td>\n",
       "      <td>...</td>\n",
       "      <td>...</td>\n",
       "      <td>...</td>\n",
       "      <td>...</td>\n",
       "      <td>...</td>\n",
       "      <td>...</td>\n",
       "      <td>...</td>\n",
       "      <td>...</td>\n",
       "      <td>...</td>\n",
       "      <td>...</td>\n",
       "      <td>...</td>\n",
       "      <td>...</td>\n",
       "      <td>...</td>\n",
       "      <td>...</td>\n",
       "      <td>...</td>\n",
       "    </tr>\n",
       "    <tr>\n",
       "      <th>136</th>\n",
       "      <td>3513205</td>\n",
       "      <td>907025384.0</td>\n",
       "      <td>akshaykumar</td>\n",
       "      <td>Akshay Kumar</td>\n",
       "      <td>#AkshayKumar</td>\n",
       "      <td>5.0</td>\n",
       "      <td>26252169.0</td>\n",
       "      <td>1173.0</td>\n",
       "      <td>bit.ly/AliAliBlank</td>\n",
       "      <td>2019-05-14 08:29:29.754 -0400</td>\n",
       "      <td>False</td>\n",
       "      <td>3513205</td>\n",
       "      <td>NaN</td>\n",
       "      <td>1</td>\n",
       "      <td>241543.0</td>\n",
       "      <td>1152.0</td>\n",
       "    </tr>\n",
       "    <tr>\n",
       "      <th>137</th>\n",
       "      <td>3513205</td>\n",
       "      <td>907025384.0</td>\n",
       "      <td>akshaykumar</td>\n",
       "      <td>Akshay Kumar</td>\n",
       "      <td>#AkshayKumar</td>\n",
       "      <td>5.0</td>\n",
       "      <td>26252169.0</td>\n",
       "      <td>1173.0</td>\n",
       "      <td>bit.ly/AliAliBlank</td>\n",
       "      <td>2019-05-14 08:29:29.754 -0400</td>\n",
       "      <td>False</td>\n",
       "      <td>3513205</td>\n",
       "      <td>NaN</td>\n",
       "      <td>1</td>\n",
       "      <td>797506.0</td>\n",
       "      <td>2733.0</td>\n",
       "    </tr>\n",
       "    <tr>\n",
       "      <th>138</th>\n",
       "      <td>3513205</td>\n",
       "      <td>907025384.0</td>\n",
       "      <td>akshaykumar</td>\n",
       "      <td>Akshay Kumar</td>\n",
       "      <td>#AkshayKumar</td>\n",
       "      <td>5.0</td>\n",
       "      <td>26252169.0</td>\n",
       "      <td>1173.0</td>\n",
       "      <td>bit.ly/AliAliBlank</td>\n",
       "      <td>2019-05-14 08:29:29.754 -0400</td>\n",
       "      <td>False</td>\n",
       "      <td>3513205</td>\n",
       "      <td>NaN</td>\n",
       "      <td>1</td>\n",
       "      <td>921671.0</td>\n",
       "      <td>9349.0</td>\n",
       "    </tr>\n",
       "    <tr>\n",
       "      <th>139</th>\n",
       "      <td>3513205</td>\n",
       "      <td>907025384.0</td>\n",
       "      <td>akshaykumar</td>\n",
       "      <td>Akshay Kumar</td>\n",
       "      <td>#AkshayKumar</td>\n",
       "      <td>5.0</td>\n",
       "      <td>26252169.0</td>\n",
       "      <td>1173.0</td>\n",
       "      <td>bit.ly/AliAliBlank</td>\n",
       "      <td>2019-05-14 08:29:29.754 -0400</td>\n",
       "      <td>False</td>\n",
       "      <td>3513205</td>\n",
       "      <td>NaN</td>\n",
       "      <td>1</td>\n",
       "      <td>1402087.0</td>\n",
       "      <td>16180.0</td>\n",
       "    </tr>\n",
       "    <tr>\n",
       "      <th>140</th>\n",
       "      <td>3513205</td>\n",
       "      <td>907025384.0</td>\n",
       "      <td>akshaykumar</td>\n",
       "      <td>Akshay Kumar</td>\n",
       "      <td>#AkshayKumar</td>\n",
       "      <td>5.0</td>\n",
       "      <td>26252169.0</td>\n",
       "      <td>1173.0</td>\n",
       "      <td>bit.ly/AliAliBlank</td>\n",
       "      <td>2019-05-14 08:29:29.754 -0400</td>\n",
       "      <td>False</td>\n",
       "      <td>3513205</td>\n",
       "      <td>NaN</td>\n",
       "      <td>1</td>\n",
       "      <td>1646010.0</td>\n",
       "      <td>5548.0</td>\n",
       "    </tr>\n",
       "  </tbody>\n",
       "</table>\n",
       "<p>141 rows × 16 columns</p>\n",
       "</div>"
      ],
      "text/plain": [
       "         sid   profile_id profile_name firstname_lastname  \\\n",
       "0     336492   25025320.0    instagram          Instagram   \n",
       "1     336492   25025320.0    instagram          Instagram   \n",
       "2     336492   25025320.0    instagram          Instagram   \n",
       "3     336492   25025320.0    instagram          Instagram   \n",
       "4     336492   25025320.0    instagram          Instagram   \n",
       "..       ...          ...          ...                ...   \n",
       "136  3513205  907025384.0  akshaykumar       Akshay Kumar   \n",
       "137  3513205  907025384.0  akshaykumar       Akshay Kumar   \n",
       "138  3513205  907025384.0  akshaykumar       Akshay Kumar   \n",
       "139  3513205  907025384.0  akshaykumar       Akshay Kumar   \n",
       "140  3513205  907025384.0  akshaykumar       Akshay Kumar   \n",
       "\n",
       "                                           description  following  \\\n",
       "0    Bringing you closer to the people and things y...      226.0   \n",
       "1    Bringing you closer to the people and things y...      226.0   \n",
       "2    Bringing you closer to the people and things y...      226.0   \n",
       "3    Bringing you closer to the people and things y...      226.0   \n",
       "4    Bringing you closer to the people and things y...      226.0   \n",
       "..                                                 ...        ...   \n",
       "136                                       #AkshayKumar        5.0   \n",
       "137                                       #AkshayKumar        5.0   \n",
       "138                                       #AkshayKumar        5.0   \n",
       "139                                       #AkshayKumar        5.0   \n",
       "140                                       #AkshayKumar        5.0   \n",
       "\n",
       "       followers  n_posts                 url                            cts  \\\n",
       "0    285457645.0   5760.0  help.instagram.com                                  \n",
       "1    285457645.0   5760.0  help.instagram.com                                  \n",
       "2    285457645.0   5760.0  help.instagram.com                                  \n",
       "3    285457645.0   5760.0  help.instagram.com                                  \n",
       "4    285457645.0   5760.0  help.instagram.com                                  \n",
       "..           ...      ...                 ...                            ...   \n",
       "136   26252169.0   1173.0  bit.ly/AliAliBlank  2019-05-14 08:29:29.754 -0400   \n",
       "137   26252169.0   1173.0  bit.ly/AliAliBlank  2019-05-14 08:29:29.754 -0400   \n",
       "138   26252169.0   1173.0  bit.ly/AliAliBlank  2019-05-14 08:29:29.754 -0400   \n",
       "139   26252169.0   1173.0  bit.ly/AliAliBlank  2019-05-14 08:29:29.754 -0400   \n",
       "140   26252169.0   1173.0  bit.ly/AliAliBlank  2019-05-14 08:29:29.754 -0400   \n",
       "\n",
       "    is_business_account  sid_profile   location_id  post_type  numbr_likes  \\\n",
       "0                 False       336492  5.332856e+06          1     125428.0   \n",
       "1                 False       336492  5.873874e+08          1     669786.0   \n",
       "2                 False       336492  8.770667e+14          1    1914299.0   \n",
       "3                 False       336492  3.500213e+08          1     840588.0   \n",
       "4                 False       336492  5.243120e+08          1     385494.0   \n",
       "..                  ...          ...           ...        ...          ...   \n",
       "136               False      3513205           NaN          1     241543.0   \n",
       "137               False      3513205           NaN          1     797506.0   \n",
       "138               False      3513205           NaN          1     921671.0   \n",
       "139               False      3513205           NaN          1    1402087.0   \n",
       "140               False      3513205           NaN          1    1646010.0   \n",
       "\n",
       "     number_comments  \n",
       "0             1240.0  \n",
       "1             4818.0  \n",
       "2            20065.0  \n",
       "3             3627.0  \n",
       "4             5664.0  \n",
       "..               ...  \n",
       "136           1152.0  \n",
       "137           2733.0  \n",
       "138           9349.0  \n",
       "139          16180.0  \n",
       "140           5548.0  \n",
       "\n",
       "[141 rows x 16 columns]"
      ]
     },
     "execution_count": 22,
     "metadata": {},
     "output_type": "execute_result"
    }
   ],
   "source": [
    "post_ten=ten_most_inf_user.merge(posts,on=\"profile_id\")\n",
    "post_ten"
   ]
  },
  {
   "cell_type": "code",
   "execution_count": 23,
   "id": "9844c4a5",
   "metadata": {},
   "outputs": [
    {
     "name": "stdout",
     "output_type": "stream",
     "text": [
      "['instagram', 'victoriassecret', 'nba', 'louisvuitton', 'buzzfeedtasty', 'andresiniesta8', 'hm', 'princessyahrini', 'danbilzerian', 'akshaykumar']\n"
     ]
    }
   ],
   "source": [
    "profile_list=[]\n",
    "\n",
    "for i in post_ten.profile_name:\n",
    "    if i not in profile_list:\n",
    "        profile_list.append(i)\n",
    "print(profile_list)"
   ]
  },
  {
   "cell_type": "code",
   "execution_count": 26,
   "id": "df64391e",
   "metadata": {},
   "outputs": [],
   "source": [
    "def count_posts_type (profile_name):\n",
    "    rows = post_ten[post_ten.profile_name == profile_name]\n",
    "    \n",
    "    photo = rows[rows.post_type == 1].post_type.count()\n",
    "    video = rows[rows.post_type == 2].post_type.count()\n",
    "    both=rows[rows.post_type == 3].post_type.count()\n",
    "    tot=photo+video+both\n",
    "    \n",
    "    return photo/tot, video/tot, both/tot\n",
    "    "
   ]
  },
  {
   "cell_type": "code",
   "execution_count": 27,
   "id": "1ecc6802",
   "metadata": {},
   "outputs": [
    {
     "name": "stdout",
     "output_type": "stream",
     "text": [
      "instagram (0.9117647058823529, 0.08823529411764706, 0.0)\n",
      "victoriassecret (0.7142857142857143, 0.2857142857142857, 0.0)\n",
      "nba (0.7222222222222222, 0.2777777777777778, 0.0)\n",
      "louisvuitton (1.0, 0.0, 0.0)\n",
      "buzzfeedtasty (1.0, 0.0, 0.0)\n",
      "andresiniesta8 (1.0, 0.0, 0.0)\n",
      "hm (1.0, 0.0, 0.0)\n",
      "princessyahrini (0.8846153846153846, 0.11538461538461539, 0.0)\n",
      "danbilzerian (1.0, 0.0, 0.0)\n",
      "akshaykumar (1.0, 0.0, 0.0)\n"
     ]
    }
   ],
   "source": [
    "for i, profile_name in enumerate(profile_list):\n",
    "    print(profile_list[i],count_posts_type(profile_name))"
   ]
  },
  {
   "cell_type": "markdown",
   "id": "50093150",
   "metadata": {},
   "source": [
    "#### \n",
    "The first thing we can notice is that for none of the 10 profiles considered were there any posts containing both photos and videos. \n",
    "Moreover, for all profiles for which it turns out that 100% of the likes are for posts with only photos, a true interpretation cannot be given because only the type of posts with only photos were recorded, so it is not possible to make a comparison with posts in which there are also videos.\n",
    "Finally, it can be said that, in general, posts containing only photos receive the most likes.\n",
    "However, this is not a very true interpretation because if you look at the amount of registered posts divided by type, you realise that most of the registered posts for each profile contain only photos so the comparison is not made on the same conditions. "
   ]
  },
  {
   "cell_type": "markdown",
   "id": "16d108cb",
   "metadata": {},
   "source": [
    "#### How many \"likes\" and comments did posts with only pictures receive? How about videos and mixed posts? Try to provide the average numbers and confront them with their followers amount, explaining what you can say from that comparison."
   ]
  },
  {
   "cell_type": "code",
   "execution_count": 29,
   "id": "277ea3cb",
   "metadata": {},
   "outputs": [],
   "source": [
    "post_ten_followers_likes=post_ten.groupby(['profile_name',\"followers\",'post_type'],sort=False)['numbr_likes'].sum()"
   ]
  },
  {
   "cell_type": "code",
   "execution_count": 49,
   "id": "c7dcb7d8",
   "metadata": {},
   "outputs": [],
   "source": [
    "def avg_likes (profile_name):\n",
    "    rows = post_ten[post_ten.profile_name == profile_name]\n",
    "    \n",
    "    photo = rows[rows.post_type == 1].numbr_likes.sum()\n",
    "    video = rows[rows.post_type == 2].numbr_likes.sum()\n",
    "    \n",
    "    tot=rows.n_posts.sum()\n",
    "    \n",
    "    return photo/tot, video/tot"
   ]
  },
  {
   "cell_type": "code",
   "execution_count": 53,
   "id": "3d134375",
   "metadata": {},
   "outputs": [],
   "source": [
    "avg_likes_post_type1=[]\n",
    "avg_likes_post_type2=[]\n",
    "\n",
    "for profile_name in profile_list:\n",
    "    a, b = avg_likes(profile_name)\n",
    "    avg_likes_post_type1.append(a)\n",
    "    avg_likes_post_type2.append(b)\n",
    "#print(avg_likes_post_type1,avg_likes_post_type2)"
   ]
  },
  {
   "cell_type": "code",
   "execution_count": 54,
   "id": "5edde9d2",
   "metadata": {},
   "outputs": [],
   "source": [
    "ten_most_inf_user[\"avg_photo_likes\"]=avg_likes_post_type1\n",
    "ten_most_inf_user[\"avg_video_likes\"]=avg_likes_post_type2"
   ]
  },
  {
   "cell_type": "code",
   "execution_count": 57,
   "id": "0298aaf8",
   "metadata": {},
   "outputs": [],
   "source": [
    "df_new = ten_most_inf_user[['profile_name', 'followers', \"n_posts\", \"avg_photo_likes\",\"avg_video_likes\"]]"
   ]
  },
  {
   "cell_type": "code",
   "execution_count": 58,
   "id": "4a9e278d",
   "metadata": {},
   "outputs": [
    {
     "data": {
      "text/html": [
       "<div>\n",
       "<style scoped>\n",
       "    .dataframe tbody tr th:only-of-type {\n",
       "        vertical-align: middle;\n",
       "    }\n",
       "\n",
       "    .dataframe tbody tr th {\n",
       "        vertical-align: top;\n",
       "    }\n",
       "\n",
       "    .dataframe thead th {\n",
       "        text-align: right;\n",
       "    }\n",
       "</style>\n",
       "<table border=\"1\" class=\"dataframe\">\n",
       "  <thead>\n",
       "    <tr style=\"text-align: right;\">\n",
       "      <th></th>\n",
       "      <th>profile_name</th>\n",
       "      <th>followers</th>\n",
       "      <th>n_posts</th>\n",
       "      <th>avg_photo_likes</th>\n",
       "      <th>avg_video_likes</th>\n",
       "    </tr>\n",
       "  </thead>\n",
       "  <tbody>\n",
       "    <tr>\n",
       "      <th>2880218</th>\n",
       "      <td>instagram</td>\n",
       "      <td>285457645.0</td>\n",
       "      <td>5760.0</td>\n",
       "      <td>143.402456</td>\n",
       "      <td>9.090222</td>\n",
       "    </tr>\n",
       "    <tr>\n",
       "      <th>2582507</th>\n",
       "      <td>victoriassecret</td>\n",
       "      <td>65269440.0</td>\n",
       "      <td>7355.0</td>\n",
       "      <td>22.409420</td>\n",
       "      <td>10.154725</td>\n",
       "    </tr>\n",
       "    <tr>\n",
       "      <th>3820939</th>\n",
       "      <td>nba</td>\n",
       "      <td>35339708.0</td>\n",
       "      <td>28816.0</td>\n",
       "      <td>6.071210</td>\n",
       "      <td>1.998269</td>\n",
       "    </tr>\n",
       "    <tr>\n",
       "      <th>701965</th>\n",
       "      <td>louisvuitton</td>\n",
       "      <td>30689316.0</td>\n",
       "      <td>3352.0</td>\n",
       "      <td>55.744928</td>\n",
       "      <td>0.000000</td>\n",
       "    </tr>\n",
       "    <tr>\n",
       "      <th>2414951</th>\n",
       "      <td>buzzfeedtasty</td>\n",
       "      <td>30246783.0</td>\n",
       "      <td>2791.0</td>\n",
       "      <td>36.138632</td>\n",
       "      <td>0.000000</td>\n",
       "    </tr>\n",
       "    <tr>\n",
       "      <th>2785241</th>\n",
       "      <td>andresiniesta8</td>\n",
       "      <td>29542143.0</td>\n",
       "      <td>990.0</td>\n",
       "      <td>477.800673</td>\n",
       "      <td>0.000000</td>\n",
       "    </tr>\n",
       "    <tr>\n",
       "      <th>333193</th>\n",
       "      <td>hm</td>\n",
       "      <td>29176804.0</td>\n",
       "      <td>4566.0</td>\n",
       "      <td>17.786575</td>\n",
       "      <td>0.000000</td>\n",
       "    </tr>\n",
       "    <tr>\n",
       "      <th>3934581</th>\n",
       "      <td>princessyahrini</td>\n",
       "      <td>29042823.0</td>\n",
       "      <td>4719.0</td>\n",
       "      <td>26.595327</td>\n",
       "      <td>1.021166</td>\n",
       "    </tr>\n",
       "    <tr>\n",
       "      <th>1311970</th>\n",
       "      <td>danbilzerian</td>\n",
       "      <td>26476004.0</td>\n",
       "      <td>1311.0</td>\n",
       "      <td>658.362522</td>\n",
       "      <td>0.000000</td>\n",
       "    </tr>\n",
       "    <tr>\n",
       "      <th>1703764</th>\n",
       "      <td>akshaykumar</td>\n",
       "      <td>26252169.0</td>\n",
       "      <td>1173.0</td>\n",
       "      <td>875.619647</td>\n",
       "      <td>0.000000</td>\n",
       "    </tr>\n",
       "  </tbody>\n",
       "</table>\n",
       "</div>"
      ],
      "text/plain": [
       "            profile_name    followers  n_posts  avg_photo_likes  \\\n",
       "2880218        instagram  285457645.0   5760.0       143.402456   \n",
       "2582507  victoriassecret   65269440.0   7355.0        22.409420   \n",
       "3820939              nba   35339708.0  28816.0         6.071210   \n",
       "701965      louisvuitton   30689316.0   3352.0        55.744928   \n",
       "2414951    buzzfeedtasty   30246783.0   2791.0        36.138632   \n",
       "2785241   andresiniesta8   29542143.0    990.0       477.800673   \n",
       "333193                hm   29176804.0   4566.0        17.786575   \n",
       "3934581  princessyahrini   29042823.0   4719.0        26.595327   \n",
       "1311970     danbilzerian   26476004.0   1311.0       658.362522   \n",
       "1703764      akshaykumar   26252169.0   1173.0       875.619647   \n",
       "\n",
       "         avg_video_likes  \n",
       "2880218         9.090222  \n",
       "2582507        10.154725  \n",
       "3820939         1.998269  \n",
       "701965          0.000000  \n",
       "2414951         0.000000  \n",
       "2785241         0.000000  \n",
       "333193          0.000000  \n",
       "3934581         1.021166  \n",
       "1311970         0.000000  \n",
       "1703764         0.000000  "
      ]
     },
     "execution_count": 58,
     "metadata": {},
     "output_type": "execute_result"
    }
   ],
   "source": [
    "df_new"
   ]
  },
  {
   "cell_type": "markdown",
   "id": "de0861a0",
   "metadata": {},
   "source": [
    "#### \n",
    "As in the previous question, it must be taken into account that for some profiles posts containing videos were not recorded and that the number of posts containing videos recorded is less than those containing photos, so the comparison is not entirely true. \n",
    "However, if we were to compare the average number of likes per photo against the number of followers, what we deduce is that the 'active' followers of each profile are very few compared to the actual followers following each account. \n",
    "This is particularly evident for the NBA profile and the HM profile, but also for Louis Vuitton, Buzz Feed Tasty and Princess Yahrini. "
   ]
  },
  {
   "cell_type": "code",
   "execution_count": null,
   "id": "90aa7609",
   "metadata": {},
   "outputs": [],
   "source": []
  },
  {
   "cell_type": "code",
   "execution_count": null,
   "id": "9e8e4110",
   "metadata": {},
   "outputs": [],
   "source": []
  },
  {
   "cell_type": "code",
   "execution_count": 3,
   "id": "309f99f5",
   "metadata": {},
   "outputs": [],
   "source": []
  },
  {
   "cell_type": "code",
   "execution_count": null,
   "id": "5ab0af23",
   "metadata": {},
   "outputs": [],
   "source": []
  },
  {
   "cell_type": "code",
   "execution_count": null,
   "id": "d1a3f610",
   "metadata": {},
   "outputs": [],
   "source": []
  },
  {
   "cell_type": "code",
   "execution_count": null,
   "id": "3264b813",
   "metadata": {},
   "outputs": [],
   "source": []
  },
  {
   "cell_type": "code",
   "execution_count": null,
   "id": "bbff77f9",
   "metadata": {},
   "outputs": [],
   "source": []
  },
  {
   "cell_type": "code",
   "execution_count": null,
   "id": "313587b2",
   "metadata": {},
   "outputs": [],
   "source": []
  },
  {
   "cell_type": "code",
   "execution_count": null,
   "id": "aeb94aa6",
   "metadata": {},
   "outputs": [],
   "source": []
  },
  {
   "cell_type": "code",
   "execution_count": null,
   "id": "52fdfcdb",
   "metadata": {},
   "outputs": [],
   "source": []
  },
  {
   "cell_type": "code",
   "execution_count": null,
   "id": "618933e2",
   "metadata": {},
   "outputs": [],
   "source": []
  }
 ],
 "metadata": {
  "kernelspec": {
   "display_name": "Python 3 (ipykernel)",
   "language": "python",
   "name": "python3"
  },
  "language_info": {
   "codemirror_mode": {
    "name": "ipython",
    "version": 3
   },
   "file_extension": ".py",
   "mimetype": "text/x-python",
   "name": "python",
   "nbconvert_exporter": "python",
   "pygments_lexer": "ipython3",
   "version": "3.9.12"
  }
 },
 "nbformat": 4,
 "nbformat_minor": 5
}
