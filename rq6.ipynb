{
 "cells": [
  {
   "cell_type": "markdown",
   "id": "8890a2c3",
   "metadata": {},
   "source": [
    "# RQ6 Posting Effectiveness\n",
    "\n",
    "For this question, we need to consider two datasets:\n",
    "* instagram_profiles\n",
    "* instagram_posts\n",
    "\n",
    "## Finding the average time a user lets pass\n",
    "To find the average time a user lets pass before posting another post, one can do the following:\n",
    "1. Get all profiles from the profiles dataset.\n",
    "2. For each profile, find the maximum and minimum post time in the posts dataset.\n",
    "3. Find the average by subtracting the minimum post time from the maximum post time and dividing by the number of posts the profile has.\n",
    "4. Take the average of all post frequency averages.\n",
    "\n",
    "Caveats:\n",
    "* Not all profiles that appear in the profiles dataset also appear in the posts dataset (even if they have posts). Since we care about finding the average time, a user MUST exist in the posts dataset for the analysis to be conclusive.\n",
    "* The number of posts for each profile shown in the profiles dataset is unreliable, meaning that it doesn't mean that all those posts will be found in the posts dataset.\n",
    "\n",
    "Choices:\n",
    "* Only consider users that appear in both posts and profiles dataset.\n",
    "* Remove posts that don't have a post time."
   ]
  },
  {
   "cell_type": "code",
   "execution_count": 1,
   "id": "ff6e737d",
   "metadata": {},
   "outputs": [],
   "source": [
    "import pandas as pd\n",
    "import matplotlib.pyplot as plt\n",
    "import numpy as np"
   ]
  },
  {
   "cell_type": "code",
   "execution_count": 94,
   "id": "2ed560c3",
   "metadata": {},
   "outputs": [],
   "source": [
    "profiles = pd.read_csv('data/instagram_profiles.csv', sep='\\t', usecols=['profile_id', 'profile_name', 'n_posts', 'following', 'followers'])\n",
    "profiles = profiles[profiles.profile_id.notnull()]\n",
    "profiles.profile_id = profiles.profile_id.astype('Int64')\n",
    "profiles = profiles.drop_duplicates(subset='profile_id', keep=\"last\")\n",
    "profiles = profiles.sort_values(by='profile_id')"
   ]
  },
  {
   "cell_type": "code",
   "execution_count": 3,
   "id": "74cb0ef9",
   "metadata": {},
   "outputs": [],
   "source": [
    "posts = pd.read_csv('data/instagram_posts.csv', sep='\\t', usecols=['profile_id', 'cts'], parse_dates=['cts'], index_col=False)"
   ]
  },
  {
   "cell_type": "code",
   "execution_count": 99,
   "id": "f2c5c860",
   "metadata": {},
   "outputs": [],
   "source": [
    "filtered_posts = posts.dropna()\n",
    "filtered_posts = filtered_posts[filtered_posts.profile_id.isin(profiles.profile_id)]\n",
    "sorted_posts = filtered_posts.sort_values(by='profile_id')"
   ]
  },
  {
   "cell_type": "code",
   "execution_count": 95,
   "id": "b4594961",
   "metadata": {},
   "outputs": [],
   "source": [
    "profiles_with_posts = profiles[profiles.profile_id.isin(sorted_posts.profile_id.unique())]"
   ]
  },
  {
   "cell_type": "code",
   "execution_count": 104,
   "id": "d32e3f63",
   "metadata": {},
   "outputs": [
    {
     "name": "stderr",
     "output_type": "stream",
     "text": [
      "C:\\Users\\Jonas\\AppData\\Local\\Temp\\ipykernel_3728\\4124026347.py:2: SettingWithCopyWarning: \n",
      "A value is trying to be set on a copy of a slice from a DataFrame.\n",
      "Try using .loc[row_indexer,col_indexer] = value instead\n",
      "\n",
      "See the caveats in the documentation: https://pandas.pydata.org/pandas-docs/stable/user_guide/indexing.html#returning-a-view-versus-a-copy\n",
      "  profiles_with_posts['true_n_posts'] = sorted_posts.groupby('profile_id')['profile_id'].count().values\n"
     ]
    }
   ],
   "source": [
    "# count the actual number of posts\n",
    "profiles_with_posts['true_n_posts'] = sorted_posts.groupby('profile_id')['profile_id'].count().values"
   ]
  },
  {
   "cell_type": "code",
   "execution_count": 107,
   "id": "470d6995",
   "metadata": {},
   "outputs": [],
   "source": [
    "sorted_post_times = sorted_posts.cts.values"
   ]
  },
  {
   "cell_type": "code",
   "execution_count": 110,
   "id": "122b477c",
   "metadata": {},
   "outputs": [
    {
     "name": "stderr",
     "output_type": "stream",
     "text": [
      "C:\\Users\\Jonas\\AppData\\Local\\Temp\\ipykernel_3728\\1224487006.py:2: SettingWithCopyWarning: \n",
      "A value is trying to be set on a copy of a slice from a DataFrame.\n",
      "Try using .loc[row_indexer,col_indexer] = value instead\n",
      "\n",
      "See the caveats in the documentation: https://pandas.pydata.org/pandas-docs/stable/user_guide/indexing.html#returning-a-view-versus-a-copy\n",
      "  profiles_with_posts['start_index'] = profiles_with_posts.true_n_posts.shift(1)\n",
      "C:\\Users\\Jonas\\AppData\\Local\\Temp\\ipykernel_3728\\1224487006.py:3: SettingWithCopyWarning: \n",
      "A value is trying to be set on a copy of a slice from a DataFrame.\n",
      "Try using .loc[row_indexer,col_indexer] = value instead\n",
      "\n",
      "See the caveats in the documentation: https://pandas.pydata.org/pandas-docs/stable/user_guide/indexing.html#returning-a-view-versus-a-copy\n",
      "  profiles_with_posts.start_index = profiles_with_posts.start_index.cumsum().astype('Int64')\n"
     ]
    }
   ],
   "source": [
    "# Find the indeces\n",
    "profiles_with_posts['start_index'] = profiles_with_posts.true_n_posts.shift(1)\n",
    "profiles_with_posts.start_index = profiles_with_posts.start_index.cumsum().astype('Int64')\n",
    "profiles_with_posts.iloc[0, -1] = 0"
   ]
  },
  {
   "cell_type": "code",
   "execution_count": 117,
   "id": "a02fc97e",
   "metadata": {},
   "outputs": [],
   "source": [
    "def find_time_stamps(profile_id, n_posts, start_index):\n",
    "\n",
    "    start_index = int(start_index)\n",
    "    n_posts = int(n_posts)\n",
    "    profile_post_times = sorted_post_times[start_index:start_index + n_posts]\n",
    "    \n",
    "    min_post_time = profile_post_times.min()\n",
    "    max_post_time = profile_post_times.max()\n",
    "  \n",
    "    return max_post_time, min_post_time"
   ]
  },
  {
   "cell_type": "code",
   "execution_count": 119,
   "id": "32a61d14",
   "metadata": {},
   "outputs": [],
   "source": [
    "max_post, min_post = np.vectorize(find_time_stamps)(profiles_with_posts.profile_id, profiles_with_posts.true_n_posts, profiles_with_posts.start_index)"
   ]
  },
  {
   "cell_type": "code",
   "execution_count": 120,
   "id": "e8cb918f",
   "metadata": {},
   "outputs": [
    {
     "name": "stderr",
     "output_type": "stream",
     "text": [
      "C:\\Users\\Jonas\\AppData\\Local\\Temp\\ipykernel_3728\\1394401756.py:1: SettingWithCopyWarning: \n",
      "A value is trying to be set on a copy of a slice from a DataFrame.\n",
      "Try using .loc[row_indexer,col_indexer] = value instead\n",
      "\n",
      "See the caveats in the documentation: https://pandas.pydata.org/pandas-docs/stable/user_guide/indexing.html#returning-a-view-versus-a-copy\n",
      "  profiles_with_posts['max_post'] = max_post\n",
      "C:\\Users\\Jonas\\AppData\\Local\\Temp\\ipykernel_3728\\1394401756.py:2: SettingWithCopyWarning: \n",
      "A value is trying to be set on a copy of a slice from a DataFrame.\n",
      "Try using .loc[row_indexer,col_indexer] = value instead\n",
      "\n",
      "See the caveats in the documentation: https://pandas.pydata.org/pandas-docs/stable/user_guide/indexing.html#returning-a-view-versus-a-copy\n",
      "  profiles_with_posts['min_post'] = min_post\n"
     ]
    }
   ],
   "source": [
    "profiles_with_posts['max_post'] = max_post\n",
    "profiles_with_posts['min_post'] = min_post"
   ]
  },
  {
   "cell_type": "code",
   "execution_count": 124,
   "id": "0a7c606d",
   "metadata": {},
   "outputs": [
    {
     "name": "stderr",
     "output_type": "stream",
     "text": [
      "C:\\Users\\Jonas\\AppData\\Local\\Temp\\ipykernel_3728\\1236382602.py:1: SettingWithCopyWarning: \n",
      "A value is trying to be set on a copy of a slice from a DataFrame.\n",
      "Try using .loc[row_indexer,col_indexer] = value instead\n",
      "\n",
      "See the caveats in the documentation: https://pandas.pydata.org/pandas-docs/stable/user_guide/indexing.html#returning-a-view-versus-a-copy\n",
      "  profiles_with_posts['post_time_delta'] = profiles_with_posts.max_post - profiles_with_posts.min_post\n",
      "C:\\Users\\Jonas\\AppData\\Local\\Temp\\ipykernel_3728\\1236382602.py:2: SettingWithCopyWarning: \n",
      "A value is trying to be set on a copy of a slice from a DataFrame.\n",
      "Try using .loc[row_indexer,col_indexer] = value instead\n",
      "\n",
      "See the caveats in the documentation: https://pandas.pydata.org/pandas-docs/stable/user_guide/indexing.html#returning-a-view-versus-a-copy\n",
      "  profiles_with_posts['avg_post_time'] = profiles_with_posts.post_time_delta / (profiles_with_posts.true_n_posts - 1)\n"
     ]
    }
   ],
   "source": [
    "profiles_with_posts['post_time_delta'] = profiles_with_posts.max_post - profiles_with_posts.min_post\n",
    "profiles_with_posts['avg_post_time'] = profiles_with_posts.post_time_delta / (profiles_with_posts.true_n_posts - 1)"
   ]
  },
  {
   "cell_type": "markdown",
   "id": "0d718bb2",
   "metadata": {},
   "source": [
    "### What is the average time (days and minutes) a user lets pass before publishing another post?\n",
    "\n",
    "#### How to answer this question\n",
    "1. Get all profiles from the `profiles.csv` dataset. \n",
    "2. For each profile, find the maximum and minimum post time in the `posts.csv` dataset.\n",
    "3. Find the average by subtracting the minimum post time from the maximum post time and dividing by the number of posts the profile has.\n",
    "4. Take the average of all post frequency averages.\n",
    "\n",
    "The answer to this question is somewhat distorted by people who have either posted 0 or 1 posts. In both scenarios, the average post time will be 0, which doesn't contribute to increasing the cumulative average post time of all users.\n",
    "\n",
    "Hence, users with 0 or 1 posts reduce the overall average post time."
   ]
  },
  {
   "cell_type": "code",
   "execution_count": 127,
   "id": "5f538c7c",
   "metadata": {},
   "outputs": [],
   "source": [
    "def timedelta_to_days_minutes(timedelta):\n",
    "    \"\"\"Converts a timedelta to days and minutes.\n",
    "    \n",
    "    :args\n",
    "    timestamp - a pandas timestamp\n",
    "    \n",
    "    :returns\n",
    "    (days, minutes) - a tuple containing the days and minutes of the timedelta\n",
    "    \"\"\"\n",
    "    \n",
    "    minutes = timedelta.components[1] * 60 + timedelta.components[2]\n",
    "    \n",
    "    return timedelta.days, minutes"
   ]
  },
  {
   "cell_type": "code",
   "execution_count": 128,
   "id": "40a08b68",
   "metadata": {},
   "outputs": [
    {
     "name": "stdout",
     "output_type": "stream",
     "text": [
      "Average time for a user lets pass before publishing another post, taking into account all users, is 30 days and 127 minutes.\n"
     ]
    }
   ],
   "source": [
    "days, minutes = timedelta_to_days_minutes(profiles_with_posts.avg_post_time.mean())\n",
    "print(f\"Average time for a user lets pass before publishing another post, taking into account all users, is {days} days and {minutes} minutes.\")"
   ]
  },
  {
   "cell_type": "code",
   "execution_count": 136,
   "id": "5ebb1686",
   "metadata": {},
   "outputs": [
    {
     "name": "stdout",
     "output_type": "stream",
     "text": [
      "Average time for a user lets pass before publishing another post, ignoring users who only posted 0 or 1 times, is 30 days and 127 minutes.\n"
     ]
    }
   ],
   "source": [
    "days, minutes = timedelta_to_days_minutes(profiles_with_posts[profiles_with_posts.true_n_posts > 1].avg_post_time.mean())\n",
    "print(f\"Average time for a user lets pass before publishing another post, ignoring users who only posted 0 or 1 times, is {days} days and {minutes} minutes.\")"
   ]
  },
  {
   "cell_type": "markdown",
   "id": "56664fa8",
   "metadata": {},
   "source": [
    "### Plot the top 3 users that publish posts more frequently (calculate the average time that passes between posts), including their amount of followers and following. Provide insights from that chart.\n",
    "\n",
    "We will ignore users with 0 or 1 posts here since they have an average post time of 0."
   ]
  },
  {
   "cell_type": "code",
   "execution_count": 137,
   "id": "efe6a539",
   "metadata": {},
   "outputs": [],
   "source": [
    "filtered_profiles = profiles_with_post[profiles.n_posts > 1]\n",
    "top_3_users = profiles_with_posts.sort_values(by='avg_post_time').head(3)"
   ]
  },
  {
   "cell_type": "code",
   "execution_count": 133,
   "id": "e6412364",
   "metadata": {},
   "outputs": [
    {
     "data": {
      "text/html": [
       "<div>\n",
       "<style scoped>\n",
       "    .dataframe tbody tr th:only-of-type {\n",
       "        vertical-align: middle;\n",
       "    }\n",
       "\n",
       "    .dataframe tbody tr th {\n",
       "        vertical-align: top;\n",
       "    }\n",
       "\n",
       "    .dataframe thead th {\n",
       "        text-align: right;\n",
       "    }\n",
       "</style>\n",
       "<table border=\"1\" class=\"dataframe\">\n",
       "  <thead>\n",
       "    <tr style=\"text-align: right;\">\n",
       "      <th></th>\n",
       "      <th>profile_id</th>\n",
       "      <th>profile_name</th>\n",
       "      <th>following</th>\n",
       "      <th>followers</th>\n",
       "      <th>n_posts</th>\n",
       "      <th>true_n_posts</th>\n",
       "      <th>start_index</th>\n",
       "      <th>max_post</th>\n",
       "      <th>min_post</th>\n",
       "      <th>post_time_delta</th>\n",
       "      <th>avg_post_time</th>\n",
       "    </tr>\n",
       "  </thead>\n",
       "  <tbody>\n",
       "    <tr>\n",
       "      <th>3793471</th>\n",
       "      <td>7489389995</td>\n",
       "      <td>bassamaludovic5522</td>\n",
       "      <td>139.0</td>\n",
       "      <td>59.0</td>\n",
       "      <td>2.0</td>\n",
       "      <td>2</td>\n",
       "      <td>21718985</td>\n",
       "      <td>2018-04-12 17:18:11</td>\n",
       "      <td>2018-04-12 17:18:11</td>\n",
       "      <td>0 days 00:00:00</td>\n",
       "      <td>0 days 00:00:00</td>\n",
       "    </tr>\n",
       "    <tr>\n",
       "      <th>2445653</th>\n",
       "      <td>8801686</td>\n",
       "      <td>alex_dinsdale</td>\n",
       "      <td>1572.0</td>\n",
       "      <td>705.0</td>\n",
       "      <td>1590.0</td>\n",
       "      <td>2</td>\n",
       "      <td>784912</td>\n",
       "      <td>2018-09-09 02:19:42</td>\n",
       "      <td>2018-09-09 02:19:42</td>\n",
       "      <td>0 days 00:00:00</td>\n",
       "      <td>0 days 00:00:00</td>\n",
       "    </tr>\n",
       "    <tr>\n",
       "      <th>1083546</th>\n",
       "      <td>1823731731</td>\n",
       "      <td>twine_9</td>\n",
       "      <td>1009.0</td>\n",
       "      <td>30.0</td>\n",
       "      <td>2.0</td>\n",
       "      <td>2</td>\n",
       "      <td>13327349</td>\n",
       "      <td>2017-09-24 15:06:46</td>\n",
       "      <td>2017-09-24 15:06:46</td>\n",
       "      <td>0 days 00:00:00</td>\n",
       "      <td>0 days 00:00:00</td>\n",
       "    </tr>\n",
       "    <tr>\n",
       "      <th>860099</th>\n",
       "      <td>6824887607</td>\n",
       "      <td>whoareyou10111</td>\n",
       "      <td>556.0</td>\n",
       "      <td>27.0</td>\n",
       "      <td>2.0</td>\n",
       "      <td>2</td>\n",
       "      <td>20822221</td>\n",
       "      <td>2017-12-28 23:24:55</td>\n",
       "      <td>2017-12-28 23:24:55</td>\n",
       "      <td>0 days 00:00:00</td>\n",
       "      <td>0 days 00:00:00</td>\n",
       "    </tr>\n",
       "    <tr>\n",
       "      <th>1284883</th>\n",
       "      <td>5556785151</td>\n",
       "      <td>garrison_marilyn</td>\n",
       "      <td>17.0</td>\n",
       "      <td>26.0</td>\n",
       "      <td>2.0</td>\n",
       "      <td>2</td>\n",
       "      <td>19120751</td>\n",
       "      <td>2017-06-05 01:40:35</td>\n",
       "      <td>2017-06-05 01:40:35</td>\n",
       "      <td>0 days 00:00:00</td>\n",
       "      <td>0 days 00:00:00</td>\n",
       "    </tr>\n",
       "    <tr>\n",
       "      <th>3054841</th>\n",
       "      <td>9197904884</td>\n",
       "      <td>al.ya5116</td>\n",
       "      <td>30.0</td>\n",
       "      <td>37.0</td>\n",
       "      <td>2.0</td>\n",
       "      <td>2</td>\n",
       "      <td>23672661</td>\n",
       "      <td>2018-11-08 08:50:47</td>\n",
       "      <td>2018-11-08 08:50:47</td>\n",
       "      <td>0 days 00:00:00</td>\n",
       "      <td>0 days 00:00:00</td>\n",
       "    </tr>\n",
       "    <tr>\n",
       "      <th>3227001</th>\n",
       "      <td>6324740239</td>\n",
       "      <td>roseanne4247</td>\n",
       "      <td>1377.0</td>\n",
       "      <td>288.0</td>\n",
       "      <td>2.0</td>\n",
       "      <td>2</td>\n",
       "      <td>20396391</td>\n",
       "      <td>2017-11-03 13:07:59</td>\n",
       "      <td>2017-11-03 13:07:59</td>\n",
       "      <td>0 days 00:00:00</td>\n",
       "      <td>0 days 00:00:00</td>\n",
       "    </tr>\n",
       "    <tr>\n",
       "      <th>1263527</th>\n",
       "      <td>10360928171</td>\n",
       "      <td>worldrecordeggsouthafrica</td>\n",
       "      <td>5115.0</td>\n",
       "      <td>149.0</td>\n",
       "      <td>2.0</td>\n",
       "      <td>2</td>\n",
       "      <td>24222557</td>\n",
       "      <td>2019-03-04 10:48:30</td>\n",
       "      <td>2019-03-04 10:48:30</td>\n",
       "      <td>0 days 00:00:00</td>\n",
       "      <td>0 days 00:00:00</td>\n",
       "    </tr>\n",
       "    <tr>\n",
       "      <th>2006244</th>\n",
       "      <td>9187046644</td>\n",
       "      <td>nurhakocak.65857</td>\n",
       "      <td>5087.0</td>\n",
       "      <td>139.0</td>\n",
       "      <td>2.0</td>\n",
       "      <td>2</td>\n",
       "      <td>23659115</td>\n",
       "      <td>2018-11-24 16:43:21</td>\n",
       "      <td>2018-11-24 16:43:21</td>\n",
       "      <td>0 days 00:00:00</td>\n",
       "      <td>0 days 00:00:00</td>\n",
       "    </tr>\n",
       "    <tr>\n",
       "      <th>2908530</th>\n",
       "      <td>6109197943</td>\n",
       "      <td>no.name7291</td>\n",
       "      <td>2435.0</td>\n",
       "      <td>76.0</td>\n",
       "      <td>13.0</td>\n",
       "      <td>12</td>\n",
       "      <td>20098423</td>\n",
       "      <td>2018-12-16 06:49:14</td>\n",
       "      <td>2018-12-16 06:49:13</td>\n",
       "      <td>0 days 00:00:01</td>\n",
       "      <td>0 days 00:00:00.090909090</td>\n",
       "    </tr>\n",
       "  </tbody>\n",
       "</table>\n",
       "</div>"
      ],
      "text/plain": [
       "          profile_id               profile_name  following  followers  \\\n",
       "3793471   7489389995         bassamaludovic5522      139.0       59.0   \n",
       "2445653      8801686              alex_dinsdale     1572.0      705.0   \n",
       "1083546   1823731731                    twine_9     1009.0       30.0   \n",
       "860099    6824887607             whoareyou10111      556.0       27.0   \n",
       "1284883   5556785151           garrison_marilyn       17.0       26.0   \n",
       "3054841   9197904884                  al.ya5116       30.0       37.0   \n",
       "3227001   6324740239               roseanne4247     1377.0      288.0   \n",
       "1263527  10360928171  worldrecordeggsouthafrica     5115.0      149.0   \n",
       "2006244   9187046644           nurhakocak.65857     5087.0      139.0   \n",
       "2908530   6109197943                no.name7291     2435.0       76.0   \n",
       "\n",
       "         n_posts  true_n_posts  start_index            max_post  \\\n",
       "3793471      2.0             2     21718985 2018-04-12 17:18:11   \n",
       "2445653   1590.0             2       784912 2018-09-09 02:19:42   \n",
       "1083546      2.0             2     13327349 2017-09-24 15:06:46   \n",
       "860099       2.0             2     20822221 2017-12-28 23:24:55   \n",
       "1284883      2.0             2     19120751 2017-06-05 01:40:35   \n",
       "3054841      2.0             2     23672661 2018-11-08 08:50:47   \n",
       "3227001      2.0             2     20396391 2017-11-03 13:07:59   \n",
       "1263527      2.0             2     24222557 2019-03-04 10:48:30   \n",
       "2006244      2.0             2     23659115 2018-11-24 16:43:21   \n",
       "2908530     13.0            12     20098423 2018-12-16 06:49:14   \n",
       "\n",
       "                   min_post post_time_delta             avg_post_time  \n",
       "3793471 2018-04-12 17:18:11 0 days 00:00:00           0 days 00:00:00  \n",
       "2445653 2018-09-09 02:19:42 0 days 00:00:00           0 days 00:00:00  \n",
       "1083546 2017-09-24 15:06:46 0 days 00:00:00           0 days 00:00:00  \n",
       "860099  2017-12-28 23:24:55 0 days 00:00:00           0 days 00:00:00  \n",
       "1284883 2017-06-05 01:40:35 0 days 00:00:00           0 days 00:00:00  \n",
       "3054841 2018-11-08 08:50:47 0 days 00:00:00           0 days 00:00:00  \n",
       "3227001 2017-11-03 13:07:59 0 days 00:00:00           0 days 00:00:00  \n",
       "1263527 2019-03-04 10:48:30 0 days 00:00:00           0 days 00:00:00  \n",
       "2006244 2018-11-24 16:43:21 0 days 00:00:00           0 days 00:00:00  \n",
       "2908530 2018-12-16 06:49:13 0 days 00:00:01 0 days 00:00:00.090909090  "
      ]
     },
     "execution_count": 133,
     "metadata": {},
     "output_type": "execute_result"
    }
   ],
   "source": [
    "top_3_users"
   ]
  },
  {
   "cell_type": "code",
   "execution_count": 39,
   "id": "e495ea04",
   "metadata": {},
   "outputs": [
    {
     "data": {
      "text/plain": [
       "2235637    1524289417\n",
       "3380299    3308136716\n",
       "948783     3308141582\n",
       "Name: profile_id, dtype: Int64"
      ]
     },
     "execution_count": 39,
     "metadata": {},
     "output_type": "execute_result"
    }
   ],
   "source": [
    "top_3_users.profile_id.astype('Int64')"
   ]
  },
  {
   "cell_type": "code",
   "execution_count": 57,
   "id": "88cc2da6",
   "metadata": {},
   "outputs": [
    {
     "data": {
      "text/plain": [
       "NaT"
      ]
     },
     "execution_count": 57,
     "metadata": {},
     "output_type": "execute_result"
    }
   ],
   "source": [
    "posts[posts.profile_id == 1446650654].cts.max()"
   ]
  },
  {
   "cell_type": "code",
   "execution_count": 62,
   "id": "dcfae454",
   "metadata": {},
   "outputs": [
    {
     "data": {
      "text/html": [
       "<div>\n",
       "<style scoped>\n",
       "    .dataframe tbody tr th:only-of-type {\n",
       "        vertical-align: middle;\n",
       "    }\n",
       "\n",
       "    .dataframe tbody tr th {\n",
       "        vertical-align: top;\n",
       "    }\n",
       "\n",
       "    .dataframe thead th {\n",
       "        text-align: right;\n",
       "    }\n",
       "</style>\n",
       "<table border=\"1\" class=\"dataframe\">\n",
       "  <thead>\n",
       "    <tr style=\"text-align: right;\">\n",
       "      <th></th>\n",
       "      <th>profile_id</th>\n",
       "      <th>profile_name</th>\n",
       "      <th>following</th>\n",
       "      <th>followers</th>\n",
       "      <th>n_posts</th>\n",
       "      <th>start_index</th>\n",
       "      <th>max_post</th>\n",
       "      <th>min_post</th>\n",
       "    </tr>\n",
       "  </thead>\n",
       "  <tbody>\n",
       "    <tr>\n",
       "      <th>2235637</th>\n",
       "      <td>1.524289e+09</td>\n",
       "      <td>_.xoxomaddie._</td>\n",
       "      <td>4228.0</td>\n",
       "      <td>2213.0</td>\n",
       "      <td>31.0</td>\n",
       "      <td>1064700774</td>\n",
       "      <td>1970-01-01</td>\n",
       "      <td>1970-01-01</td>\n",
       "    </tr>\n",
       "  </tbody>\n",
       "</table>\n",
       "</div>"
      ],
      "text/plain": [
       "           profile_id    profile_name  following  followers  n_posts  \\\n",
       "2235637  1.524289e+09  _.xoxomaddie._     4228.0     2213.0     31.0   \n",
       "\n",
       "         start_index   max_post   min_post  \n",
       "2235637   1064700774 1970-01-01 1970-01-01  "
      ]
     },
     "execution_count": 62,
     "metadata": {},
     "output_type": "execute_result"
    }
   ],
   "source": [
    "profiles[profiles.profile_id == 1524289417]"
   ]
  }
 ],
 "metadata": {
  "kernelspec": {
   "display_name": "Python 3 (ipykernel)",
   "language": "python",
   "name": "python3"
  },
  "language_info": {
   "codemirror_mode": {
    "name": "ipython",
    "version": 3
   },
   "file_extension": ".py",
   "mimetype": "text/x-python",
   "name": "python",
   "nbconvert_exporter": "python",
   "pygments_lexer": "ipython3",
   "version": "3.9.0"
  }
 },
 "nbformat": 4,
 "nbformat_minor": 5
}
