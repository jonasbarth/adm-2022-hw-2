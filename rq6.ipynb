{
 "cells": [
  {
   "cell_type": "markdown",
   "id": "d0c4733f",
   "metadata": {},
   "source": [
    "# RQ6 Posting Effectiveness\n",
    "\n",
    "For this question, we need to consider two datasets:\n",
    "* instagram_profiles\n",
    "* instagram_posts\n",
    "\n",
    "## Finding the average time a user lets pass\n",
    "To find the average time a user lets pass before posting another post, one can do the following:\n",
    "1. Get all profiles from the profiles dataset.\n",
    "2. For each profile, find the maximum and minimum post time in the posts dataset.\n",
    "3. Find the average by subtracting the minimum post time from the maximum post time and dividing by the number of posts the profile has.\n",
    "4. Take the average of all post frequency averages.\n",
    "\n",
    "### Caveats:\n",
    "* Not all profiles that appear in the profiles dataset also appear in the posts dataset (even if they have posts). Since we care about finding the average time, a user MUST exist in the posts dataset for the analysis to be conclusive.\n",
    "* The number of posts for each profile shown in the profiles dataset is unreliable, meaning that it doesn't mean that all those posts will be found in the posts dataset.\n",
    "\n",
    "### Choices:\n",
    "* Only consider users that appear in both posts and profiles dataset.\n",
    "* Remove posts that don't have a post time.\n",
    "\n",
    "### Approach\n",
    "The profiles dataset has over 4 million rows and posts dataset has over 40 million rows. Finding all of the rows that belong to each user using pandas queries is very expensive, as all 40 million rows need to be scanned for each profile in the profiles dataset.\n",
    "\n",
    "Instead of relying on querying, the rows belonging to each user are retrieved using indexing instead which is an O(1) operation."
   ]
  },
  {
   "cell_type": "code",
   "execution_count": 1,
   "id": "ff6e737d",
   "metadata": {},
   "outputs": [],
   "source": [
    "import pandas as pd\n",
    "import matplotlib.pyplot as plt\n",
    "import numpy as np"
   ]
  },
  {
   "cell_type": "code",
   "execution_count": 94,
   "id": "a4a30de9",
   "metadata": {},
   "outputs": [],
   "source": [
    "profiles = pd.read_csv('data/instagram_profiles.csv', sep='\\t', usecols=['profile_id', 'profile_name', 'n_posts', 'following', 'followers'])\n",
    "profiles = profiles[profiles.profile_id.notnull()]\n",
    "profiles.profile_id = profiles.profile_id.astype('Int64')\n",
    "profiles = profiles.drop_duplicates(subset='profile_id', keep=\"last\")\n",
    "profiles = profiles.sort_values(by='profile_id')"
   ]
  },
  {
   "cell_type": "code",
   "execution_count": 168,
   "id": "74cb0ef9",
   "metadata": {},
   "outputs": [],
   "source": [
    "posts = pd.read_csv('data/instagram_posts.csv', sep='\\t', usecols=['profile_id', 'cts', 'numbr_likes', 'number_comments'], parse_dates=['cts'], index_col=False)"
   ]
  },
  {
   "cell_type": "code",
   "execution_count": 185,
   "id": "e252eff6",
   "metadata": {},
   "outputs": [],
   "source": [
    "profile_time = posts[['profile_id', 'cts']]\n",
    "time_likes_comments = posts[['cts', 'numbr_likes', 'number_comments']]"
   ]
  },
  {
   "cell_type": "code",
   "execution_count": 170,
   "id": "d4113caf",
   "metadata": {},
   "outputs": [],
   "source": [
    "filtered_posts = profile_time.dropna()\n",
    "filtered_posts = filtered_posts[filtered_posts.profile_id.isin(profiles.profile_id)]\n",
    "sorted_posts = filtered_posts.sort_values(by='profile_id')"
   ]
  },
  {
   "cell_type": "code",
   "execution_count": 171,
   "id": "8bc706ae",
   "metadata": {},
   "outputs": [],
   "source": [
    "profiles_with_posts = profiles[profiles.profile_id.isin(sorted_posts.profile_id.unique())]"
   ]
  },
  {
   "cell_type": "code",
   "execution_count": 172,
   "id": "c3e2eeb2",
   "metadata": {},
   "outputs": [
    {
     "name": "stderr",
     "output_type": "stream",
     "text": [
      "C:\\Users\\Jonas\\AppData\\Local\\Temp\\ipykernel_3728\\4124026347.py:2: SettingWithCopyWarning: \n",
      "A value is trying to be set on a copy of a slice from a DataFrame.\n",
      "Try using .loc[row_indexer,col_indexer] = value instead\n",
      "\n",
      "See the caveats in the documentation: https://pandas.pydata.org/pandas-docs/stable/user_guide/indexing.html#returning-a-view-versus-a-copy\n",
      "  profiles_with_posts['true_n_posts'] = sorted_posts.groupby('profile_id')['profile_id'].count().values\n"
     ]
    }
   ],
   "source": [
    "# count the actual number of posts\n",
    "profiles_with_posts['true_n_posts'] = sorted_posts.groupby('profile_id')['profile_id'].count().values"
   ]
  },
  {
   "cell_type": "code",
   "execution_count": 173,
   "id": "37433039",
   "metadata": {},
   "outputs": [],
   "source": [
    "sorted_post_times = sorted_posts.cts.values"
   ]
  },
  {
   "cell_type": "code",
   "execution_count": 174,
   "id": "06fbdadf",
   "metadata": {},
   "outputs": [
    {
     "name": "stderr",
     "output_type": "stream",
     "text": [
      "C:\\Users\\Jonas\\AppData\\Local\\Temp\\ipykernel_3728\\1224487006.py:2: SettingWithCopyWarning: \n",
      "A value is trying to be set on a copy of a slice from a DataFrame.\n",
      "Try using .loc[row_indexer,col_indexer] = value instead\n",
      "\n",
      "See the caveats in the documentation: https://pandas.pydata.org/pandas-docs/stable/user_guide/indexing.html#returning-a-view-versus-a-copy\n",
      "  profiles_with_posts['start_index'] = profiles_with_posts.true_n_posts.shift(1)\n",
      "C:\\Users\\Jonas\\AppData\\Local\\Temp\\ipykernel_3728\\1224487006.py:3: SettingWithCopyWarning: \n",
      "A value is trying to be set on a copy of a slice from a DataFrame.\n",
      "Try using .loc[row_indexer,col_indexer] = value instead\n",
      "\n",
      "See the caveats in the documentation: https://pandas.pydata.org/pandas-docs/stable/user_guide/indexing.html#returning-a-view-versus-a-copy\n",
      "  profiles_with_posts.start_index = profiles_with_posts.start_index.cumsum().astype('Int64')\n"
     ]
    }
   ],
   "source": [
    "# Find the indeces\n",
    "profiles_with_posts['start_index'] = profiles_with_posts.true_n_posts.shift(1)\n",
    "profiles_with_posts.start_index = profiles_with_posts.start_index.cumsum().astype('Int64')\n",
    "profiles_with_posts.iloc[0, -1] = 0"
   ]
  },
  {
   "cell_type": "code",
   "execution_count": 175,
   "id": "2beff3de",
   "metadata": {},
   "outputs": [],
   "source": [
    "def find_time_stamps(profile_id, n_posts, start_index):\n",
    "\n",
    "    start_index = int(start_index)\n",
    "    n_posts = int(n_posts)\n",
    "    profile_post_times = sorted_post_times[start_index:start_index + n_posts]\n",
    "    \n",
    "    min_post_time = profile_post_times.min()\n",
    "    max_post_time = profile_post_times.max()\n",
    "  \n",
    "    return max_post_time, min_post_time"
   ]
  },
  {
   "cell_type": "code",
   "execution_count": 176,
   "id": "eaf7d0d2",
   "metadata": {},
   "outputs": [],
   "source": [
    "max_post, min_post = np.vectorize(find_time_stamps)(profiles_with_posts.profile_id, profiles_with_posts.true_n_posts, profiles_with_posts.start_index)"
   ]
  },
  {
   "cell_type": "code",
   "execution_count": 177,
   "id": "fb165b6a",
   "metadata": {},
   "outputs": [
    {
     "name": "stderr",
     "output_type": "stream",
     "text": [
      "C:\\Users\\Jonas\\AppData\\Local\\Temp\\ipykernel_3728\\1394401756.py:1: SettingWithCopyWarning: \n",
      "A value is trying to be set on a copy of a slice from a DataFrame.\n",
      "Try using .loc[row_indexer,col_indexer] = value instead\n",
      "\n",
      "See the caveats in the documentation: https://pandas.pydata.org/pandas-docs/stable/user_guide/indexing.html#returning-a-view-versus-a-copy\n",
      "  profiles_with_posts['max_post'] = max_post\n",
      "C:\\Users\\Jonas\\AppData\\Local\\Temp\\ipykernel_3728\\1394401756.py:2: SettingWithCopyWarning: \n",
      "A value is trying to be set on a copy of a slice from a DataFrame.\n",
      "Try using .loc[row_indexer,col_indexer] = value instead\n",
      "\n",
      "See the caveats in the documentation: https://pandas.pydata.org/pandas-docs/stable/user_guide/indexing.html#returning-a-view-versus-a-copy\n",
      "  profiles_with_posts['min_post'] = min_post\n"
     ]
    }
   ],
   "source": [
    "profiles_with_posts['max_post'] = max_post\n",
    "profiles_with_posts['min_post'] = min_post"
   ]
  },
  {
   "cell_type": "code",
   "execution_count": 178,
   "id": "50f530fc",
   "metadata": {},
   "outputs": [
    {
     "name": "stderr",
     "output_type": "stream",
     "text": [
      "C:\\Users\\Jonas\\AppData\\Local\\Temp\\ipykernel_3728\\2216755916.py:1: SettingWithCopyWarning: \n",
      "A value is trying to be set on a copy of a slice from a DataFrame.\n",
      "Try using .loc[row_indexer,col_indexer] = value instead\n",
      "\n",
      "See the caveats in the documentation: https://pandas.pydata.org/pandas-docs/stable/user_guide/indexing.html#returning-a-view-versus-a-copy\n",
      "  profiles_with_posts['post_time_delta'] = profiles_with_posts.max_post - profiles_with_posts.min_post\n",
      "C:\\Users\\Jonas\\AppData\\Local\\Temp\\ipykernel_3728\\2216755916.py:2: SettingWithCopyWarning: \n",
      "A value is trying to be set on a copy of a slice from a DataFrame.\n",
      "Try using .loc[row_indexer,col_indexer] = value instead\n",
      "\n",
      "See the caveats in the documentation: https://pandas.pydata.org/pandas-docs/stable/user_guide/indexing.html#returning-a-view-versus-a-copy\n",
      "  profiles_with_posts['avg_post_time'] = profiles_with_posts.post_time_delta / (profiles_with_posts.true_n_posts - 1)\n"
     ]
    }
   ],
   "source": [
    "profiles_with_posts['post_time_delta'] = profiles_with_posts.max_post - profiles_with_posts.min_post\n",
    "profiles_with_posts['avg_post_time'] = profiles_with_posts.post_time_delta / (profiles_with_posts.true_n_posts - 1)"
   ]
  },
  {
   "cell_type": "markdown",
   "id": "b3786e98",
   "metadata": {},
   "source": [
    "### What is the average time (days and minutes) a user lets pass before publishing another post?\n",
    "\n",
    "#### How to answer this question\n",
    "1. Get all profiles from the `profiles.csv` dataset. \n",
    "2. For each profile, find the maximum and minimum post time in the `posts.csv` dataset.\n",
    "3. Find the average by subtracting the minimum post time from the maximum post time and dividing by the number of posts the profile has.\n",
    "4. Take the average of all post frequency averages.\n",
    "\n",
    "The answer to this question is somewhat distorted by people who have either posted 0 or 1 posts. In both scenarios, the average post time will be 0, which doesn't contribute to increasing the cumulative average post time of all users.\n",
    "\n",
    "Hence, users with 0 or 1 posts reduce the overall average post time."
   ]
  },
  {
   "cell_type": "code",
   "execution_count": 179,
   "id": "ca6fb5fc",
   "metadata": {},
   "outputs": [],
   "source": [
    "def timedelta_to_days_minutes(timedelta):\n",
    "    \"\"\"Converts a timedelta to days and minutes.\n",
    "    \n",
    "    :args\n",
    "    timestamp - a pandas timestamp\n",
    "    \n",
    "    :returns\n",
    "    (days, minutes) - a tuple containing the days and minutes of the timedelta\n",
    "    \"\"\"\n",
    "    \n",
    "    minutes = timedelta.components[1] * 60 + timedelta.components[2]\n",
    "    \n",
    "    return timedelta.days, minutes"
   ]
  },
  {
   "cell_type": "code",
   "execution_count": 180,
   "id": "ddf8ebdc",
   "metadata": {},
   "outputs": [
    {
     "name": "stdout",
     "output_type": "stream",
     "text": [
      "Average time for a user lets pass before publishing another post, taking into account all users, is 30 days and 127 minutes.\n"
     ]
    }
   ],
   "source": [
    "days, minutes = timedelta_to_days_minutes(profiles_with_posts.avg_post_time.mean())\n",
    "print(f\"Average time for a user lets pass before publishing another post, taking into account all users, is {days} days and {minutes} minutes.\")"
   ]
  },
  {
   "cell_type": "code",
   "execution_count": 181,
   "id": "9ec9f5b2",
   "metadata": {},
   "outputs": [
    {
     "name": "stdout",
     "output_type": "stream",
     "text": [
      "Average time for a user lets pass before publishing another post, ignoring users who only posted 0 or 1 times, is 30 days and 127 minutes.\n"
     ]
    }
   ],
   "source": [
    "days, minutes = timedelta_to_days_minutes(profiles_with_posts[profiles_with_posts.true_n_posts > 1].avg_post_time.mean())\n",
    "print(f\"Average time for a user lets pass before publishing another post, ignoring users who only posted 0 or 1 times, is {days} days and {minutes} minutes.\")"
   ]
  },
  {
   "cell_type": "markdown",
   "id": "791496b3",
   "metadata": {},
   "source": [
    "### Plot the top 3 users that publish posts more frequently (calculate the average time that passes between posts), including their amount of followers and following. Provide insights from that chart.\n",
    "\n",
    "We will ignore users with 0 or 1 posts here since they have an average post time of 0."
   ]
  },
  {
   "cell_type": "code",
   "execution_count": 182,
   "id": "55d164e2",
   "metadata": {},
   "outputs": [],
   "source": [
    "filtered_profiles = profiles_with_posts[profiles_with_posts.true_n_posts > 1]\n",
    "top_3_users = profiles_with_posts.sort_values(by='avg_post_time').head(3)"
   ]
  },
  {
   "cell_type": "code",
   "execution_count": 183,
   "id": "fb3d966d",
   "metadata": {},
   "outputs": [
    {
     "data": {
      "text/plain": [
       "<matplotlib.collections.PathCollection at 0x223c3fc7fa0>"
      ]
     },
     "execution_count": 183,
     "metadata": {},
     "output_type": "execute_result"
    },
    {
     "data": {
      "image/png": "[encoded data removed]",
      "text/plain": [
       "<Figure size 640x480 with 1 Axes>"
      ]
     },
     "metadata": {},
     "output_type": "display_data"
    }
   ],
   "source": [
    "plt.scatter(top_3_users.followers, top_3_users.following)"
   ]
  },
  {
   "cell_type": "code",
   "execution_count": 141,
   "id": "fb8cde85",
   "metadata": {},
   "outputs": [
    {
     "data": {
      "text/plain": [
       "(2033081, 11)"
      ]
     },
     "execution_count": 141,
     "metadata": {},
     "output_type": "execute_result"
    }
   ],
   "source": [
    "filtered_profiles.shape"
   ]
  },
  {
   "cell_type": "markdown",
   "id": "71c6cc12",
   "metadata": {},
   "source": [
    "### Using the function you previously coded, plot the time intervals with the highest average number of “likes” and the ones with the highest average number of comments on posts."
   ]
  },
  {
   "cell_type": "code",
   "execution_count": null,
   "id": "d0b52ac4",
   "metadata": {},
   "outputs": [],
   "source": [
    "# highest avg number of likes\n",
    "# highes avg number of comments\n",
    "\n",
    "# for each interval\n",
    "# get all posts\n",
    "# avg n likes\n",
    "# avg n comments"
   ]
  },
  {
   "cell_type": "code",
   "execution_count": 186,
   "id": "a9df092d",
   "metadata": {},
   "outputs": [
    {
     "data": {
      "text/html": [
       "<div>\n",
       "<style scoped>\n",
       "    .dataframe tbody tr th:only-of-type {\n",
       "        vertical-align: middle;\n",
       "    }\n",
       "\n",
       "    .dataframe tbody tr th {\n",
       "        vertical-align: top;\n",
       "    }\n",
       "\n",
       "    .dataframe thead th {\n",
       "        text-align: right;\n",
       "    }\n",
       "</style>\n",
       "<table border=\"1\" class=\"dataframe\">\n",
       "  <thead>\n",
       "    <tr style=\"text-align: right;\">\n",
       "      <th></th>\n",
       "      <th>cts</th>\n",
       "      <th>numbr_likes</th>\n",
       "      <th>number_comments</th>\n",
       "    </tr>\n",
       "  </thead>\n",
       "  <tbody>\n",
       "    <tr>\n",
       "      <th>0</th>\n",
       "      <td>2017-08-06 20:06:57</td>\n",
       "      <td>80.0</td>\n",
       "      <td>0.0</td>\n",
       "    </tr>\n",
       "    <tr>\n",
       "      <th>1</th>\n",
       "      <td>2017-06-19 09:31:16</td>\n",
       "      <td>25.0</td>\n",
       "      <td>1.0</td>\n",
       "    </tr>\n",
       "    <tr>\n",
       "      <th>2</th>\n",
       "      <td>2017-03-11 20:05:03</td>\n",
       "      <td>9.0</td>\n",
       "      <td>0.0</td>\n",
       "    </tr>\n",
       "    <tr>\n",
       "      <th>3</th>\n",
       "      <td>2016-09-13 16:27:16</td>\n",
       "      <td>4.0</td>\n",
       "      <td>0.0</td>\n",
       "    </tr>\n",
       "    <tr>\n",
       "      <th>4</th>\n",
       "      <td>2015-10-18 10:19:27</td>\n",
       "      <td>8.0</td>\n",
       "      <td>0.0</td>\n",
       "    </tr>\n",
       "    <tr>\n",
       "      <th>...</th>\n",
       "      <td>...</td>\n",
       "      <td>...</td>\n",
       "      <td>...</td>\n",
       "    </tr>\n",
       "    <tr>\n",
       "      <th>42710192</th>\n",
       "      <td>2017-12-13 15:38:04</td>\n",
       "      <td>74.0</td>\n",
       "      <td>0.0</td>\n",
       "    </tr>\n",
       "    <tr>\n",
       "      <th>42710193</th>\n",
       "      <td>2017-10-31 11:28:01</td>\n",
       "      <td>49.0</td>\n",
       "      <td>0.0</td>\n",
       "    </tr>\n",
       "    <tr>\n",
       "      <th>42710194</th>\n",
       "      <td>2017-01-13 20:16:37</td>\n",
       "      <td>18.0</td>\n",
       "      <td>0.0</td>\n",
       "    </tr>\n",
       "    <tr>\n",
       "      <th>42710195</th>\n",
       "      <td>2019-05-20 20:07:52</td>\n",
       "      <td>27.0</td>\n",
       "      <td>1.0</td>\n",
       "    </tr>\n",
       "    <tr>\n",
       "      <th>42710196</th>\n",
       "      <td>2018-03-12 02:57:17</td>\n",
       "      <td>1824.0</td>\n",
       "      <td>49.0</td>\n",
       "    </tr>\n",
       "  </tbody>\n",
       "</table>\n",
       "<p>42710197 rows × 3 columns</p>\n",
       "</div>"
      ],
      "text/plain": [
       "                         cts  numbr_likes  number_comments\n",
       "0        2017-08-06 20:06:57         80.0              0.0\n",
       "1        2017-06-19 09:31:16         25.0              1.0\n",
       "2        2017-03-11 20:05:03          9.0              0.0\n",
       "3        2016-09-13 16:27:16          4.0              0.0\n",
       "4        2015-10-18 10:19:27          8.0              0.0\n",
       "...                      ...          ...              ...\n",
       "42710192 2017-12-13 15:38:04         74.0              0.0\n",
       "42710193 2017-10-31 11:28:01         49.0              0.0\n",
       "42710194 2017-01-13 20:16:37         18.0              0.0\n",
       "42710195 2019-05-20 20:07:52         27.0              1.0\n",
       "42710196 2018-03-12 02:57:17       1824.0             49.0\n",
       "\n",
       "[42710197 rows x 3 columns]"
      ]
     },
     "execution_count": 186,
     "metadata": {},
     "output_type": "execute_result"
    }
   ],
   "source": [
    "time_likes_comments"
   ]
  }
 ],
 "metadata": {
  "kernelspec": {
   "display_name": "Python 3 (ipykernel)",
   "language": "python",
   "name": "python3"
  },
  "language_info": {
   "codemirror_mode": {
    "name": "ipython",
    "version": 3
   },
   "file_extension": ".py",
   "mimetype": "text/x-python",
   "name": "python",
   "nbconvert_exporter": "python",
   "pygments_lexer": "ipython3",
   "version": "3.9.0"
  }
 },
 "nbformat": 4,
 "nbformat_minor": 5
}
