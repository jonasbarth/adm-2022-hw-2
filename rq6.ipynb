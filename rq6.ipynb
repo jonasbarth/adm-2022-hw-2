{
 "cells": [
  {
   "cell_type": "code",
   "execution_count": 1,
   "id": "ff6e737d",
   "metadata": {},
   "outputs": [],
   "source": [
    "import pandas as pd\n",
    "import matplotlib.pyplot as plt\n",
    "import numpy as np\n",
    "from tqdm import tqdm\n",
    "import heapq\n",
    "from collections import namedtuple"
   ]
  },
  {
   "cell_type": "code",
   "execution_count": 2,
   "id": "74cb0ef9",
   "metadata": {},
   "outputs": [],
   "source": [
    "all_profiles = pd.read_csv('data/instagram_posts.csv', sep='\\t', usecols=['profile_id', 'cts'], parse_dates=['cts'])"
   ]
  },
  {
   "cell_type": "code",
   "execution_count": 3,
   "id": "54c26464",
   "metadata": {},
   "outputs": [],
   "source": [
    "all_profiles = all_profiles[all_profiles.cts.notnull()]"
   ]
  },
  {
   "cell_type": "code",
   "execution_count": null,
   "id": "ae546591",
   "metadata": {},
   "outputs": [],
   "source": []
  },
  {
   "cell_type": "code",
   "execution_count": 4,
   "id": "afada099",
   "metadata": {},
   "outputs": [],
   "source": [
    "profiles = all_profiles.profile_id.unique()"
   ]
  },
  {
   "cell_type": "code",
   "execution_count": 5,
   "id": "e7725f74",
   "metadata": {},
   "outputs": [],
   "source": [
    "Profile = namedtuple('Profile', ['id', 'min_post_time', 'max_post_time', 'n_posts', 'avg_post_time'])"
   ]
  },
  {
   "cell_type": "code",
   "execution_count": 32,
   "id": "91198018",
   "metadata": {},
   "outputs": [],
   "source": [
    "from queue import PriorityQueue\n",
    "top_n = PriorityQueue()"
   ]
  },
  {
   "cell_type": "code",
   "execution_count": 25,
   "id": "fa3b067e",
   "metadata": {},
   "outputs": [],
   "source": [
    "top_n.put(1)\n",
    "top_n.put(3)\n",
    "top_n.put(5)\n",
    "top_n.put(2)"
   ]
  },
  {
   "cell_type": "code",
   "execution_count": 31,
   "id": "796f1c76",
   "metadata": {},
   "outputs": [
    {
     "data": {
      "text/plain": [
       "5"
      ]
     },
     "execution_count": 31,
     "metadata": {},
     "output_type": "execute_result"
    }
   ],
   "source": [
    "top_n.get()"
   ]
  },
  {
   "cell_type": "code",
   "execution_count": 35,
   "id": "f8d09cc6",
   "metadata": {},
   "outputs": [
    {
     "name": "stderr",
     "output_type": "stream",
     "text": [
      "  0%|                                                                      | 2310/11833766 [02:09<184:47:30, 17.78it/s]\n"
     ]
    },
    {
     "ename": "KeyboardInterrupt",
     "evalue": "",
     "output_type": "error",
     "traceback": [
      "\u001b[1;31m---------------------------------------------------------------------------\u001b[0m",
      "\u001b[1;31mKeyboardInterrupt\u001b[0m                         Traceback (most recent call last)",
      "Cell \u001b[1;32mIn [35], line 3\u001b[0m\n\u001b[0;32m      1\u001b[0m n \u001b[38;5;241m=\u001b[39m \u001b[38;5;241m3\u001b[39m\n\u001b[0;32m      2\u001b[0m \u001b[38;5;28;01mfor\u001b[39;00m profile_id \u001b[38;5;129;01min\u001b[39;00m tqdm(profiles):\n\u001b[1;32m----> 3\u001b[0m     user_posts \u001b[38;5;241m=\u001b[39m all_profiles[\u001b[43mall_profiles\u001b[49m\u001b[38;5;241;43m.\u001b[39;49m\u001b[43mprofile_id\u001b[49m\u001b[43m \u001b[49m\u001b[38;5;241;43m==\u001b[39;49m\u001b[43m \u001b[49m\u001b[43mprofile_id\u001b[49m]\n\u001b[0;32m      4\u001b[0m     min_post_time \u001b[38;5;241m=\u001b[39m user_posts\u001b[38;5;241m.\u001b[39mcts\u001b[38;5;241m.\u001b[39mmin()\u001b[38;5;241m.\u001b[39mtimestamp()\n\u001b[0;32m      5\u001b[0m     max_post_time \u001b[38;5;241m=\u001b[39m user_posts\u001b[38;5;241m.\u001b[39mcts\u001b[38;5;241m.\u001b[39mmax()\u001b[38;5;241m.\u001b[39mtimestamp()\n",
      "File \u001b[1;32mc:\\users\\jonas\\desktop\\uni\\msc\\year 1\\adm\\homework_2\\adm-2022-hw-2\\env\\lib\\site-packages\\pandas\\core\\ops\\common.py:72\u001b[0m, in \u001b[0;36m_unpack_zerodim_and_defer.<locals>.new_method\u001b[1;34m(self, other)\u001b[0m\n\u001b[0;32m     68\u001b[0m             \u001b[38;5;28;01mreturn\u001b[39;00m \u001b[38;5;28mNotImplemented\u001b[39m\n\u001b[0;32m     70\u001b[0m other \u001b[38;5;241m=\u001b[39m item_from_zerodim(other)\n\u001b[1;32m---> 72\u001b[0m \u001b[38;5;28;01mreturn\u001b[39;00m \u001b[43mmethod\u001b[49m\u001b[43m(\u001b[49m\u001b[38;5;28;43mself\u001b[39;49m\u001b[43m,\u001b[49m\u001b[43m \u001b[49m\u001b[43mother\u001b[49m\u001b[43m)\u001b[49m\n",
      "File \u001b[1;32mc:\\users\\jonas\\desktop\\uni\\msc\\year 1\\adm\\homework_2\\adm-2022-hw-2\\env\\lib\\site-packages\\pandas\\core\\arraylike.py:43\u001b[0m, in \u001b[0;36mOpsMixin.__eq__\u001b[1;34m(self, other)\u001b[0m\n\u001b[0;32m     41\u001b[0m \u001b[38;5;129m@unpack_zerodim_and_defer\u001b[39m(\u001b[38;5;124m\"\u001b[39m\u001b[38;5;124m__eq__\u001b[39m\u001b[38;5;124m\"\u001b[39m)\n\u001b[0;32m     42\u001b[0m \u001b[38;5;28;01mdef\u001b[39;00m \u001b[38;5;21m__eq__\u001b[39m(\u001b[38;5;28mself\u001b[39m, other):\n\u001b[1;32m---> 43\u001b[0m     \u001b[38;5;28;01mreturn\u001b[39;00m \u001b[38;5;28;43mself\u001b[39;49m\u001b[38;5;241;43m.\u001b[39;49m\u001b[43m_cmp_method\u001b[49m\u001b[43m(\u001b[49m\u001b[43mother\u001b[49m\u001b[43m,\u001b[49m\u001b[43m \u001b[49m\u001b[43moperator\u001b[49m\u001b[38;5;241;43m.\u001b[39;49m\u001b[43meq\u001b[49m\u001b[43m)\u001b[49m\n",
      "File \u001b[1;32mc:\\users\\jonas\\desktop\\uni\\msc\\year 1\\adm\\homework_2\\adm-2022-hw-2\\env\\lib\\site-packages\\pandas\\core\\series.py:6246\u001b[0m, in \u001b[0;36mSeries._cmp_method\u001b[1;34m(self, other, op)\u001b[0m\n\u001b[0;32m   6243\u001b[0m rvalues \u001b[38;5;241m=\u001b[39m extract_array(other, extract_numpy\u001b[38;5;241m=\u001b[39m\u001b[38;5;28;01mTrue\u001b[39;00m, extract_range\u001b[38;5;241m=\u001b[39m\u001b[38;5;28;01mTrue\u001b[39;00m)\n\u001b[0;32m   6245\u001b[0m \u001b[38;5;28;01mwith\u001b[39;00m np\u001b[38;5;241m.\u001b[39merrstate(\u001b[38;5;28mall\u001b[39m\u001b[38;5;241m=\u001b[39m\u001b[38;5;124m\"\u001b[39m\u001b[38;5;124mignore\u001b[39m\u001b[38;5;124m\"\u001b[39m):\n\u001b[1;32m-> 6246\u001b[0m     res_values \u001b[38;5;241m=\u001b[39m \u001b[43mops\u001b[49m\u001b[38;5;241;43m.\u001b[39;49m\u001b[43mcomparison_op\u001b[49m\u001b[43m(\u001b[49m\u001b[43mlvalues\u001b[49m\u001b[43m,\u001b[49m\u001b[43m \u001b[49m\u001b[43mrvalues\u001b[49m\u001b[43m,\u001b[49m\u001b[43m \u001b[49m\u001b[43mop\u001b[49m\u001b[43m)\u001b[49m\n\u001b[0;32m   6248\u001b[0m \u001b[38;5;28;01mreturn\u001b[39;00m \u001b[38;5;28mself\u001b[39m\u001b[38;5;241m.\u001b[39m_construct_result(res_values, name\u001b[38;5;241m=\u001b[39mres_name)\n",
      "File \u001b[1;32mc:\\users\\jonas\\desktop\\uni\\msc\\year 1\\adm\\homework_2\\adm-2022-hw-2\\env\\lib\\site-packages\\pandas\\core\\ops\\array_ops.py:290\u001b[0m, in \u001b[0;36mcomparison_op\u001b[1;34m(left, right, op)\u001b[0m\n\u001b[0;32m    287\u001b[0m     res_values \u001b[38;5;241m=\u001b[39m comp_method_OBJECT_ARRAY(op, lvalues, rvalues)\n\u001b[0;32m    289\u001b[0m \u001b[38;5;28;01melse\u001b[39;00m:\n\u001b[1;32m--> 290\u001b[0m     res_values \u001b[38;5;241m=\u001b[39m \u001b[43m_na_arithmetic_op\u001b[49m\u001b[43m(\u001b[49m\u001b[43mlvalues\u001b[49m\u001b[43m,\u001b[49m\u001b[43m \u001b[49m\u001b[43mrvalues\u001b[49m\u001b[43m,\u001b[49m\u001b[43m \u001b[49m\u001b[43mop\u001b[49m\u001b[43m,\u001b[49m\u001b[43m \u001b[49m\u001b[43mis_cmp\u001b[49m\u001b[38;5;241;43m=\u001b[39;49m\u001b[38;5;28;43;01mTrue\u001b[39;49;00m\u001b[43m)\u001b[49m\n\u001b[0;32m    292\u001b[0m \u001b[38;5;28;01mreturn\u001b[39;00m res_values\n",
      "File \u001b[1;32mc:\\users\\jonas\\desktop\\uni\\msc\\year 1\\adm\\homework_2\\adm-2022-hw-2\\env\\lib\\site-packages\\pandas\\core\\ops\\array_ops.py:165\u001b[0m, in \u001b[0;36m_na_arithmetic_op\u001b[1;34m(left, right, op, is_cmp)\u001b[0m\n\u001b[0;32m    162\u001b[0m     func \u001b[38;5;241m=\u001b[39m partial(expressions\u001b[38;5;241m.\u001b[39mevaluate, op)\n\u001b[0;32m    164\u001b[0m \u001b[38;5;28;01mtry\u001b[39;00m:\n\u001b[1;32m--> 165\u001b[0m     result \u001b[38;5;241m=\u001b[39m \u001b[43mfunc\u001b[49m\u001b[43m(\u001b[49m\u001b[43mleft\u001b[49m\u001b[43m,\u001b[49m\u001b[43m \u001b[49m\u001b[43mright\u001b[49m\u001b[43m)\u001b[49m\n\u001b[0;32m    166\u001b[0m \u001b[38;5;28;01mexcept\u001b[39;00m \u001b[38;5;167;01mTypeError\u001b[39;00m:\n\u001b[0;32m    167\u001b[0m     \u001b[38;5;28;01mif\u001b[39;00m \u001b[38;5;129;01mnot\u001b[39;00m is_cmp \u001b[38;5;129;01mand\u001b[39;00m (is_object_dtype(left\u001b[38;5;241m.\u001b[39mdtype) \u001b[38;5;129;01mor\u001b[39;00m is_object_dtype(right)):\n\u001b[0;32m    168\u001b[0m         \u001b[38;5;66;03m# For object dtype, fallback to a masked operation (only operating\u001b[39;00m\n\u001b[0;32m    169\u001b[0m         \u001b[38;5;66;03m#  on the non-missing values)\u001b[39;00m\n\u001b[0;32m    170\u001b[0m         \u001b[38;5;66;03m# Don't do this for comparisons, as that will handle complex numbers\u001b[39;00m\n\u001b[0;32m    171\u001b[0m         \u001b[38;5;66;03m#  incorrectly, see GH#32047\u001b[39;00m\n",
      "File \u001b[1;32mc:\\users\\jonas\\desktop\\uni\\msc\\year 1\\adm\\homework_2\\adm-2022-hw-2\\env\\lib\\site-packages\\pandas\\core\\computation\\expressions.py:242\u001b[0m, in \u001b[0;36mevaluate\u001b[1;34m(op, a, b, use_numexpr)\u001b[0m\n\u001b[0;32m    239\u001b[0m \u001b[38;5;28;01mif\u001b[39;00m op_str \u001b[38;5;129;01mis\u001b[39;00m \u001b[38;5;129;01mnot\u001b[39;00m \u001b[38;5;28;01mNone\u001b[39;00m:\n\u001b[0;32m    240\u001b[0m     \u001b[38;5;28;01mif\u001b[39;00m use_numexpr:\n\u001b[0;32m    241\u001b[0m         \u001b[38;5;66;03m# error: \"None\" not callable\u001b[39;00m\n\u001b[1;32m--> 242\u001b[0m         \u001b[38;5;28;01mreturn\u001b[39;00m \u001b[43m_evaluate\u001b[49m\u001b[43m(\u001b[49m\u001b[43mop\u001b[49m\u001b[43m,\u001b[49m\u001b[43m \u001b[49m\u001b[43mop_str\u001b[49m\u001b[43m,\u001b[49m\u001b[43m \u001b[49m\u001b[43ma\u001b[49m\u001b[43m,\u001b[49m\u001b[43m \u001b[49m\u001b[43mb\u001b[49m\u001b[43m)\u001b[49m  \u001b[38;5;66;03m# type: ignore[misc]\u001b[39;00m\n\u001b[0;32m    243\u001b[0m \u001b[38;5;28;01mreturn\u001b[39;00m _evaluate_standard(op, op_str, a, b)\n",
      "File \u001b[1;32mc:\\users\\jonas\\desktop\\uni\\msc\\year 1\\adm\\homework_2\\adm-2022-hw-2\\env\\lib\\site-packages\\pandas\\core\\computation\\expressions.py:71\u001b[0m, in \u001b[0;36m_evaluate_standard\u001b[1;34m(op, op_str, a, b)\u001b[0m\n\u001b[0;32m     69\u001b[0m \u001b[38;5;28;01mif\u001b[39;00m _TEST_MODE:\n\u001b[0;32m     70\u001b[0m     _store_test_result(\u001b[38;5;28;01mFalse\u001b[39;00m)\n\u001b[1;32m---> 71\u001b[0m \u001b[38;5;28;01mreturn\u001b[39;00m \u001b[43mop\u001b[49m\u001b[43m(\u001b[49m\u001b[43ma\u001b[49m\u001b[43m,\u001b[49m\u001b[43m \u001b[49m\u001b[43mb\u001b[49m\u001b[43m)\u001b[49m\n",
      "\u001b[1;31mKeyboardInterrupt\u001b[0m: "
     ]
    }
   ],
   "source": [
    "n = 3\n",
    "for profile_id in tqdm(profiles):\n",
    "    user_posts = all_profiles[all_profiles.profile_id == profile_id]\n",
    "    min_post_time = user_posts.cts.min().timestamp()\n",
    "    max_post_time = user_posts.cts.max().timestamp()\n",
    "    n_posts = len(user_posts)\n",
    "    avg_post_time = (max_post_time - min_post_time) / n_posts\n",
    "    \n",
    "    if avg_post_time == 0.0:\n",
    "        continue\n",
    "        \n",
    "    profile = Profile(profile_id, min_post_time, max_post_time, n_posts, avg_post_time)\n",
    "    \n",
    "    top_n.put((-avg_post_time, profile))\n",
    "    \n",
    "    if top_n.qsize() == n:\n",
    "        top_n.get()"
   ]
  },
  {
   "cell_type": "code",
   "execution_count": null,
   "id": "a007bfc3",
   "metadata": {},
   "outputs": [],
   "source": [
    "everything = pd.read_csv('data/instagram_posts.csv', sep='\\t', usecols=['profile_id', ])"
   ]
  },
  {
   "cell_type": "code",
   "execution_count": 5,
   "id": "ee029811",
   "metadata": {},
   "outputs": [
    {
     "data": {
      "text/plain": [
       "11833766"
      ]
     },
     "execution_count": 5,
     "metadata": {},
     "output_type": "execute_result"
    }
   ],
   "source": [
    "len(profiles.profile_id.unique())"
   ]
  },
  {
   "cell_type": "code",
   "execution_count": 2,
   "id": "9ab3394c",
   "metadata": {},
   "outputs": [],
   "source": [
    "posts = pd.read_csv('data/instagram_posts.csv', sep='\\t', nrows=100000, usecols=['profile_id', 'cts'], parse_dates=['cts'])"
   ]
  },
  {
   "cell_type": "code",
   "execution_count": 17,
   "id": "3afe27bf",
   "metadata": {},
   "outputs": [
    {
     "name": "stderr",
     "output_type": "stream",
     "text": [
      "2it [01:10, 35.05s/it]\n"
     ]
    },
    {
     "ename": "KeyboardInterrupt",
     "evalue": "",
     "output_type": "error",
     "traceback": [
      "\u001b[1;31m---------------------------------------------------------------------------\u001b[0m",
      "\u001b[1;31mKeyError\u001b[0m                                  Traceback (most recent call last)",
      "Cell \u001b[1;32mIn [17], line 24\u001b[0m\n\u001b[0;32m     23\u001b[0m \u001b[38;5;28;01mtry\u001b[39;00m:\n\u001b[1;32m---> 24\u001b[0m     row \u001b[38;5;241m=\u001b[39m \u001b[43mprofile_id_to_row\u001b[49m\u001b[43m[\u001b[49m\u001b[43mprofile_id\u001b[49m\u001b[43m]\u001b[49m\n\u001b[0;32m     25\u001b[0m     post_times[row][min_post_time_idx] \u001b[38;5;241m=\u001b[39m \u001b[38;5;28mmin\u001b[39m(current_min_post_time, post_times[index][min_post_time_idx])\n",
      "\u001b[1;31mKeyError\u001b[0m: 292244740",
      "\nDuring handling of the above exception, another exception occurred:\n",
      "\u001b[1;31mKeyboardInterrupt\u001b[0m                         Traceback (most recent call last)",
      "Cell \u001b[1;32mIn [17], line 32\u001b[0m\n\u001b[0;32m     29\u001b[0m \u001b[38;5;28;01mexcept\u001b[39;00m \u001b[38;5;167;01mKeyError\u001b[39;00m:\n\u001b[0;32m     30\u001b[0m     \u001b[38;5;66;03m# if no entry exists, create one\u001b[39;00m\n\u001b[0;32m     31\u001b[0m     new_row \u001b[38;5;241m=\u001b[39m np\u001b[38;5;241m.\u001b[39marray([profile_id, current_min_post_time, current_max_post_time, n_posts])\n\u001b[1;32m---> 32\u001b[0m     \u001b[43mpost_times\u001b[49m\u001b[43m[\u001b[49m\u001b[43mlen_posts\u001b[49m\u001b[43m]\u001b[49m \u001b[38;5;241m=\u001b[39m new_row\n\u001b[0;32m     33\u001b[0m     profile_id_to_row[profile_id] \u001b[38;5;241m=\u001b[39m len_posts\n\u001b[0;32m     34\u001b[0m     len_posts \u001b[38;5;241m+\u001b[39m\u001b[38;5;241m=\u001b[39m \u001b[38;5;241m1\u001b[39m\n",
      "\u001b[1;31mKeyboardInterrupt\u001b[0m: "
     ]
    }
   ],
   "source": [
    "unique_profiles = len(all_profiles.profile_id.unique())\n",
    "\n",
    "post_times = np.empty((unique_profiles, 4))\n",
    "\n",
    "profile_id_to_row = {}\n",
    "\n",
    "len_posts = 0\n",
    "min_post_time_idx = 1\n",
    "max_post_time_idx = 2\n",
    "n_posts_idx = 3\n",
    "\n",
    "for posts in tqdm(pd.read_csv('data/instagram_posts.csv', sep='\\t', chunksize=50000, usecols=['profile_id', 'cts'], parse_dates=['cts'])):\n",
    "\n",
    "    posts = posts[posts.cts.notnull()]\n",
    "    profiles = posts.profile_id.unique()\n",
    "    \n",
    "    for profile_id in profiles:\n",
    "        user_posts = posts[posts.profile_id == profile_id]\n",
    "        current_min_post_time = user_posts.cts.min().timestamp()\n",
    "        current_max_post_time = user_posts.cts.max().timestamp()\n",
    "        n_posts = len(user_posts)\n",
    "\n",
    "        try:\n",
    "            row = profile_id_to_row[profile_id]\n",
    "            post_times[row][min_post_time_idx] = min(current_min_post_time, post_times[index][min_post_time_idx])\n",
    "            post_times[row][max_post_time_idx] = max(current_max_post_time, post_times[index][max_post_time_idx])\n",
    "            post_times[row][n_posts_idx] += n_posts\n",
    "\n",
    "        except KeyError:\n",
    "            # if no entry exists, create one\n",
    "            new_row = np.array([profile_id, current_min_post_time, current_max_post_time, n_posts])\n",
    "            post_times[len_posts] = new_row\n",
    "            profile_id_to_row[profile_id] = len_posts\n",
    "            len_posts += 1\n",
    "            "
   ]
  },
  {
   "cell_type": "code",
   "execution_count": 154,
   "id": "666f37f9",
   "metadata": {},
   "outputs": [
    {
     "data": {
      "text/plain": [
       "array([[2.23794778e+09, 1.50205002e+09, 1.50205002e+09, 1.00000000e+00],\n",
       "       [5.57933502e+09, 1.49786468e+09, 1.49786468e+09, 1.00000000e+00],\n",
       "       [3.13429634e+08, 1.48926270e+09, 1.48926270e+09, 1.00000000e+00],\n",
       "       ...,\n",
       "       [9.17891449e+08, 1.50127174e+09, 1.50127174e+09, 1.00000000e+00],\n",
       "       [1.48713668e+09, 1.52864187e+09, 1.52864187e+09, 1.00000000e+00],\n",
       "       [2.47983272e+08, 1.53353762e+09, 1.53353762e+09, 1.00000000e+00]])"
      ]
     },
     "execution_count": 154,
     "metadata": {},
     "output_type": "execute_result"
    }
   ],
   "source": [
    "post_times[:len_posts, :]"
   ]
  },
  {
   "cell_type": "code",
   "execution_count": 126,
   "id": "5db9d0b4",
   "metadata": {},
   "outputs": [],
   "source": [
    "post_times = np.empty((len(posts.profile_id.unique()), 4))\n",
    "\n",
    "len_posts = 0\n",
    "\n",
    "min_post_time_idx = 1\n",
    "max_post_time_idx = 2\n",
    "n_posts_idx = 3\n",
    "\n",
    "for profile_id in posts.profile_id.unique():\n",
    "    user_posts = posts[posts.profile_id == profile_id]\n",
    "    current_min_post_time = user_posts.cts.min().timestamp()\n",
    "    current_max_post_time = user_posts.cts.max().timestamp()\n",
    "    n_posts = len(user_posts)\n",
    "\n",
    "    found_row = np.where(post_times[:, 0] == profile_id)[0]\n",
    "\n",
    "    if found_row.size == 0:\n",
    "        # if no entry exists, create one\n",
    "        new_row = np.array([profile_id, current_min_post_time, current_max_post_time, n_posts])\n",
    "        post_times[len_posts] = new_row\n",
    "        len_posts += 1                               \n",
    "\n",
    "    else:\n",
    "        index = found_row[0]\n",
    "        post_times[index][min_post_time_idx] = min(current_min_post_time, post_times[index][min_post_time_idx])\n",
    "        post_times[index][max_post_time_idx] = max(current_max_post_time, post_times[index][max_post_time_idx])\n",
    "        post_times[index][n_posts_idx] += n_posts"
   ]
  },
  {
   "cell_type": "code",
   "execution_count": 127,
   "id": "15232ba2",
   "metadata": {},
   "outputs": [
    {
     "data": {
      "text/html": [
       "<div>\n",
       "<style scoped>\n",
       "    .dataframe tbody tr th:only-of-type {\n",
       "        vertical-align: middle;\n",
       "    }\n",
       "\n",
       "    .dataframe tbody tr th {\n",
       "        vertical-align: top;\n",
       "    }\n",
       "\n",
       "    .dataframe thead th {\n",
       "        text-align: right;\n",
       "    }\n",
       "</style>\n",
       "<table border=\"1\" class=\"dataframe\">\n",
       "  <thead>\n",
       "    <tr style=\"text-align: right;\">\n",
       "      <th></th>\n",
       "      <th>profile_id</th>\n",
       "      <th>min_post_time</th>\n",
       "      <th>max_post_time</th>\n",
       "      <th>n_posts</th>\n",
       "      <th>avg_post_interval</th>\n",
       "    </tr>\n",
       "  </thead>\n",
       "  <tbody>\n",
       "    <tr>\n",
       "      <th>24991</th>\n",
       "      <td>5.567932e+08</td>\n",
       "      <td>1.554047e+09</td>\n",
       "      <td>1.554047e+09</td>\n",
       "      <td>2.0</td>\n",
       "      <td>0.5</td>\n",
       "    </tr>\n",
       "    <tr>\n",
       "      <th>45590</th>\n",
       "      <td>5.641679e+08</td>\n",
       "      <td>1.558413e+09</td>\n",
       "      <td>1.558413e+09</td>\n",
       "      <td>2.0</td>\n",
       "      <td>2.0</td>\n",
       "    </tr>\n",
       "    <tr>\n",
       "      <th>17950</th>\n",
       "      <td>1.360019e+10</td>\n",
       "      <td>1.558739e+09</td>\n",
       "      <td>1.558739e+09</td>\n",
       "      <td>2.0</td>\n",
       "      <td>2.5</td>\n",
       "    </tr>\n",
       "    <tr>\n",
       "      <th>44207</th>\n",
       "      <td>8.968048e+09</td>\n",
       "      <td>1.549372e+09</td>\n",
       "      <td>1.549372e+09</td>\n",
       "      <td>2.0</td>\n",
       "      <td>3.5</td>\n",
       "    </tr>\n",
       "    <tr>\n",
       "      <th>58204</th>\n",
       "      <td>1.398241e+10</td>\n",
       "      <td>1.559143e+09</td>\n",
       "      <td>1.559143e+09</td>\n",
       "      <td>3.0</td>\n",
       "      <td>4.0</td>\n",
       "    </tr>\n",
       "    <tr>\n",
       "      <th>...</th>\n",
       "      <td>...</td>\n",
       "      <td>...</td>\n",
       "      <td>...</td>\n",
       "      <td>...</td>\n",
       "      <td>...</td>\n",
       "    </tr>\n",
       "    <tr>\n",
       "      <th>31870</th>\n",
       "      <td>1.131132e+06</td>\n",
       "      <td>1.379091e+09</td>\n",
       "      <td>1.503439e+09</td>\n",
       "      <td>2.0</td>\n",
       "      <td>62173750.0</td>\n",
       "    </tr>\n",
       "    <tr>\n",
       "      <th>14392</th>\n",
       "      <td>5.484254e+07</td>\n",
       "      <td>1.404294e+09</td>\n",
       "      <td>1.531494e+09</td>\n",
       "      <td>2.0</td>\n",
       "      <td>63599684.0</td>\n",
       "    </tr>\n",
       "    <tr>\n",
       "      <th>58671</th>\n",
       "      <td>7.605579e+06</td>\n",
       "      <td>1.384339e+09</td>\n",
       "      <td>1.525366e+09</td>\n",
       "      <td>2.0</td>\n",
       "      <td>70513521.5</td>\n",
       "    </tr>\n",
       "    <tr>\n",
       "      <th>15485</th>\n",
       "      <td>7.794597e+06</td>\n",
       "      <td>1.417660e+09</td>\n",
       "      <td>1.559062e+09</td>\n",
       "      <td>2.0</td>\n",
       "      <td>70700952.5</td>\n",
       "    </tr>\n",
       "    <tr>\n",
       "      <th>25038</th>\n",
       "      <td>7.287439e+06</td>\n",
       "      <td>1.403629e+09</td>\n",
       "      <td>1.549800e+09</td>\n",
       "      <td>2.0</td>\n",
       "      <td>73085645.0</td>\n",
       "    </tr>\n",
       "  </tbody>\n",
       "</table>\n",
       "<p>8462 rows × 5 columns</p>\n",
       "</div>"
      ],
      "text/plain": [
       "         profile_id  min_post_time  max_post_time  n_posts  avg_post_interval\n",
       "24991  5.567932e+08   1.554047e+09   1.554047e+09      2.0                0.5\n",
       "45590  5.641679e+08   1.558413e+09   1.558413e+09      2.0                2.0\n",
       "17950  1.360019e+10   1.558739e+09   1.558739e+09      2.0                2.5\n",
       "44207  8.968048e+09   1.549372e+09   1.549372e+09      2.0                3.5\n",
       "58204  1.398241e+10   1.559143e+09   1.559143e+09      3.0                4.0\n",
       "...             ...            ...            ...      ...                ...\n",
       "31870  1.131132e+06   1.379091e+09   1.503439e+09      2.0         62173750.0\n",
       "14392  5.484254e+07   1.404294e+09   1.531494e+09      2.0         63599684.0\n",
       "58671  7.605579e+06   1.384339e+09   1.525366e+09      2.0         70513521.5\n",
       "15485  7.794597e+06   1.417660e+09   1.559062e+09      2.0         70700952.5\n",
       "25038  7.287439e+06   1.403629e+09   1.549800e+09      2.0         73085645.0\n",
       "\n",
       "[8462 rows x 5 columns]"
      ]
     },
     "execution_count": 127,
     "metadata": {},
     "output_type": "execute_result"
    }
   ],
   "source": [
    "post_times = pd.DataFrame(alll, columns=['profile_id', 'min_post_time', 'max_post_time', 'n_posts'])\n",
    "\n",
    "post_times['avg_post_interval'] = (post_times.max_post_time - post_times.min_post_time) / post_times.n_posts\n",
    "post_times = post_times[post_times.avg_post_interval > 0]"
   ]
  },
  {
   "cell_type": "code",
   "execution_count": 141,
   "id": "ed18370f",
   "metadata": {},
   "outputs": [],
   "source": [
    "top = post_times.sort_values(by=['avg_post_interval'])"
   ]
  }
 ],
 "metadata": {
  "kernelspec": {
   "display_name": "Python 3 (ipykernel)",
   "language": "python",
   "name": "python3"
  },
  "language_info": {
   "codemirror_mode": {
    "name": "ipython",
    "version": 3
   },
   "file_extension": ".py",
   "mimetype": "text/x-python",
   "name": "python",
   "nbconvert_exporter": "python",
   "pygments_lexer": "ipython3",
   "version": "3.9.0"
  }
 },
 "nbformat": 4,
 "nbformat_minor": 5
}
