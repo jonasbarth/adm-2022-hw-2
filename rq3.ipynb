{
 "cells": [
  {
   "cell_type": "code",
   "execution_count": 1,
   "id": "b29e3fe7",
   "metadata": {},
   "outputs": [],
   "source": [
    "import pandas as pd\n",
    "from posts import most_common_time\n",
    "from posts import plot_posts_intervals\n",
    "from posts import date_time_to_time\n",
    "from posts import find_posts_between"
   ]
  },
  {
   "cell_type": "code",
   "execution_count": 2,
   "id": "36ae38e3",
   "metadata": {},
   "outputs": [],
   "source": [
    "posts = pd.read_csv('data/instagram_posts.csv', sep='\\t', usecols=['cts'], nrows=50000)"
   ]
  },
  {
   "cell_type": "code",
   "execution_count": 18,
   "id": "ff5402c9",
   "metadata": {},
   "outputs": [
    {
     "data": {
      "text/html": [
       "<div>\n",
       "<style scoped>\n",
       "    .dataframe tbody tr th:only-of-type {\n",
       "        vertical-align: middle;\n",
       "    }\n",
       "\n",
       "    .dataframe tbody tr th {\n",
       "        vertical-align: top;\n",
       "    }\n",
       "\n",
       "    .dataframe thead th {\n",
       "        text-align: right;\n",
       "    }\n",
       "</style>\n",
       "<table border=\"1\" class=\"dataframe\">\n",
       "  <thead>\n",
       "    <tr style=\"text-align: right;\">\n",
       "      <th></th>\n",
       "      <th>cts</th>\n",
       "    </tr>\n",
       "  </thead>\n",
       "  <tbody>\n",
       "    <tr>\n",
       "      <th>0</th>\n",
       "      <td>2017-08-06 20:06:57.000</td>\n",
       "    </tr>\n",
       "    <tr>\n",
       "      <th>1</th>\n",
       "      <td>2017-06-19 09:31:16.000</td>\n",
       "    </tr>\n",
       "    <tr>\n",
       "      <th>2</th>\n",
       "      <td>2017-03-11 20:05:03.000</td>\n",
       "    </tr>\n",
       "    <tr>\n",
       "      <th>3</th>\n",
       "      <td>2016-09-13 16:27:16.000</td>\n",
       "    </tr>\n",
       "    <tr>\n",
       "      <th>4</th>\n",
       "      <td>2015-10-18 10:19:27.000</td>\n",
       "    </tr>\n",
       "  </tbody>\n",
       "</table>\n",
       "</div>"
      ],
      "text/plain": [
       "                       cts\n",
       "0  2017-08-06 20:06:57.000\n",
       "1  2017-06-19 09:31:16.000\n",
       "2  2017-03-11 20:05:03.000\n",
       "3  2016-09-13 16:27:16.000\n",
       "4  2015-10-18 10:19:27.000"
      ]
     },
     "execution_count": 18,
     "metadata": {},
     "output_type": "execute_result"
    }
   ],
   "source": [
    "posts.head()"
   ]
  },
  {
   "cell_type": "code",
   "execution_count": 3,
   "id": "1c5bd1c6",
   "metadata": {},
   "outputs": [],
   "source": [
    "posts.cts = pd.to_datetime(posts.cts)\n",
    "posts[\"post_time\"] = posts.cts.apply(date_time_to_time)\n",
    "posts.post_time = pd.to_datetime(posts.post_time, format=\"%H:%M:%S\")"
   ]
  },
  {
   "cell_type": "code",
   "execution_count": null,
   "id": "64d78828",
   "metadata": {},
   "outputs": [],
   "source": []
  },
  {
   "cell_type": "code",
   "execution_count": 4,
   "id": "72179dd2",
   "metadata": {},
   "outputs": [
    {
     "data": {
      "text/plain": [
       "0       1900-01-01 20:06:57\n",
       "1       1900-01-01 09:31:16\n",
       "2       1900-01-01 20:05:03\n",
       "3       1900-01-01 16:27:16\n",
       "4       1900-01-01 10:19:27\n",
       "                ...        \n",
       "49995   1900-01-01 03:15:22\n",
       "49996   1900-01-01 02:53:26\n",
       "49997   1900-01-01 06:07:06\n",
       "49998   1900-01-01 01:57:51\n",
       "49999   1900-01-01 21:18:22\n",
       "Name: post_time, Length: 50000, dtype: datetime64[ns]"
      ]
     },
     "execution_count": 4,
     "metadata": {},
     "output_type": "execute_result"
    }
   ],
   "source": [
    "posts.post_time"
   ]
  },
  {
   "cell_type": "code",
   "execution_count": 5,
   "id": "37112107",
   "metadata": {},
   "outputs": [],
   "source": [
    "posts.cts.dropna(inplace=True)"
   ]
  },
  {
   "cell_type": "markdown",
   "id": "bb29ff42",
   "metadata": {},
   "source": [
    "## What is the most common time in which users publish their posts?"
   ]
  },
  {
   "cell_type": "code",
   "execution_count": 6,
   "id": "07a1de5a",
   "metadata": {},
   "outputs": [
    {
     "data": {
      "text/plain": [
       "'20:57:50'"
      ]
     },
     "execution_count": 6,
     "metadata": {},
     "output_type": "execute_result"
    }
   ],
   "source": [
    "most_common_time(posts)"
   ]
  },
  {
   "cell_type": "code",
   "execution_count": 7,
   "id": "16ab74fa",
   "metadata": {},
   "outputs": [
    {
     "ename": "ValueError",
     "evalue": "The truth value of a Series is ambiguous. Use a.empty, a.bool(), a.item(), a.any() or a.all().",
     "output_type": "error",
     "traceback": [
      "\u001b[1;31m---------------------------------------------------------------------------\u001b[0m",
      "\u001b[1;31mValueError\u001b[0m                                Traceback (most recent call last)",
      "Cell \u001b[1;32mIn [7], line 1\u001b[0m\n\u001b[1;32m----> 1\u001b[0m \u001b[43mfind_posts_between\u001b[49m\u001b[43m(\u001b[49m\u001b[43mposts\u001b[49m\u001b[43m,\u001b[49m\u001b[43m \u001b[49m\u001b[43m[\u001b[49m\u001b[43m(\u001b[49m\u001b[38;5;124;43m\"\u001b[39;49m\u001b[38;5;124;43m1900-01-01 20:00:00\u001b[39;49m\u001b[38;5;124;43m\"\u001b[39;49m\u001b[43m,\u001b[49m\u001b[43m \u001b[49m\u001b[38;5;124;43m\"\u001b[39;49m\u001b[38;5;124;43m1900-01-01 21:00:00\u001b[39;49m\u001b[38;5;124;43m\"\u001b[39;49m\u001b[43m)\u001b[49m\u001b[43m]\u001b[49m\u001b[43m)\u001b[49m\n",
      "File \u001b[1;32m~\\Desktop\\Uni\\MSc\\Year 1\\ADM\\homework_2\\adm-2022-hw-2\\posts\\publishing.py:56\u001b[0m, in \u001b[0;36mfind_posts_between\u001b[1;34m(posts, intervals)\u001b[0m\n\u001b[0;32m     45\u001b[0m \u001b[38;5;28;01mdef\u001b[39;00m \u001b[38;5;21mfind_posts_between\u001b[39m(posts : pd\u001b[38;5;241m.\u001b[39mDataFrame, intervals):\n\u001b[0;32m     46\u001b[0m     \u001b[38;5;124;03m\"\"\"Finds posts with post times within the given list of inclusive intervals.\u001b[39;00m\n\u001b[0;32m     47\u001b[0m \n\u001b[0;32m     48\u001b[0m \u001b[38;5;124;03m    :arg\u001b[39;00m\n\u001b[1;32m   (...)\u001b[0m\n\u001b[0;32m     54\u001b[0m \u001b[38;5;124;03m    number_of_posts - a list of number of posts, where the indeces match those of the intervals.\u001b[39;00m\n\u001b[0;32m     55\u001b[0m \u001b[38;5;124;03m    \"\"\"\u001b[39;00m\n\u001b[1;32m---> 56\u001b[0m     number_of_posts \u001b[38;5;241m=\u001b[39m [_find_posts_between(posts, start, end) \u001b[38;5;28;01mfor\u001b[39;00m start, end \u001b[38;5;129;01min\u001b[39;00m intervals]\n\u001b[0;32m     57\u001b[0m     intervals_labels \u001b[38;5;241m=\u001b[39m \u001b[38;5;28mlist\u001b[39m(\u001b[38;5;28mmap\u001b[39m(\u001b[38;5;28;01mlambda\u001b[39;00m start, end : \u001b[38;5;124mf\u001b[39m\u001b[38;5;124m\"\u001b[39m\u001b[38;5;132;01m{\u001b[39;00mstart\u001b[38;5;132;01m}\u001b[39;00m\u001b[38;5;124m - \u001b[39m\u001b[38;5;132;01m{\u001b[39;00mend\u001b[38;5;132;01m}\u001b[39;00m\u001b[38;5;124m\"\u001b[39m))\n\u001b[0;32m     58\u001b[0m     \u001b[38;5;28;01mreturn\u001b[39;00m intervals_labels, number_of_posts\n",
      "File \u001b[1;32m~\\Desktop\\Uni\\MSc\\Year 1\\ADM\\homework_2\\adm-2022-hw-2\\posts\\publishing.py:56\u001b[0m, in \u001b[0;36m<listcomp>\u001b[1;34m(.0)\u001b[0m\n\u001b[0;32m     45\u001b[0m \u001b[38;5;28;01mdef\u001b[39;00m \u001b[38;5;21mfind_posts_between\u001b[39m(posts : pd\u001b[38;5;241m.\u001b[39mDataFrame, intervals):\n\u001b[0;32m     46\u001b[0m     \u001b[38;5;124;03m\"\"\"Finds posts with post times within the given list of inclusive intervals.\u001b[39;00m\n\u001b[0;32m     47\u001b[0m \n\u001b[0;32m     48\u001b[0m \u001b[38;5;124;03m    :arg\u001b[39;00m\n\u001b[1;32m   (...)\u001b[0m\n\u001b[0;32m     54\u001b[0m \u001b[38;5;124;03m    number_of_posts - a list of number of posts, where the indeces match those of the intervals.\u001b[39;00m\n\u001b[0;32m     55\u001b[0m \u001b[38;5;124;03m    \"\"\"\u001b[39;00m\n\u001b[1;32m---> 56\u001b[0m     number_of_posts \u001b[38;5;241m=\u001b[39m [\u001b[43m_find_posts_between\u001b[49m\u001b[43m(\u001b[49m\u001b[43mposts\u001b[49m\u001b[43m,\u001b[49m\u001b[43m \u001b[49m\u001b[43mstart\u001b[49m\u001b[43m,\u001b[49m\u001b[43m \u001b[49m\u001b[43mend\u001b[49m\u001b[43m)\u001b[49m \u001b[38;5;28;01mfor\u001b[39;00m start, end \u001b[38;5;129;01min\u001b[39;00m intervals]\n\u001b[0;32m     57\u001b[0m     intervals_labels \u001b[38;5;241m=\u001b[39m \u001b[38;5;28mlist\u001b[39m(\u001b[38;5;28mmap\u001b[39m(\u001b[38;5;28;01mlambda\u001b[39;00m start, end : \u001b[38;5;124mf\u001b[39m\u001b[38;5;124m\"\u001b[39m\u001b[38;5;132;01m{\u001b[39;00mstart\u001b[38;5;132;01m}\u001b[39;00m\u001b[38;5;124m - \u001b[39m\u001b[38;5;132;01m{\u001b[39;00mend\u001b[38;5;132;01m}\u001b[39;00m\u001b[38;5;124m\"\u001b[39m))\n\u001b[0;32m     58\u001b[0m     \u001b[38;5;28;01mreturn\u001b[39;00m intervals_labels, number_of_posts\n",
      "File \u001b[1;32m~\\Desktop\\Uni\\MSc\\Year 1\\ADM\\homework_2\\adm-2022-hw-2\\posts\\publishing.py:72\u001b[0m, in \u001b[0;36m_find_posts_between\u001b[1;34m(posts, start_time, end_time)\u001b[0m\n\u001b[0;32m     61\u001b[0m \u001b[38;5;28;01mdef\u001b[39;00m \u001b[38;5;21m_find_posts_between\u001b[39m(posts : pd\u001b[38;5;241m.\u001b[39mDataFrame, start_time, end_time):\n\u001b[0;32m     62\u001b[0m     \u001b[38;5;124;03m\"\"\"Finds posts between the given inclusive start and  inclusive end interval.\u001b[39;00m\n\u001b[0;32m     63\u001b[0m \n\u001b[0;32m     64\u001b[0m \u001b[38;5;124;03m    :arg\u001b[39;00m\n\u001b[1;32m   (...)\u001b[0m\n\u001b[0;32m     70\u001b[0m \u001b[38;5;124;03m    the number of posts between the given interval\u001b[39;00m\n\u001b[0;32m     71\u001b[0m \u001b[38;5;124;03m    \"\"\"\u001b[39;00m\n\u001b[1;32m---> 72\u001b[0m     interval_mask \u001b[38;5;241m=\u001b[39m posts\u001b[38;5;241m.\u001b[39mpost_time \u001b[38;5;241m>\u001b[39m\u001b[38;5;241m=\u001b[39m start_time \u001b[38;5;129;01mand\u001b[39;00m posts\u001b[38;5;241m.\u001b[39mposttime \u001b[38;5;241m<\u001b[39m\u001b[38;5;241m=\u001b[39m end_time\n\u001b[0;32m     73\u001b[0m     \u001b[38;5;28;01mreturn\u001b[39;00m \u001b[38;5;28mlen\u001b[39m(posts\u001b[38;5;241m.\u001b[39mloc[interval_mask])\n",
      "File \u001b[1;32mc:\\users\\jonas\\desktop\\uni\\msc\\year 1\\adm\\homework_2\\adm-2022-hw-2\\env\\lib\\site-packages\\pandas\\core\\generic.py:1526\u001b[0m, in \u001b[0;36mNDFrame.__nonzero__\u001b[1;34m(self)\u001b[0m\n\u001b[0;32m   1524\u001b[0m \u001b[38;5;129m@final\u001b[39m\n\u001b[0;32m   1525\u001b[0m \u001b[38;5;28;01mdef\u001b[39;00m \u001b[38;5;21m__nonzero__\u001b[39m(\u001b[38;5;28mself\u001b[39m) \u001b[38;5;241m-\u001b[39m\u001b[38;5;241m>\u001b[39m NoReturn:\n\u001b[1;32m-> 1526\u001b[0m     \u001b[38;5;28;01mraise\u001b[39;00m \u001b[38;5;167;01mValueError\u001b[39;00m(\n\u001b[0;32m   1527\u001b[0m         \u001b[38;5;124mf\u001b[39m\u001b[38;5;124m\"\u001b[39m\u001b[38;5;124mThe truth value of a \u001b[39m\u001b[38;5;132;01m{\u001b[39;00m\u001b[38;5;28mtype\u001b[39m(\u001b[38;5;28mself\u001b[39m)\u001b[38;5;241m.\u001b[39m\u001b[38;5;18m__name__\u001b[39m\u001b[38;5;132;01m}\u001b[39;00m\u001b[38;5;124m is ambiguous. \u001b[39m\u001b[38;5;124m\"\u001b[39m\n\u001b[0;32m   1528\u001b[0m         \u001b[38;5;124m\"\u001b[39m\u001b[38;5;124mUse a.empty, a.bool(), a.item(), a.any() or a.all().\u001b[39m\u001b[38;5;124m\"\u001b[39m\n\u001b[0;32m   1529\u001b[0m     )\n",
      "\u001b[1;31mValueError\u001b[0m: The truth value of a Series is ambiguous. Use a.empty, a.bool(), a.item(), a.any() or a.all()."
     ]
    }
   ],
   "source": [
    "find_posts_between(posts, [(\"1900-01-01 20:00:00\", \"1900-01-01 21:00:00\")])"
   ]
  }
 ],
 "metadata": {
  "kernelspec": {
   "display_name": "Python 3 (ipykernel)",
   "language": "python",
   "name": "python3"
  },
  "language_info": {
   "codemirror_mode": {
    "name": "ipython",
    "version": 3
   },
   "file_extension": ".py",
   "mimetype": "text/x-python",
   "name": "python",
   "nbconvert_exporter": "python",
   "pygments_lexer": "ipython3",
   "version": "3.9.0"
  }
 },
 "nbformat": 4,
 "nbformat_minor": 5
}
