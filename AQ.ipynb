{
 "cells": [
  {
   "cell_type": "markdown",
   "id": "6b163125",
   "metadata": {},
   "source": [
    "# AQ1 \n",
    "What is the output of this algorithm? Describe the mechanism of the algorithm in detail . We do not want to know only its final result. (Describe one example on your own)\n",
    "\n",
    "```\n",
    "Input: \n",
    "    N : an integer \n",
    "    List : array of characters of length N without repetition\n",
    "    \n",
    "function f1(sequence, end): \n",
    "    For i=0 To end:\n",
    "        OUTPUT sequence[i]\n",
    "    EndFor\n",
    "    Output \"\\n\"\n",
    "    \n",
    "function f2(sequence, start, end): \n",
    "    If start = end: \n",
    "        f1(sequence, end)\n",
    "    Else\n",
    "        For i=start To end: \n",
    "            temp <-- sequence[start]\n",
    "            sequence[start] <-- sequence[i]\n",
    "            sequence[i] <-- temp\n",
    "            f2(sequence, start+1, end)\n",
    "            temp <-- sequence[start]\n",
    "            sequence[start] <-- sequence[i]\n",
    "            sequence[i] <-- temp\n",
    "f2(List, 0, N)\n",
    "```\n",
    "\n",
    "---\n",
    "\n",
    "## What does the algorithm do?\n",
    "The following algorithm outputs permutations of the characters given as input as a list. A permutation is defined as *each of the several possible ways in which a set or number of things can be ordered or arranged*.\n",
    "\n",
    "## How does it do it?\n",
    "The general idea behind recursively creating a permutation of a sequence of characters is that we go through all characters in the sequence, **freeze** a portion of the sequence and permute the remaining characters. \n",
    "\n",
    "### f1\n",
    "In the first function `f1`, we receive as input:\n",
    "* `sequence`: a sequence of characters. \n",
    "* `end`: an integer. \n",
    "\n",
    "The function prints all characters in the sequence on separate lines, followed by a final new line at the end.\n",
    "\n",
    "---\n",
    "\n",
    "### f2\n",
    "In the second function `f2`, we the input is:\n",
    "* `sequence`: a sequence of characters.\n",
    "* `start`: an integer that specifies the start index of the sequence of characters.\n",
    "* `end`: an integer that specifies the end index of the sequence of characters.\n",
    "\n",
    "If the two values `start` and `end` are equal, it means that we have reached the end of a single permutation, and the function `f1` described above is called to print the permuted sequence of characters.\n",
    "\n",
    "If the value of `start` is different from the value of `end`, we loop over all indeces from `start` to `end`. During each iteration of the loop, we first swap the starting value of the sequence with the `ith` character in the sequence.\n",
    "\n",
    "E.g. when `start = 0` and `i = 1`, we get `abc` -> `bac`.\n",
    "\n",
    "We do this because we want to **freeze** a start character in place while permuting the remaining characters in the sequence. Permuting the subsequence is the same as permuting the entire sequence, so we make a recursive call to `f2` with the start value increased by `1`, which will make the for loop operate over a smaller subsequence of the original sequence. We will hit the bottom of the recursion tree when the subsequence is of length 1, at which point `f1` is called and a single character is printed. Once we have exited a recursive call, we again swap the start with the `ith` character in the sequence.\n",
    "\n",
    "The recursion tree below shows the swapping and freezing of characters in the sequence `ABC`, to create all permutations.\n",
    "\n",
    "---\n",
    "\n",
    "![permutation_recursion_tree](docs/permutation_recursion_tree.svg)\n",
    "\n",
    "---"
   ]
  },
  {
   "cell_type": "code",
   "execution_count": 2,
   "id": "2a61c425",
   "metadata": {},
   "outputs": [
    {
     "name": "stdout",
     "output_type": "stream",
     "text": [
      "3\n",
      "abc\n",
      "a\n",
      "b\n",
      "c\n",
      "\n",
      "\n",
      "a\n",
      "c\n",
      "b\n",
      "\n",
      "\n",
      "b\n",
      "a\n",
      "c\n",
      "\n",
      "\n",
      "b\n",
      "c\n",
      "a\n",
      "\n",
      "\n",
      "c\n",
      "b\n",
      "a\n",
      "\n",
      "\n",
      "c\n",
      "a\n",
      "b\n",
      "\n",
      "\n"
     ]
    }
   ],
   "source": [
    "N = int(input()) # integer\n",
    "List = list(input()) # array of characters of length N without repetition\n",
    "\n",
    "def f1(sequence, end): \n",
    "    for i in range(0,end):\n",
    "        print(sequence[i])\n",
    "    print(\"\\n\")\n",
    "    \n",
    "    \n",
    "def f2(sequence, start, end): \n",
    "    if start == end: \n",
    "        f1(sequence, end)\n",
    "    else:\n",
    "        for i in range(start, end): \n",
    "            temp = sequence[start]\n",
    "            sequence[start] = sequence[i]\n",
    "            sequence[i] = temp\n",
    "            f2(sequence, start+1, end)\n",
    "            temp = sequence[start]\n",
    "            sequence[start] = sequence[i]\n",
    "            sequence[i] = temp\n",
    "\n",
    "f2(List, 0, N)"
   ]
  },
  {
   "cell_type": "markdown",
   "id": "06db15b2",
   "metadata": {},
   "source": [
    "## Complexity\n",
    "Per definition, the number of permutations for a set $S$ with $n$ elements is $n!$. To print a single permutation using the recursive algorithm, we need to go down the entire tree until we hit a leaf, which is $n$ operations. Since we need to do this for $n!$ permutations, we have a time complexity of $O(n \\times n!) = O(n!)$."
   ]
  },
  {
   "cell_type": "markdown",
   "id": "fbc740b7",
   "metadata": {},
   "source": [
    "## Is this algorithm the optimal one to produce this output?\n",
    "Since we always need to compute $n!$ permutations, any algorithm will be bounded by $O(n!)$. There are other algorithms that find all permutations differently but still have the same time complexity, e.g. [Steinhaus–Johnson–Trotter algorithm](https://en.wikipedia.org/wiki/Steinhaus%E2%80%93Johnson%E2%80%93Trotter_algorithm)."
   ]
  },
  {
   "cell_type": "markdown",
   "id": "497a13fc",
   "metadata": {},
   "source": [
    "--- "
   ]
  },
  {
   "cell_type": "markdown",
   "id": "7ee18cb1",
   "metadata": {},
   "source": [
    "# AQ2 Ribbon Cutting"
   ]
  },
  {
   "cell_type": "code",
   "execution_count": 43,
   "id": "92d9a018",
   "metadata": {},
   "outputs": [],
   "source": [
    "import timeit\n",
    "import matplotlib.pyplot as plt"
   ]
  },
  {
   "cell_type": "markdown",
   "id": "8d7354d4",
   "metadata": {},
   "source": [
    "## 1. Naive Recursive Algorithm\n",
    "\n",
    "---\n",
    "\n",
    "### Idea\n",
    "The general idea behind a recursive algorithm for calculating the maximum product of a ribbon of length $n$, is that we find **all possible ways** to cut the ribbon into two parts $(a, b)$. For each pair of parts, we want to find **two** products:\n",
    "\n",
    "1. The product of the lengths.\n",
    "1. The product of part $a$ and the maximum product of $b$. \n",
    "\n",
    "We take the **max** of the two products because the length of part $b$ is **not necessarily** the maximum product of $b$. The max will be a **candidate maximum product** for the ribbon.\n",
    "\n",
    "Do this for all possible pairs of the ribbon and find the max of all candidate maximum products. This value will be the maximum product of the ribbon.\n",
    "\n",
    "#### Steps\n",
    "1. Find all ways to cut the ribbon into two parts $(a, b)$.\n",
    "1. For each pair, find the product of the lengths.\n",
    "1. For each pair, find the product of the first cut and the maximum product of the second cut.\n",
    "1. For each pair, get the max of the two products.\n",
    "1. If the max is greater than the existing max, replace it.\n",
    "\n",
    "#### Example, n = 3\n",
    "For $n=3$ our possible pairs are $(1, 2), (2, 1)$. \n",
    "\n",
    "Products of lengths is $1 \\times 2 = 2$ and $2 \\times 1 = 2$.\n",
    "\n",
    "Max products of the second cuts are $max\\_product(2) = 1 \\times 1 = 1$ and $max\\_product(1) = 0$\n",
    "\n",
    "Max of the products of the second cuts and the products of the lengths is $max(2, 1) = 2$ and $max(2, 0) = 2$.\n",
    "\n",
    "Max of the product of lengths is $max(2, 2) = 2$.\n",
    "\n",
    "The maximum product of a ribbon of length $3$ is $2$.\n",
    "\n",
    "---\n",
    "\n",
    "### Algorithm\n",
    "\n",
    "#### Base Case\n",
    "We know that the max of a ribbon of length 0 or 1 is 0, because there is no way to cut the ribbon into integer sized pieces. A ribbon of length 0 is a ribbon that doesn't exist. A ribbon of length 1 cannot be cut without creating pieces that are of non-integer sizes.\n",
    "\n",
    "$max\\_product(0) = max\\_product(1) = 0$.\n",
    "\n",
    "#### Other cases\n",
    "For ribbons that have length $n > 1$, we do parts 1 - 5 as described in the Steps section. "
   ]
  },
  {
   "cell_type": "code",
   "execution_count": 44,
   "id": "94c5cddf",
   "metadata": {},
   "outputs": [],
   "source": [
    "def max_ribbon_product_naive(n):\n",
    "    \"\"\"Recursively calculates the maximum product of integer sized pieces of a ribbon of length n.\n",
    "\n",
    "    :args\n",
    "    n - integer that is the length of the ribbon.\n",
    "\n",
    "    :return\n",
    "    an integer that is the maximum product.\n",
    "    \"\"\"\n",
    "    # base case\n",
    "    if n <= 1:\n",
    "        return 0\n",
    "\n",
    "    max_product = 0\n",
    "\n",
    "    # 1\n",
    "    for ribbon_length_to_remove in range(1, n):\n",
    "        remaining_ribbon = n - ribbon_length_to_remove\n",
    "        smaller_ribbon_product = ribbon_length_to_remove * max_ribbon_product_naive(remaining_ribbon)\n",
    "        \n",
    "        # 2\n",
    "        product_of_ribbon_lengths = ribbon_length_to_remove * smaller_ribbon_product\n",
    "        \n",
    "        # 3\n",
    "        product_of_length_and_max_product = ribbon_length_to_remove * (remaining_ribbon - ribbon_length_to_remove)\n",
    "        \n",
    "        # 4\n",
    "        current_max = max(product_of_ribbon_lengths, product_of_length_and_max_product)\n",
    "        \n",
    "        # 5\n",
    "        max_product = max(current_max, max_product)\n",
    "\n",
    "    return max_product"
   ]
  },
  {
   "cell_type": "markdown",
   "id": "2e20f2a1",
   "metadata": {},
   "source": [
    "## 2. Naive Ribbon Cutting Recursion Tree\n",
    "The image below shows a recursion tree for the naive ribbon cutting when $n=4$. To calculate the maximum product for $n=4$, we do a depth first traversal from left to right.\n",
    "\n",
    "This approach means that we perform unnecessary computations, as $max\\_ribbon\\_product\\_naive(2)$ is computed twice for example. For small values of $n$ this is not a problem, howeverr as $n$ grows to larger values, the number of redundant computations being made grows exponentially.\n",
    "\n",
    "---\n",
    "![naive_ribbon_recursive_tree](docs/naive_ribbon_recursion_tree.svg)\n",
    "\n",
    "---\n",
    "\n",
    "### Complexity\n",
    "Let $R(n)$ be the function that computes the product of ribbon of length $n$. In the naive function, we have a loop from $1 - n$ in which we make $n - 2$ recursive calls. Hence, we can write the cost of the function $R(n)$ as:\n",
    "\n",
    "$$ R(n) = R(n-1) + R(n-2) + R(n-3) + ... + R(1)$$\n",
    "\n",
    "Let us look at the individual terms of this sum. The cost of $R(n1)$ is:\n",
    "\n",
    "$$R(n-1) = R(n-2) + R(n-3) + ... + R(1)$$\n",
    "\n",
    "The terms coming after $R(n-1)$ in the first sum are actually equal to $R(n-1)$, as can be seen above. Substituting we get that:\n",
    "\n",
    "$$R(n) = R(n-1) + R(n-1) = 2R(n-1)$$\n",
    "\n",
    "Following this logic for all $(n - k)$, we get:\n",
    "\n",
    "\\begin{align}\n",
    "R(n) &= R(n-1) + R(n-2) + R(n-3) + ... + R(1) \\\\ \n",
    "& = R(n-1) + R(n-1) \\\\\n",
    "& = 2R(n-1) \\\\\n",
    "& = 2 \\times 2R(n-2) \\\\\n",
    "& = 2 \\times 2 \\times 2R(n-3) \\\\\n",
    "& = 2^{n-1} \\times 2R(n-(n-1)) \\\\\n",
    "& = 2^{n-1} \\times 2R(1) \\\\\n",
    "& = 2^{n-1} \\\\\n",
    "\\end{align}\n",
    "\n",
    "Which is an exponential time complexity $O(2^n)$.\n",
    "\n",
    "---"
   ]
  },
  {
   "cell_type": "markdown",
   "id": "bb833bb1",
   "metadata": {},
   "source": [
    "## 3. Dynamic Ribbon Cutting\n",
    "The dynamic programming version of the ribbon cutting algorithm mostly follows the same steps as the naive version. \n",
    "\n",
    "The difference that makes this version much faster is that a dictionary is used to store results once they are calculated. Each entry in the dictionary is a key-value pair of the ribbon length that is currently checked and the maximum product of that ribbon length. \n",
    "\n",
    "Whenever the function is called for a ribbon length $n$, the dictionary is checked for an entry $n$. If found, the value from the dictionary is returned. This basically gives us $O(1)$ for an $n$ that has already been computed (depending on the hash function)."
   ]
  },
  {
   "cell_type": "code",
   "execution_count": 45,
   "id": "2134b7d7",
   "metadata": {},
   "outputs": [],
   "source": [
    "def max_ribbon_product_dynamic(n, seen):\n",
    "    \"\"\"Calculates the maximum product of integer sized pieces of a ribbon of length n using dynamic programming.\n",
    "\n",
    "    :args\n",
    "    n - integer that is the length of the ribbon.\n",
    "    seen - a dictionary of seen values.\n",
    "\n",
    "    :return\n",
    "    an integer that is the maximum product.\n",
    "    \"\"\"\n",
    "    if n in seen:\n",
    "        return seen[n]\n",
    "    \n",
    "    # base case\n",
    "    if n <= 1:\n",
    "        seen[n] = 0\n",
    "        return seen[n]\n",
    "\n",
    "    max_product = 0\n",
    "\n",
    "    for ribbon_length_to_remove in range(1, n):\n",
    "        remaining_ribbon = n - ribbon_length_to_remove\n",
    "        seen_max_product = max_ribbon_product_dynamic(remaining_ribbon, seen)\n",
    "        seen[remaining_ribbon] = seen_max_product\n",
    "        ribbon_length_product = ribbon_length_to_remove * seen_max_product            \n",
    "        \n",
    "        # 2\n",
    "        product_of_ribbon_lengths = ribbon_length_to_remove * ribbon_length_product\n",
    "        \n",
    "        # 3\n",
    "        product_of_length_and_max_product = ribbon_length_to_remove * (remaining_ribbon - ribbon_length_to_remove)\n",
    "        \n",
    "        # 4\n",
    "        current_max = max(product_of_ribbon_lengths, product_of_length_and_max_product)\n",
    "        \n",
    "        # 5\n",
    "        max_product = max(current_max, max_product)\n",
    "\n",
    "    return max_product"
   ]
  },
  {
   "cell_type": "markdown",
   "id": "7b1a655a",
   "metadata": {},
   "source": [
    "## 4. Dynamic Ribbon Cutting Recursion Tree\n",
    "The image below shows a recursion tree for the dynamic ribbon cutting when $n=4$. To calculate the maximum product for $n=4$, we do a depth first traversal from left to right.\n",
    "\n",
    "In contrast to the naive ribbon recursion tree, we can eliminate the right hand branch because by the time we ask for $max_ribbon_product_dynamic(2)$, we have already calculated it in the left branch.\n",
    "\n",
    "For smaller values for $n$, the computational difference is small. As $n$ grows however, the gain made by eliminating branches is significant, and the overall function becomes polynomial instead of exponential.\n",
    "\n",
    "---\n",
    "\n",
    "![dynamic_ribbon_recursion_tree](docs/dynamic_ribbon_recursion_tree.svg)\n",
    "\n",
    "---\n",
    "\n",
    "### Complexity\n",
    "Using dynamic programming, we only have to go down the recursive tree once until we hit the first leaf. Once we have done that, we will have a value stored for each $n$ and retrieving the value is a constant time $O(1)$. \n",
    "\n",
    "We are still making $n-1$ recursive calls, however for each recursive call we don't need to go down the entire tree. Only the traversal to the first leaf goes all the way down. This means that once we have done $n-1$ iterations, all other computations we need to do are constants.\n",
    "\n",
    "Again, let the cost of the ribbon function $R(n)$ be \n",
    "\n",
    "$$R(n) = R(n-1) + R(n-2) + R(n-3) + ... + R(1)$$\n",
    "\n",
    "Calculating $R(n-1)$ means that we now have calculated and stored the values for all $R(n-k)$, which means that any recursive calls thereafter, are constant operations $O(1)$, and we just need to count the loops. \n",
    "\n",
    "Since we cut the ribbon $(n-1)$ times, and every part that we end up with we also cut $(n-1)$ times, we get the complexity\n",
    "\n",
    "$$(n-1)(n-1) = n^2 - 2n + 2$$\n",
    "\n",
    "Which is a polynomial time complexity $O(n^2)$ as $n^2$ is the dominating term."
   ]
  },
  {
   "cell_type": "markdown",
   "id": "f1cc9151",
   "metadata": {},
   "source": [
    "## 5. Evaluate the running time of your algorithm for the sizes (Ns) in the range of [2, 25], plot the results"
   ]
  },
  {
   "cell_type": "code",
   "execution_count": 49,
   "id": "b3bfac8e",
   "metadata": {},
   "outputs": [],
   "source": [
    "naive_times = []\n",
    "dynamic_times = []\n",
    "\n",
    "n_dynamic_runs = int(10e4)\n",
    "start_length = 2\n",
    "end_length = 26\n",
    "\n",
    "for ribbon_length in range(start_length, end_length):\n",
    "    naive_time = timeit.timeit(stmt='max_ribbon_product_naive(ribbon_length)', setup='pass', number=1, globals=globals())\n",
    "    dynamic_time = timeit.timeit(stmt='max_ribbon_product_dynamic(ribbon_length, {})', setup='pass', number=n_dynamic_runs, globals=globals())\n",
    "    \n",
    "    naive_times.append(naive_time)\n",
    "    dynamic_times.append(dynamic_time / n_dynamic_runs)"
   ]
  },
  {
   "cell_type": "markdown",
   "id": "faaa85b3",
   "metadata": {},
   "source": [
    "### Naive Max Ribbon Plot\n",
    "The execution time for the naive max ribbon algorithm appears to follow an exponential curve, though the algorithm was only timed **once** for each ribbon length value, due to the long runtime, and is therefore susceptible to noise."
   ]
  },
  {
   "cell_type": "code",
   "execution_count": 47,
   "id": "e711b8fc",
   "metadata": {},
   "outputs": [
    {
     "data": {
      "text/plain": [
       "Text(0, 0.5, 'Execution Time in seconds')"
      ]
     },
     "execution_count": 47,
     "metadata": {},
     "output_type": "execute_result"
    },
    {
     "data": {
      "image/png": "[encoded data removed]",
      "text/plain": [
       "<Figure size 640x480 with 1 Axes>"
      ]
     },
     "metadata": {},
     "output_type": "display_data"
    }
   ],
   "source": [
    "plt.plot(naive_times)\n",
    "plt.xlim(start_length, end_length)\n",
    "plt.title(\"Time Complexity of Recursive Naive Max Ribbon Product\")\n",
    "plt.xlabel(\"Ribbon Length\")\n",
    "plt.ylabel(\"Execution Time in seconds\")"
   ]
  },
  {
   "cell_type": "markdown",
   "id": "d0063403",
   "metadata": {},
   "source": [
    "### Dynamic Max Ribbon Plot\n",
    "The execution time for the naive max ribbon algorithm appears to follow a logarithmic curve. The times for each ribbon length were averaged over 10,000 runs. This provides a somewhat smooth curve with minor noise. More runs for a larger interval of ribbon lengths would possibly produce a more conclusive result."
   ]
  },
  {
   "cell_type": "code",
   "execution_count": 50,
   "id": "c460f7c3",
   "metadata": {},
   "outputs": [
    {
     "data": {
      "text/plain": [
       "Text(0, 0.5, 'Execution Time in seconds')"
      ]
     },
     "execution_count": 50,
     "metadata": {},
     "output_type": "execute_result"
    },
    {
     "data": {
      "image/png": "[encoded data removed]",
      "text/plain": [
       "<Figure size 640x480 with 1 Axes>"
      ]
     },
     "metadata": {},
     "output_type": "display_data"
    }
   ],
   "source": [
    "plt.plot(dynamic_times)\n",
    "plt.xlim(start_length, end_length)\n",
    "plt.title(\"Time Complexity of Recursive Dynamic Max Ribbon Product\")\n",
    "plt.xlabel(\"Ribbon Length\")\n",
    "plt.ylabel(\"Execution Time in seconds\")"
   ]
  }
 ],
 "metadata": {
  "kernelspec": {
   "display_name": "Python 3 (ipykernel)",
   "language": "python",
   "name": "python3"
  },
  "language_info": {
   "codemirror_mode": {
    "name": "ipython",
    "version": 3
   },
   "file_extension": ".py",
   "mimetype": "text/x-python",
   "name": "python",
   "nbconvert_exporter": "python",
   "pygments_lexer": "ipython3",
   "version": "3.9.0"
  }
 },
 "nbformat": 4,
 "nbformat_minor": 5
}
