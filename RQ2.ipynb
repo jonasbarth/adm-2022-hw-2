{
 "cells": [
  {
   "cell_type": "code",
   "execution_count": 1,
   "id": "e2386716",
   "metadata": {},
   "outputs": [
    {
     "data": {
      "text/html": [
       "<style type='text/css'>\n",
       ".datatable table.frame { margin-bottom: 0; }\n",
       ".datatable table.frame thead { border-bottom: none; }\n",
       ".datatable table.frame tr.coltypes td {  color: #FFFFFF;  line-height: 6px;  padding: 0 0.5em;}\n",
       ".datatable .bool    { background: #DDDD99; }\n",
       ".datatable .object  { background: #565656; }\n",
       ".datatable .int     { background: #5D9E5D; }\n",
       ".datatable .float   { background: #4040CC; }\n",
       ".datatable .str     { background: #CC4040; }\n",
       ".datatable .time    { background: #40CC40; }\n",
       ".datatable .row_index {  background: var(--jp-border-color3);  border-right: 1px solid var(--jp-border-color0);  color: var(--jp-ui-font-color3);  font-size: 9px;}\n",
       ".datatable .frame tbody td { text-align: left; }\n",
       ".datatable .frame tr.coltypes .row_index {  background: var(--jp-border-color0);}\n",
       ".datatable th:nth-child(2) { padding-left: 12px; }\n",
       ".datatable .hellipsis {  color: var(--jp-cell-editor-border-color);}\n",
       ".datatable .vellipsis {  background: var(--jp-layout-color0);  color: var(--jp-cell-editor-border-color);}\n",
       ".datatable .na {  color: var(--jp-cell-editor-border-color);  font-size: 80%;}\n",
       ".datatable .sp {  opacity: 0.25;}\n",
       ".datatable .footer { font-size: 9px; }\n",
       ".datatable .frame_dimensions {  background: var(--jp-border-color3);  border-top: 1px solid var(--jp-border-color0);  color: var(--jp-ui-font-color3);  display: inline-block;  opacity: 0.6;  padding: 1px 10px 1px 5px;}\n",
       "</style>\n"
      ],
      "text/plain": [
       "<IPython.core.display.HTML object>"
      ]
     },
     "metadata": {},
     "output_type": "display_data"
    }
   ],
   "source": [
    "import pandas as pd\n",
    "import matplotlib.pyplot as plt\n",
    "import seaborn as sns\n",
    "import datatable as dt"
   ]
  },
  {
   "cell_type": "code",
   "execution_count": 3,
   "id": "e4154de1",
   "metadata": {},
   "outputs": [
    {
     "name": "stdout",
     "output_type": "stream",
     "text": [
      "Collecting datatableNote: you may need to restart the kernel to use updated packages.\n",
      "\n",
      "  Downloading datatable-1.0.0-cp39-cp39-win_amd64.whl (4.0 MB)\n",
      "Installing collected packages: datatable\n",
      "Successfully installed datatable-1.0.0\n"
     ]
    }
   ],
   "source": [
    "pip install datatable "
   ]
  },
  {
   "cell_type": "markdown",
   "id": "9a29ee68",
   "metadata": {},
   "source": [
    "## [RQ2] Let's explore the dataset by finding simple insights regarding the profile and posts."
   ]
  },
  {
   "cell_type": "markdown",
   "id": "06402ff2",
   "metadata": {},
   "source": [
    "- ## Plot the number of posts for each profile in descending order."
   ]
  },
  {
   "cell_type": "markdown",
   "id": "90fed35c",
   "metadata": {},
   "source": [
    "\\- We take only the two coloumns (profile_name, n_posts) of interest to us from our DataFrame 'instagram_profiles.csv'"
   ]
  },
  {
   "cell_type": "code",
   "execution_count": 2,
   "id": "bd1df252",
   "metadata": {},
   "outputs": [],
   "source": [
    "prof_data = dt.fread('instagram_profiles.csv', sep='\\t', columns={\"profile_name\", \"firstname_lastname\", \"n_posts\", \"is_business_account\"}).to_pandas()"
   ]
  },
  {
   "cell_type": "code",
   "execution_count": 3,
   "id": "e1a925c4",
   "metadata": {},
   "outputs": [
    {
     "data": {
      "text/html": [
       "<div>\n",
       "<style scoped>\n",
       "    .dataframe tbody tr th:only-of-type {\n",
       "        vertical-align: middle;\n",
       "    }\n",
       "\n",
       "    .dataframe tbody tr th {\n",
       "        vertical-align: top;\n",
       "    }\n",
       "\n",
       "    .dataframe thead th {\n",
       "        text-align: right;\n",
       "    }\n",
       "</style>\n",
       "<table border=\"1\" class=\"dataframe\">\n",
       "  <thead>\n",
       "    <tr style=\"text-align: right;\">\n",
       "      <th></th>\n",
       "      <th>profile_name</th>\n",
       "      <th>firstname_lastname</th>\n",
       "      <th>n_posts</th>\n",
       "      <th>is_business_account</th>\n",
       "    </tr>\n",
       "  </thead>\n",
       "  <tbody>\n",
       "    <tr>\n",
       "      <th>0</th>\n",
       "      <td>jphillip033</td>\n",
       "      <td>John Pierce</td>\n",
       "      <td>170.0</td>\n",
       "      <td>False</td>\n",
       "    </tr>\n",
       "    <tr>\n",
       "      <th>1</th>\n",
       "      <td>mama_haas</td>\n",
       "      <td>Deanna</td>\n",
       "      <td>2878.0</td>\n",
       "      <td>False</td>\n",
       "    </tr>\n",
       "    <tr>\n",
       "      <th>2</th>\n",
       "      <td>yellowlightbreen</td>\n",
       "      <td>Eliza Gray</td>\n",
       "      <td>431.0</td>\n",
       "      <td>False</td>\n",
       "    </tr>\n",
       "    <tr>\n",
       "      <th>3</th>\n",
       "      <td>tec1025</td>\n",
       "      <td>Thomas Clark</td>\n",
       "      <td>NaN</td>\n",
       "      <td>NaN</td>\n",
       "    </tr>\n",
       "    <tr>\n",
       "      <th>4</th>\n",
       "      <td>luckyfluff</td>\n",
       "      <td></td>\n",
       "      <td>NaN</td>\n",
       "      <td>NaN</td>\n",
       "    </tr>\n",
       "    <tr>\n",
       "      <th>...</th>\n",
       "      <td>...</td>\n",
       "      <td>...</td>\n",
       "      <td>...</td>\n",
       "      <td>...</td>\n",
       "    </tr>\n",
       "    <tr>\n",
       "      <th>4509581</th>\n",
       "      <td>karenarkesteyn</td>\n",
       "      <td>Karen Arkesteyn</td>\n",
       "      <td>497.0</td>\n",
       "      <td>False</td>\n",
       "    </tr>\n",
       "    <tr>\n",
       "      <th>4509582</th>\n",
       "      <td>jornvlaeminck</td>\n",
       "      <td>Jorn Vlaeminck</td>\n",
       "      <td>NaN</td>\n",
       "      <td>NaN</td>\n",
       "    </tr>\n",
       "    <tr>\n",
       "      <th>4509583</th>\n",
       "      <td>s_degol</td>\n",
       "      <td>Sanne Degol</td>\n",
       "      <td>NaN</td>\n",
       "      <td>NaN</td>\n",
       "    </tr>\n",
       "    <tr>\n",
       "      <th>4509584</th>\n",
       "      <td>anwilms</td>\n",
       "      <td>An Wilms</td>\n",
       "      <td>183.0</td>\n",
       "      <td>False</td>\n",
       "    </tr>\n",
       "    <tr>\n",
       "      <th>4509585</th>\n",
       "      <td>arnaubassols_</td>\n",
       "      <td>Arnau Bassols Noguer</td>\n",
       "      <td>NaN</td>\n",
       "      <td>NaN</td>\n",
       "    </tr>\n",
       "  </tbody>\n",
       "</table>\n",
       "<p>4509586 rows × 4 columns</p>\n",
       "</div>"
      ],
      "text/plain": [
       "             profile_name    firstname_lastname  n_posts is_business_account\n",
       "0             jphillip033           John Pierce    170.0               False\n",
       "1               mama_haas                Deanna   2878.0               False\n",
       "2        yellowlightbreen            Eliza Gray    431.0               False\n",
       "3                 tec1025          Thomas Clark      NaN                 NaN\n",
       "4              luckyfluff                            NaN                 NaN\n",
       "...                   ...                   ...      ...                 ...\n",
       "4509581    karenarkesteyn       Karen Arkesteyn    497.0               False\n",
       "4509582     jornvlaeminck        Jorn Vlaeminck      NaN                 NaN\n",
       "4509583           s_degol           Sanne Degol      NaN                 NaN\n",
       "4509584           anwilms              An Wilms    183.0               False\n",
       "4509585     arnaubassols_  Arnau Bassols Noguer      NaN                 NaN\n",
       "\n",
       "[4509586 rows x 4 columns]"
      ]
     },
     "execution_count": 3,
     "metadata": {},
     "output_type": "execute_result"
    }
   ],
   "source": [
    "prof_data"
   ]
  },
  {
   "cell_type": "markdown",
   "id": "39f64151",
   "metadata": {},
   "source": [
    "\\- As we could see in RQ1, in the DataFrame there are many NaN values so now we remove the row of \"mydata\" where such 'non-values' are present\n",
    "\n",
    "Now we want to sort this coloumn in descending order"
   ]
  },
  {
   "cell_type": "code",
   "execution_count": 4,
   "id": "cd04a8a6",
   "metadata": {},
   "outputs": [],
   "source": [
    "prof_posts = prof_data[['profile_name', 'n_posts']].dropna().sort_values(\"n_posts\", ascending=False)"
   ]
  },
  {
   "cell_type": "code",
   "execution_count": 5,
   "id": "786c76a2",
   "metadata": {},
   "outputs": [
    {
     "data": {
      "text/html": [
       "<div>\n",
       "<style scoped>\n",
       "    .dataframe tbody tr th:only-of-type {\n",
       "        vertical-align: middle;\n",
       "    }\n",
       "\n",
       "    .dataframe tbody tr th {\n",
       "        vertical-align: top;\n",
       "    }\n",
       "\n",
       "    .dataframe thead th {\n",
       "        text-align: right;\n",
       "    }\n",
       "</style>\n",
       "<table border=\"1\" class=\"dataframe\">\n",
       "  <thead>\n",
       "    <tr style=\"text-align: right;\">\n",
       "      <th></th>\n",
       "      <th>profile_name</th>\n",
       "      <th>n_posts</th>\n",
       "    </tr>\n",
       "  </thead>\n",
       "  <tbody>\n",
       "    <tr>\n",
       "      <th>3990313</th>\n",
       "      <td>jasem33312</td>\n",
       "      <td>183730.0</td>\n",
       "    </tr>\n",
       "    <tr>\n",
       "      <th>2571453</th>\n",
       "      <td>koenigpic</td>\n",
       "      <td>142428.0</td>\n",
       "    </tr>\n",
       "    <tr>\n",
       "      <th>4338921</th>\n",
       "      <td>rudyanto62</td>\n",
       "      <td>126340.0</td>\n",
       "    </tr>\n",
       "    <tr>\n",
       "      <th>3942129</th>\n",
       "      <td>hometown_ni</td>\n",
       "      <td>125220.0</td>\n",
       "    </tr>\n",
       "    <tr>\n",
       "      <th>4219642</th>\n",
       "      <td>dwfitfiber_thailand</td>\n",
       "      <td>117262.0</td>\n",
       "    </tr>\n",
       "    <tr>\n",
       "      <th>...</th>\n",
       "      <td>...</td>\n",
       "      <td>...</td>\n",
       "    </tr>\n",
       "    <tr>\n",
       "      <th>2402230</th>\n",
       "      <td>faith.dever</td>\n",
       "      <td>0.0</td>\n",
       "    </tr>\n",
       "    <tr>\n",
       "      <th>2402229</th>\n",
       "      <td>sugarsprinkledglitter</td>\n",
       "      <td>0.0</td>\n",
       "    </tr>\n",
       "    <tr>\n",
       "      <th>377966</th>\n",
       "      <td>hannahkraft13</td>\n",
       "      <td>0.0</td>\n",
       "    </tr>\n",
       "    <tr>\n",
       "      <th>2402225</th>\n",
       "      <td>4pf_cj_</td>\n",
       "      <td>0.0</td>\n",
       "    </tr>\n",
       "    <tr>\n",
       "      <th>1243638</th>\n",
       "      <td>muricafer</td>\n",
       "      <td>0.0</td>\n",
       "    </tr>\n",
       "  </tbody>\n",
       "</table>\n",
       "<p>3452771 rows × 2 columns</p>\n",
       "</div>"
      ],
      "text/plain": [
       "                  profile_name   n_posts\n",
       "3990313             jasem33312  183730.0\n",
       "2571453              koenigpic  142428.0\n",
       "4338921             rudyanto62  126340.0\n",
       "3942129            hometown_ni  125220.0\n",
       "4219642    dwfitfiber_thailand  117262.0\n",
       "...                        ...       ...\n",
       "2402230            faith.dever       0.0\n",
       "2402229  sugarsprinkledglitter       0.0\n",
       "377966           hannahkraft13       0.0\n",
       "2402225                4pf_cj_       0.0\n",
       "1243638              muricafer       0.0\n",
       "\n",
       "[3452771 rows x 2 columns]"
      ]
     },
     "execution_count": 5,
     "metadata": {},
     "output_type": "execute_result"
    }
   ],
   "source": [
    "prof_posts"
   ]
  },
  {
   "cell_type": "code",
   "execution_count": 6,
   "id": "21013422",
   "metadata": {},
   "outputs": [],
   "source": [
    "prof_posts['n_posts'] = prof_posts['n_posts'].astype(int)"
   ]
  },
  {
   "cell_type": "code",
   "execution_count": 7,
   "id": "6accf77a",
   "metadata": {},
   "outputs": [
    {
     "data": {
      "text/html": [
       "<div>\n",
       "<style scoped>\n",
       "    .dataframe tbody tr th:only-of-type {\n",
       "        vertical-align: middle;\n",
       "    }\n",
       "\n",
       "    .dataframe tbody tr th {\n",
       "        vertical-align: top;\n",
       "    }\n",
       "\n",
       "    .dataframe thead th {\n",
       "        text-align: right;\n",
       "    }\n",
       "</style>\n",
       "<table border=\"1\" class=\"dataframe\">\n",
       "  <thead>\n",
       "    <tr style=\"text-align: right;\">\n",
       "      <th></th>\n",
       "      <th>profile_name</th>\n",
       "      <th>n_posts</th>\n",
       "    </tr>\n",
       "  </thead>\n",
       "  <tbody>\n",
       "    <tr>\n",
       "      <th>3990313</th>\n",
       "      <td>jasem33312</td>\n",
       "      <td>183730</td>\n",
       "    </tr>\n",
       "    <tr>\n",
       "      <th>2571453</th>\n",
       "      <td>koenigpic</td>\n",
       "      <td>142428</td>\n",
       "    </tr>\n",
       "    <tr>\n",
       "      <th>4338921</th>\n",
       "      <td>rudyanto62</td>\n",
       "      <td>126340</td>\n",
       "    </tr>\n",
       "    <tr>\n",
       "      <th>3942129</th>\n",
       "      <td>hometown_ni</td>\n",
       "      <td>125220</td>\n",
       "    </tr>\n",
       "    <tr>\n",
       "      <th>4219642</th>\n",
       "      <td>dwfitfiber_thailand</td>\n",
       "      <td>117262</td>\n",
       "    </tr>\n",
       "    <tr>\n",
       "      <th>...</th>\n",
       "      <td>...</td>\n",
       "      <td>...</td>\n",
       "    </tr>\n",
       "    <tr>\n",
       "      <th>2402230</th>\n",
       "      <td>faith.dever</td>\n",
       "      <td>0</td>\n",
       "    </tr>\n",
       "    <tr>\n",
       "      <th>2402229</th>\n",
       "      <td>sugarsprinkledglitter</td>\n",
       "      <td>0</td>\n",
       "    </tr>\n",
       "    <tr>\n",
       "      <th>377966</th>\n",
       "      <td>hannahkraft13</td>\n",
       "      <td>0</td>\n",
       "    </tr>\n",
       "    <tr>\n",
       "      <th>2402225</th>\n",
       "      <td>4pf_cj_</td>\n",
       "      <td>0</td>\n",
       "    </tr>\n",
       "    <tr>\n",
       "      <th>1243638</th>\n",
       "      <td>muricafer</td>\n",
       "      <td>0</td>\n",
       "    </tr>\n",
       "  </tbody>\n",
       "</table>\n",
       "<p>3452771 rows × 2 columns</p>\n",
       "</div>"
      ],
      "text/plain": [
       "                  profile_name  n_posts\n",
       "3990313             jasem33312   183730\n",
       "2571453              koenigpic   142428\n",
       "4338921             rudyanto62   126340\n",
       "3942129            hometown_ni   125220\n",
       "4219642    dwfitfiber_thailand   117262\n",
       "...                        ...      ...\n",
       "2402230            faith.dever        0\n",
       "2402229  sugarsprinkledglitter        0\n",
       "377966           hannahkraft13        0\n",
       "2402225                4pf_cj_        0\n",
       "1243638              muricafer        0\n",
       "\n",
       "[3452771 rows x 2 columns]"
      ]
     },
     "execution_count": 7,
     "metadata": {},
     "output_type": "execute_result"
    }
   ],
   "source": [
    "prof_posts"
   ]
  },
  {
   "cell_type": "code",
   "execution_count": 29,
   "id": "f80ebc7f",
   "metadata": {},
   "outputs": [
    {
     "data": {
      "image/png": "[encoded data removed]",
      "text/plain": [
       "<Figure size 1008x504 with 1 Axes>"
      ]
     },
     "metadata": {
      "needs_background": "light"
     },
     "output_type": "display_data"
    }
   ],
   "source": [
    "plt.figure(figsize=(14,7))\n",
    "sns.barplot(data = prof_posts[:100],\n",
    "            x=\"profile_name\",\n",
    "            y=\"n_posts\",\n",
    "            color='blue');"
   ]
  },
  {
   "cell_type": "markdown",
   "id": "92a11e01",
   "metadata": {},
   "source": [
    "\\- As a final step, let's graph the top 20 profiles with the most posts"
   ]
  },
  {
   "cell_type": "code",
   "execution_count": 9,
   "id": "f2224e88",
   "metadata": {},
   "outputs": [
    {
     "data": {
      "text/plain": [
       "<BarContainer object of 25 artists>"
      ]
     },
     "execution_count": 9,
     "metadata": {},
     "output_type": "execute_result"
    },
    {
     "data": {
      "image/png": "[encoded data removed]",
      "text/plain": [
       "<Figure size 432x288 with 1 Axes>"
      ]
     },
     "metadata": {
      "needs_background": "light"
     },
     "output_type": "display_data"
    }
   ],
   "source": [
    "plt.barh(prof_posts.profile_name.head(25)[::-1], prof_posts.n_posts.head(25)[::-1], height=0.3, align='edge', color='red', edgecolor='green')"
   ]
  },
  {
   "cell_type": "markdown",
   "id": "08d6183f",
   "metadata": {},
   "source": [
    "- ## What posts have the highest number of \"likes\"?"
   ]
  },
  {
   "cell_type": "markdown",
   "id": "54ae9a79",
   "metadata": {},
   "source": [
    "\\- We take only the two coloumns (post_id, numbr_likes) of interest to us from our DataFrame 'instagram_posts.csv'"
   ]
  },
  {
   "cell_type": "code",
   "execution_count": 10,
   "id": "2eebd639",
   "metadata": {},
   "outputs": [],
   "source": [
    "post_data = dt.fread('instagram_posts.csv', sep='\\t', columns={\"post_id\", \"numbr_likes\", \"number_comments\", \"location_id\", \"post_type\"}).to_pandas()"
   ]
  },
  {
   "cell_type": "code",
   "execution_count": 11,
   "id": "80ed6ed0",
   "metadata": {},
   "outputs": [
    {
     "data": {
      "text/html": [
       "<div>\n",
       "<style scoped>\n",
       "    .dataframe tbody tr th:only-of-type {\n",
       "        vertical-align: middle;\n",
       "    }\n",
       "\n",
       "    .dataframe tbody tr th {\n",
       "        vertical-align: top;\n",
       "    }\n",
       "\n",
       "    .dataframe thead th {\n",
       "        text-align: right;\n",
       "    }\n",
       "</style>\n",
       "<table border=\"1\" class=\"dataframe\">\n",
       "  <thead>\n",
       "    <tr style=\"text-align: right;\">\n",
       "      <th></th>\n",
       "      <th>post_id</th>\n",
       "      <th>numbr_likes</th>\n",
       "    </tr>\n",
       "  </thead>\n",
       "  <tbody>\n",
       "    <tr>\n",
       "      <th>0</th>\n",
       "      <td>BXdjjUlgcgq</td>\n",
       "      <td>80.0</td>\n",
       "    </tr>\n",
       "    <tr>\n",
       "      <th>1</th>\n",
       "      <td>BVg0pbolYBC</td>\n",
       "      <td>25.0</td>\n",
       "    </tr>\n",
       "    <tr>\n",
       "      <th>2</th>\n",
       "      <td>BRgkjcXFp3Q</td>\n",
       "      <td>9.0</td>\n",
       "    </tr>\n",
       "    <tr>\n",
       "      <th>3</th>\n",
       "      <td>BKTKeNhjEA7</td>\n",
       "      <td>4.0</td>\n",
       "    </tr>\n",
       "    <tr>\n",
       "      <th>4</th>\n",
       "      <td>8-NQrvoYLX</td>\n",
       "      <td>8.0</td>\n",
       "    </tr>\n",
       "    <tr>\n",
       "      <th>...</th>\n",
       "      <td>...</td>\n",
       "      <td>...</td>\n",
       "    </tr>\n",
       "    <tr>\n",
       "      <th>42710192</th>\n",
       "      <td>BcpWMWGBfxh</td>\n",
       "      <td>74.0</td>\n",
       "    </tr>\n",
       "    <tr>\n",
       "      <th>42710193</th>\n",
       "      <td>Ba6LZWwlCl8</td>\n",
       "      <td>49.0</td>\n",
       "    </tr>\n",
       "    <tr>\n",
       "      <th>42710194</th>\n",
       "      <td>BPN0kM1hYUw</td>\n",
       "      <td>18.0</td>\n",
       "    </tr>\n",
       "    <tr>\n",
       "      <th>42710195</th>\n",
       "      <td>BxsZ8nDBr-L</td>\n",
       "      <td>27.0</td>\n",
       "    </tr>\n",
       "    <tr>\n",
       "      <th>42710196</th>\n",
       "      <td>BgNJ4EzHQwQ</td>\n",
       "      <td>1824.0</td>\n",
       "    </tr>\n",
       "  </tbody>\n",
       "</table>\n",
       "<p>42710197 rows × 2 columns</p>\n",
       "</div>"
      ],
      "text/plain": [
       "              post_id  numbr_likes\n",
       "0         BXdjjUlgcgq         80.0\n",
       "1         BVg0pbolYBC         25.0\n",
       "2         BRgkjcXFp3Q          9.0\n",
       "3         BKTKeNhjEA7          4.0\n",
       "4          8-NQrvoYLX          8.0\n",
       "...               ...          ...\n",
       "42710192  BcpWMWGBfxh         74.0\n",
       "42710193  Ba6LZWwlCl8         49.0\n",
       "42710194  BPN0kM1hYUw         18.0\n",
       "42710195  BxsZ8nDBr-L         27.0\n",
       "42710196  BgNJ4EzHQwQ       1824.0\n",
       "\n",
       "[42710197 rows x 2 columns]"
      ]
     },
     "execution_count": 11,
     "metadata": {},
     "output_type": "execute_result"
    }
   ],
   "source": [
    "post_likes= post_data[['post_id', 'numbr_likes']]\n",
    "post_likes"
   ]
  },
  {
   "cell_type": "code",
   "execution_count": 28,
   "id": "12004621",
   "metadata": {},
   "outputs": [
    {
     "data": {
      "text/html": [
       "<div>\n",
       "<style scoped>\n",
       "    .dataframe tbody tr th:only-of-type {\n",
       "        vertical-align: middle;\n",
       "    }\n",
       "\n",
       "    .dataframe tbody tr th {\n",
       "        vertical-align: top;\n",
       "    }\n",
       "\n",
       "    .dataframe thead th {\n",
       "        text-align: right;\n",
       "    }\n",
       "</style>\n",
       "<table border=\"1\" class=\"dataframe\">\n",
       "  <thead>\n",
       "    <tr style=\"text-align: right;\">\n",
       "      <th></th>\n",
       "      <th>post_id</th>\n",
       "      <th>numbr_likes</th>\n",
       "    </tr>\n",
       "  </thead>\n",
       "  <tbody>\n",
       "    <tr>\n",
       "      <th>19624085</th>\n",
       "      <td>Bt3yaXmAM0d</td>\n",
       "      <td>8822952</td>\n",
       "    </tr>\n",
       "    <tr>\n",
       "      <th>19623988</th>\n",
       "      <td>BuwffB7g8cK</td>\n",
       "      <td>5447066</td>\n",
       "    </tr>\n",
       "    <tr>\n",
       "      <th>19624082</th>\n",
       "      <td>Buc1gyZAaMQ</td>\n",
       "      <td>5116398</td>\n",
       "    </tr>\n",
       "    <tr>\n",
       "      <th>19623986</th>\n",
       "      <td>BvcukE8AMuG</td>\n",
       "      <td>4271466</td>\n",
       "    </tr>\n",
       "    <tr>\n",
       "      <th>39701024</th>\n",
       "      <td>BqSLFVBFLfq</td>\n",
       "      <td>4264745</td>\n",
       "    </tr>\n",
       "    <tr>\n",
       "      <th>6293907</th>\n",
       "      <td>BwTSXBKg7gN</td>\n",
       "      <td>3586546</td>\n",
       "    </tr>\n",
       "    <tr>\n",
       "      <th>19624086</th>\n",
       "      <td>Btw8pFXAvQm</td>\n",
       "      <td>3558599</td>\n",
       "    </tr>\n",
       "    <tr>\n",
       "      <th>19802016</th>\n",
       "      <td>BvC3n6_gqin</td>\n",
       "      <td>3533326</td>\n",
       "    </tr>\n",
       "    <tr>\n",
       "      <th>30850564</th>\n",
       "      <td>Bw7vqLrFkHi</td>\n",
       "      <td>3340297</td>\n",
       "    </tr>\n",
       "    <tr>\n",
       "      <th>39812576</th>\n",
       "      <td>Bw2gTH1AiDA</td>\n",
       "      <td>3311246</td>\n",
       "    </tr>\n",
       "    <tr>\n",
       "      <th>17474533</th>\n",
       "      <td>BtorY9IFDvc</td>\n",
       "      <td>3201436</td>\n",
       "    </tr>\n",
       "    <tr>\n",
       "      <th>19624088</th>\n",
       "      <td>BtJxgNSgKSC</td>\n",
       "      <td>3198242</td>\n",
       "    </tr>\n",
       "    <tr>\n",
       "      <th>37248165</th>\n",
       "      <td>BxxY17hhQv8</td>\n",
       "      <td>3091301</td>\n",
       "    </tr>\n",
       "    <tr>\n",
       "      <th>30568676</th>\n",
       "      <td>BxJqn5Tj0kc</td>\n",
       "      <td>2973661</td>\n",
       "    </tr>\n",
       "    <tr>\n",
       "      <th>19623987</th>\n",
       "      <td>BvCQYRVgys4</td>\n",
       "      <td>2900455</td>\n",
       "    </tr>\n",
       "    <tr>\n",
       "      <th>19624081</th>\n",
       "      <td>BujmsmnAt8M</td>\n",
       "      <td>2813469</td>\n",
       "    </tr>\n",
       "    <tr>\n",
       "      <th>40754105</th>\n",
       "      <td>BsB9YrrFvIV</td>\n",
       "      <td>2726066</td>\n",
       "    </tr>\n",
       "    <tr>\n",
       "      <th>30568682</th>\n",
       "      <td>BwkAk0Xje8-</td>\n",
       "      <td>2664480</td>\n",
       "    </tr>\n",
       "    <tr>\n",
       "      <th>19802019</th>\n",
       "      <td>Bu1ty0HAQKv</td>\n",
       "      <td>2655200</td>\n",
       "    </tr>\n",
       "    <tr>\n",
       "      <th>10372026</th>\n",
       "      <td>BwP4stXFS94</td>\n",
       "      <td>2616479</td>\n",
       "    </tr>\n",
       "    <tr>\n",
       "      <th>7246211</th>\n",
       "      <td>BsAwJ1_nFiy</td>\n",
       "      <td>2590353</td>\n",
       "    </tr>\n",
       "    <tr>\n",
       "      <th>10372028</th>\n",
       "      <td>BvsgLsSlr_e</td>\n",
       "      <td>2566721</td>\n",
       "    </tr>\n",
       "    <tr>\n",
       "      <th>30568685</th>\n",
       "      <td>BwcKoo1DrBy</td>\n",
       "      <td>2541437</td>\n",
       "    </tr>\n",
       "    <tr>\n",
       "      <th>19802022</th>\n",
       "      <td>Bur6m7eAG6t</td>\n",
       "      <td>2483834</td>\n",
       "    </tr>\n",
       "    <tr>\n",
       "      <th>38421902</th>\n",
       "      <td>BnRF3aph5_-</td>\n",
       "      <td>2429228</td>\n",
       "    </tr>\n",
       "  </tbody>\n",
       "</table>\n",
       "</div>"
      ],
      "text/plain": [
       "              post_id  numbr_likes\n",
       "19624085  Bt3yaXmAM0d      8822952\n",
       "19623988  BuwffB7g8cK      5447066\n",
       "19624082  Buc1gyZAaMQ      5116398\n",
       "19623986  BvcukE8AMuG      4271466\n",
       "39701024  BqSLFVBFLfq      4264745\n",
       "6293907   BwTSXBKg7gN      3586546\n",
       "19624086  Btw8pFXAvQm      3558599\n",
       "19802016  BvC3n6_gqin      3533326\n",
       "30850564  Bw7vqLrFkHi      3340297\n",
       "39812576  Bw2gTH1AiDA      3311246\n",
       "17474533  BtorY9IFDvc      3201436\n",
       "19624088  BtJxgNSgKSC      3198242\n",
       "37248165  BxxY17hhQv8      3091301\n",
       "30568676  BxJqn5Tj0kc      2973661\n",
       "19623987  BvCQYRVgys4      2900455\n",
       "19624081  BujmsmnAt8M      2813469\n",
       "40754105  BsB9YrrFvIV      2726066\n",
       "30568682  BwkAk0Xje8-      2664480\n",
       "19802019  Bu1ty0HAQKv      2655200\n",
       "10372026  BwP4stXFS94      2616479\n",
       "7246211   BsAwJ1_nFiy      2590353\n",
       "10372028  BvsgLsSlr_e      2566721\n",
       "30568685  BwcKoo1DrBy      2541437\n",
       "19802022  Bur6m7eAG6t      2483834\n",
       "38421902  BnRF3aph5_-      2429228"
      ]
     },
     "execution_count": 28,
     "metadata": {},
     "output_type": "execute_result"
    }
   ],
   "source": [
    "post_likes = post_likes.dropna().sort_values(\"numbr_likes\", ascending=False)\n",
    "post_likes['numbr_likes'] = post_likes['numbr_likes'].astype(int)\n",
    "post_likes.head(25)"
   ]
  },
  {
   "cell_type": "markdown",
   "id": "f23fa003",
   "metadata": {},
   "source": [
    "#### aggiungere plot"
   ]
  },
  {
   "cell_type": "markdown",
   "id": "933d5880",
   "metadata": {},
   "source": [
    "- ## What posts have the most and the least number of comments?"
   ]
  },
  {
   "cell_type": "code",
   "execution_count": 29,
   "id": "da223242",
   "metadata": {},
   "outputs": [],
   "source": [
    "post_comms = post_data[['post_id','number_comments']].dropna()"
   ]
  },
  {
   "cell_type": "code",
   "execution_count": 30,
   "id": "cbd86d82",
   "metadata": {},
   "outputs": [
    {
     "data": {
      "text/html": [
       "<div>\n",
       "<style scoped>\n",
       "    .dataframe tbody tr th:only-of-type {\n",
       "        vertical-align: middle;\n",
       "    }\n",
       "\n",
       "    .dataframe tbody tr th {\n",
       "        vertical-align: top;\n",
       "    }\n",
       "\n",
       "    .dataframe thead th {\n",
       "        text-align: right;\n",
       "    }\n",
       "</style>\n",
       "<table border=\"1\" class=\"dataframe\">\n",
       "  <thead>\n",
       "    <tr style=\"text-align: right;\">\n",
       "      <th></th>\n",
       "      <th>post_id</th>\n",
       "      <th>number_comments</th>\n",
       "    </tr>\n",
       "  </thead>\n",
       "  <tbody>\n",
       "    <tr>\n",
       "      <th>0</th>\n",
       "      <td>BXdjjUlgcgq</td>\n",
       "      <td>0</td>\n",
       "    </tr>\n",
       "    <tr>\n",
       "      <th>1</th>\n",
       "      <td>BVg0pbolYBC</td>\n",
       "      <td>1</td>\n",
       "    </tr>\n",
       "    <tr>\n",
       "      <th>2</th>\n",
       "      <td>BRgkjcXFp3Q</td>\n",
       "      <td>0</td>\n",
       "    </tr>\n",
       "    <tr>\n",
       "      <th>3</th>\n",
       "      <td>BKTKeNhjEA7</td>\n",
       "      <td>0</td>\n",
       "    </tr>\n",
       "    <tr>\n",
       "      <th>4</th>\n",
       "      <td>8-NQrvoYLX</td>\n",
       "      <td>0</td>\n",
       "    </tr>\n",
       "    <tr>\n",
       "      <th>...</th>\n",
       "      <td>...</td>\n",
       "      <td>...</td>\n",
       "    </tr>\n",
       "    <tr>\n",
       "      <th>42710192</th>\n",
       "      <td>BcpWMWGBfxh</td>\n",
       "      <td>0</td>\n",
       "    </tr>\n",
       "    <tr>\n",
       "      <th>42710193</th>\n",
       "      <td>Ba6LZWwlCl8</td>\n",
       "      <td>0</td>\n",
       "    </tr>\n",
       "    <tr>\n",
       "      <th>42710194</th>\n",
       "      <td>BPN0kM1hYUw</td>\n",
       "      <td>0</td>\n",
       "    </tr>\n",
       "    <tr>\n",
       "      <th>42710195</th>\n",
       "      <td>BxsZ8nDBr-L</td>\n",
       "      <td>1</td>\n",
       "    </tr>\n",
       "    <tr>\n",
       "      <th>42710196</th>\n",
       "      <td>BgNJ4EzHQwQ</td>\n",
       "      <td>49</td>\n",
       "    </tr>\n",
       "  </tbody>\n",
       "</table>\n",
       "<p>42710161 rows × 2 columns</p>\n",
       "</div>"
      ],
      "text/plain": [
       "              post_id  number_comments\n",
       "0         BXdjjUlgcgq                0\n",
       "1         BVg0pbolYBC                1\n",
       "2         BRgkjcXFp3Q                0\n",
       "3         BKTKeNhjEA7                0\n",
       "4          8-NQrvoYLX                0\n",
       "...               ...              ...\n",
       "42710192  BcpWMWGBfxh                0\n",
       "42710193  Ba6LZWwlCl8                0\n",
       "42710194  BPN0kM1hYUw                0\n",
       "42710195  BxsZ8nDBr-L                1\n",
       "42710196  BgNJ4EzHQwQ               49\n",
       "\n",
       "[42710161 rows x 2 columns]"
      ]
     },
     "execution_count": 30,
     "metadata": {},
     "output_type": "execute_result"
    }
   ],
   "source": [
    "post_comms['number_comments'] = post_comms['number_comments'].astype(int)\n",
    "post_comms"
   ]
  },
  {
   "cell_type": "code",
   "execution_count": 34,
   "id": "01c17491",
   "metadata": {},
   "outputs": [],
   "source": [
    "most_comms = post_comms.sort_values(\"number_comments\", ascending=False).head(1)"
   ]
  },
  {
   "cell_type": "code",
   "execution_count": 35,
   "id": "77a5c747",
   "metadata": {},
   "outputs": [
    {
     "data": {
      "text/html": [
       "<div>\n",
       "<style scoped>\n",
       "    .dataframe tbody tr th:only-of-type {\n",
       "        vertical-align: middle;\n",
       "    }\n",
       "\n",
       "    .dataframe tbody tr th {\n",
       "        vertical-align: top;\n",
       "    }\n",
       "\n",
       "    .dataframe thead th {\n",
       "        text-align: right;\n",
       "    }\n",
       "</style>\n",
       "<table border=\"1\" class=\"dataframe\">\n",
       "  <thead>\n",
       "    <tr style=\"text-align: right;\">\n",
       "      <th></th>\n",
       "      <th>post_id</th>\n",
       "      <th>number_comments</th>\n",
       "    </tr>\n",
       "  </thead>\n",
       "  <tbody>\n",
       "    <tr>\n",
       "      <th>41873060</th>\n",
       "      <td>Bx2sPAjHviO</td>\n",
       "      <td>488953</td>\n",
       "    </tr>\n",
       "  </tbody>\n",
       "</table>\n",
       "</div>"
      ],
      "text/plain": [
       "              post_id  number_comments\n",
       "41873060  Bx2sPAjHviO           488953"
      ]
     },
     "execution_count": 35,
     "metadata": {},
     "output_type": "execute_result"
    }
   ],
   "source": [
    "most_comms"
   ]
  },
  {
   "cell_type": "code",
   "execution_count": 36,
   "id": "7f046f1c",
   "metadata": {},
   "outputs": [],
   "source": [
    "least_comms = post_comms.sort_values(\"number_comments\", ascending=False).tail(1)"
   ]
  },
  {
   "cell_type": "code",
   "execution_count": 37,
   "id": "6082bdbe",
   "metadata": {},
   "outputs": [
    {
     "data": {
      "text/html": [
       "<div>\n",
       "<style scoped>\n",
       "    .dataframe tbody tr th:only-of-type {\n",
       "        vertical-align: middle;\n",
       "    }\n",
       "\n",
       "    .dataframe tbody tr th {\n",
       "        vertical-align: top;\n",
       "    }\n",
       "\n",
       "    .dataframe thead th {\n",
       "        text-align: right;\n",
       "    }\n",
       "</style>\n",
       "<table border=\"1\" class=\"dataframe\">\n",
       "  <thead>\n",
       "    <tr style=\"text-align: right;\">\n",
       "      <th></th>\n",
       "      <th>post_id</th>\n",
       "      <th>number_comments</th>\n",
       "    </tr>\n",
       "  </thead>\n",
       "  <tbody>\n",
       "    <tr>\n",
       "      <th>0</th>\n",
       "      <td>BXdjjUlgcgq</td>\n",
       "      <td>0</td>\n",
       "    </tr>\n",
       "  </tbody>\n",
       "</table>\n",
       "</div>"
      ],
      "text/plain": [
       "       post_id  number_comments\n",
       "0  BXdjjUlgcgq                0"
      ]
     },
     "execution_count": 37,
     "metadata": {},
     "output_type": "execute_result"
    }
   ],
   "source": [
    "least_comms"
   ]
  },
  {
   "cell_type": "code",
   "execution_count": 38,
   "id": "cb799994",
   "metadata": {},
   "outputs": [
    {
     "name": "stdout",
     "output_type": "stream",
     "text": [
      " Post: Bx2sPAjHviO has the most number of comments: 488953\n",
      " Post: BXdjjUlgcgq has the least number of comments: 0\n"
     ]
    }
   ],
   "source": [
    "print(f\" Post: {most_comms.iloc[0, :].post_id} has the most number of comments: {most_comms.iloc[0, :].number_comments}\")\n",
    "print(f\" Post: {least_comms.iloc[0, :].post_id} has the least number of comments: {least_comms.iloc[0, :].number_comments}\")"
   ]
  },
  {
   "cell_type": "markdown",
   "id": "f82e3b66",
   "metadata": {},
   "source": [
    "#### Possono esserci però più posts che hanno il maggiore e il minore numero di commenti, come faccio a prenderli tutti?\n",
    "\n",
    "#### Da fare poi un grafico"
   ]
  },
  {
   "cell_type": "markdown",
   "id": "280fbb15",
   "metadata": {},
   "source": [
    "- ## How many posts include tagged locations, and how many do not? Show it using an appropriate chart and comment your results."
   ]
  },
  {
   "cell_type": "code",
   "execution_count": 41,
   "id": "b1ec9456",
   "metadata": {},
   "outputs": [
    {
     "data": {
      "text/html": [
       "<div>\n",
       "<style scoped>\n",
       "    .dataframe tbody tr th:only-of-type {\n",
       "        vertical-align: middle;\n",
       "    }\n",
       "\n",
       "    .dataframe tbody tr th {\n",
       "        vertical-align: top;\n",
       "    }\n",
       "\n",
       "    .dataframe thead th {\n",
       "        text-align: right;\n",
       "    }\n",
       "</style>\n",
       "<table border=\"1\" class=\"dataframe\">\n",
       "  <thead>\n",
       "    <tr style=\"text-align: right;\">\n",
       "      <th></th>\n",
       "      <th>post_id</th>\n",
       "      <th>location_id</th>\n",
       "    </tr>\n",
       "  </thead>\n",
       "  <tbody>\n",
       "    <tr>\n",
       "      <th>0</th>\n",
       "      <td>BXdjjUlgcgq</td>\n",
       "      <td>1.022366e+15</td>\n",
       "    </tr>\n",
       "    <tr>\n",
       "      <th>1</th>\n",
       "      <td>BVg0pbolYBC</td>\n",
       "      <td>4.574268e+14</td>\n",
       "    </tr>\n",
       "    <tr>\n",
       "      <th>2</th>\n",
       "      <td>BRgkjcXFp3Q</td>\n",
       "      <td>4.574268e+14</td>\n",
       "    </tr>\n",
       "    <tr>\n",
       "      <th>3</th>\n",
       "      <td>BKTKeNhjEA7</td>\n",
       "      <td>4.574268e+14</td>\n",
       "    </tr>\n",
       "    <tr>\n",
       "      <th>4</th>\n",
       "      <td>8-NQrvoYLX</td>\n",
       "      <td>4.574268e+14</td>\n",
       "    </tr>\n",
       "    <tr>\n",
       "      <th>...</th>\n",
       "      <td>...</td>\n",
       "      <td>...</td>\n",
       "    </tr>\n",
       "    <tr>\n",
       "      <th>42710192</th>\n",
       "      <td>BcpWMWGBfxh</td>\n",
       "      <td>4.574268e+14</td>\n",
       "    </tr>\n",
       "    <tr>\n",
       "      <th>42710193</th>\n",
       "      <td>Ba6LZWwlCl8</td>\n",
       "      <td>4.574268e+14</td>\n",
       "    </tr>\n",
       "    <tr>\n",
       "      <th>42710194</th>\n",
       "      <td>BPN0kM1hYUw</td>\n",
       "      <td>4.574268e+14</td>\n",
       "    </tr>\n",
       "    <tr>\n",
       "      <th>42710195</th>\n",
       "      <td>BxsZ8nDBr-L</td>\n",
       "      <td>4.267235e+06</td>\n",
       "    </tr>\n",
       "    <tr>\n",
       "      <th>42710196</th>\n",
       "      <td>BgNJ4EzHQwQ</td>\n",
       "      <td>4.574268e+14</td>\n",
       "    </tr>\n",
       "  </tbody>\n",
       "</table>\n",
       "<p>42710197 rows × 2 columns</p>\n",
       "</div>"
      ],
      "text/plain": [
       "              post_id   location_id\n",
       "0         BXdjjUlgcgq  1.022366e+15\n",
       "1         BVg0pbolYBC  4.574268e+14\n",
       "2         BRgkjcXFp3Q  4.574268e+14\n",
       "3         BKTKeNhjEA7  4.574268e+14\n",
       "4          8-NQrvoYLX  4.574268e+14\n",
       "...               ...           ...\n",
       "42710192  BcpWMWGBfxh  4.574268e+14\n",
       "42710193  Ba6LZWwlCl8  4.574268e+14\n",
       "42710194  BPN0kM1hYUw  4.574268e+14\n",
       "42710195  BxsZ8nDBr-L  4.267235e+06\n",
       "42710196  BgNJ4EzHQwQ  4.574268e+14\n",
       "\n",
       "[42710197 rows x 2 columns]"
      ]
     },
     "execution_count": 41,
     "metadata": {},
     "output_type": "execute_result"
    }
   ],
   "source": [
    "loc_data = post_data[['post_id', 'location_id']]\n",
    "loc_data"
   ]
  },
  {
   "cell_type": "code",
   "execution_count": 42,
   "id": "ceb98e9e",
   "metadata": {},
   "outputs": [
    {
     "data": {
      "text/html": [
       "<div>\n",
       "<style scoped>\n",
       "    .dataframe tbody tr th:only-of-type {\n",
       "        vertical-align: middle;\n",
       "    }\n",
       "\n",
       "    .dataframe tbody tr th {\n",
       "        vertical-align: top;\n",
       "    }\n",
       "\n",
       "    .dataframe thead th {\n",
       "        text-align: right;\n",
       "    }\n",
       "</style>\n",
       "<table border=\"1\" class=\"dataframe\">\n",
       "  <thead>\n",
       "    <tr style=\"text-align: right;\">\n",
       "      <th></th>\n",
       "      <th>location</th>\n",
       "      <th>n_posts</th>\n",
       "    </tr>\n",
       "  </thead>\n",
       "  <tbody>\n",
       "    <tr>\n",
       "      <th>0</th>\n",
       "      <td>True</td>\n",
       "      <td>29737425</td>\n",
       "    </tr>\n",
       "    <tr>\n",
       "      <th>1</th>\n",
       "      <td>False</td>\n",
       "      <td>12972772</td>\n",
       "    </tr>\n",
       "  </tbody>\n",
       "</table>\n",
       "</div>"
      ],
      "text/plain": [
       "   location   n_posts\n",
       "0      True  29737425\n",
       "1     False  12972772"
      ]
     },
     "execution_count": 42,
     "metadata": {},
     "output_type": "execute_result"
    }
   ],
   "source": [
    "unlocated = loc_data.location_id.isna().sum()\n",
    "located = loc_data.location_id.notna().sum()\n",
    "results = {'location':[True,False], 'n_posts' : [located, unlocated]}\n",
    "post_loc = pd.DataFrame(results)\n",
    "post_loc"
   ]
  },
  {
   "cell_type": "code",
   "execution_count": 49,
   "id": "65f73671",
   "metadata": {},
   "outputs": [
    {
     "data": {
      "image/png": "[encoded data removed]",
      "text/plain": [
       "<Figure size 432x360 with 1 Axes>"
      ]
     },
     "metadata": {
      "needs_background": "light"
     },
     "output_type": "display_data"
    }
   ],
   "source": [
    "plt.figure(figsize=(6, 5))\n",
    "sns.barplot(\n",
    "    y=\"n_posts\", \n",
    "    x=\"location\", \n",
    "    data=post_loc, \n",
    "    estimator=sum, \n",
    "    ci=None, \n",
    "    color='orange');"
   ]
  },
  {
   "cell_type": "markdown",
   "id": "cd6c1bc2",
   "metadata": {},
   "source": [
    "- ## How many posts include only photos? How many also have videos?"
   ]
  },
  {
   "cell_type": "code",
   "execution_count": 51,
   "id": "2c397aee",
   "metadata": {},
   "outputs": [
    {
     "data": {
      "text/html": [
       "<div>\n",
       "<style scoped>\n",
       "    .dataframe tbody tr th:only-of-type {\n",
       "        vertical-align: middle;\n",
       "    }\n",
       "\n",
       "    .dataframe tbody tr th {\n",
       "        vertical-align: top;\n",
       "    }\n",
       "\n",
       "    .dataframe thead th {\n",
       "        text-align: right;\n",
       "    }\n",
       "</style>\n",
       "<table border=\"1\" class=\"dataframe\">\n",
       "  <thead>\n",
       "    <tr style=\"text-align: right;\">\n",
       "      <th></th>\n",
       "      <th>post_id</th>\n",
       "      <th>post_type</th>\n",
       "    </tr>\n",
       "  </thead>\n",
       "  <tbody>\n",
       "    <tr>\n",
       "      <th>0</th>\n",
       "      <td>BXdjjUlgcgq</td>\n",
       "      <td>2</td>\n",
       "    </tr>\n",
       "    <tr>\n",
       "      <th>1</th>\n",
       "      <td>BVg0pbolYBC</td>\n",
       "      <td>1</td>\n",
       "    </tr>\n",
       "    <tr>\n",
       "      <th>2</th>\n",
       "      <td>BRgkjcXFp3Q</td>\n",
       "      <td>1</td>\n",
       "    </tr>\n",
       "    <tr>\n",
       "      <th>3</th>\n",
       "      <td>BKTKeNhjEA7</td>\n",
       "      <td>1</td>\n",
       "    </tr>\n",
       "    <tr>\n",
       "      <th>4</th>\n",
       "      <td>8-NQrvoYLX</td>\n",
       "      <td>1</td>\n",
       "    </tr>\n",
       "    <tr>\n",
       "      <th>...</th>\n",
       "      <td>...</td>\n",
       "      <td>...</td>\n",
       "    </tr>\n",
       "    <tr>\n",
       "      <th>42710192</th>\n",
       "      <td>BcpWMWGBfxh</td>\n",
       "      <td>1</td>\n",
       "    </tr>\n",
       "    <tr>\n",
       "      <th>42710193</th>\n",
       "      <td>Ba6LZWwlCl8</td>\n",
       "      <td>1</td>\n",
       "    </tr>\n",
       "    <tr>\n",
       "      <th>42710194</th>\n",
       "      <td>BPN0kM1hYUw</td>\n",
       "      <td>1</td>\n",
       "    </tr>\n",
       "    <tr>\n",
       "      <th>42710195</th>\n",
       "      <td>BxsZ8nDBr-L</td>\n",
       "      <td>1</td>\n",
       "    </tr>\n",
       "    <tr>\n",
       "      <th>42710196</th>\n",
       "      <td>BgNJ4EzHQwQ</td>\n",
       "      <td>1</td>\n",
       "    </tr>\n",
       "  </tbody>\n",
       "</table>\n",
       "<p>42710197 rows × 2 columns</p>\n",
       "</div>"
      ],
      "text/plain": [
       "              post_id  post_type\n",
       "0         BXdjjUlgcgq          2\n",
       "1         BVg0pbolYBC          1\n",
       "2         BRgkjcXFp3Q          1\n",
       "3         BKTKeNhjEA7          1\n",
       "4          8-NQrvoYLX          1\n",
       "...               ...        ...\n",
       "42710192  BcpWMWGBfxh          1\n",
       "42710193  Ba6LZWwlCl8          1\n",
       "42710194  BPN0kM1hYUw          1\n",
       "42710195  BxsZ8nDBr-L          1\n",
       "42710196  BgNJ4EzHQwQ          1\n",
       "\n",
       "[42710197 rows x 2 columns]"
      ]
     },
     "execution_count": 51,
     "metadata": {},
     "output_type": "execute_result"
    }
   ],
   "source": [
    "types = post_data[['post_id', 'post_type']]\n",
    "types"
   ]
  },
  {
   "cell_type": "code",
   "execution_count": 52,
   "id": "634a7834",
   "metadata": {},
   "outputs": [
    {
     "name": "stdout",
     "output_type": "stream",
     "text": [
      " Number of posts have only photos: 41534486\n",
      " Number of posts have also videos: 1175711\n"
     ]
    }
   ],
   "source": [
    "print(f\" Number of posts have only photos: {(types['post_type'] == 1.0).sum()}\")\n",
    "print(f\" Number of posts have also videos: {(types['post_type'] > 1.0).sum()}\")"
   ]
  },
  {
   "cell_type": "code",
   "execution_count": 53,
   "id": "f3d3e00c",
   "metadata": {},
   "outputs": [
    {
     "data": {
      "text/plain": [
       "<AxesSubplot:>"
      ]
     },
     "execution_count": 53,
     "metadata": {},
     "output_type": "execute_result"
    },
    {
     "data": {
      "image/png": "[encoded data removed]",
      "text/plain": [
       "<Figure size 432x288 with 1 Axes>"
      ]
     },
     "metadata": {
      "needs_background": "light"
     },
     "output_type": "display_data"
    }
   ],
   "source": [
    "sns.barplot(x=['photo', 'also_video'],y=[(types['post_type'] == 1.0).sum(),(types['post_type'] > 1.0).sum()])"
   ]
  },
  {
   "cell_type": "code",
   "execution_count": 54,
   "id": "e629a2a6",
   "metadata": {},
   "outputs": [
    {
     "data": {
      "text/plain": [
       "([<matplotlib.patches.Wedge at 0x2a553b3aa90>,\n",
       "  <matplotlib.patches.Wedge at 0x2a5546d5d00>],\n",
       " [Text(-1.0958891532929231, 0.09501033467428857, 'photo'),\n",
       "  Text(1.095889138281737, -0.09501050781946144, 'also_video')])"
      ]
     },
     "execution_count": 54,
     "metadata": {},
     "output_type": "execute_result"
    },
    {
     "data": {
      "image/png": "[encoded data removed]",
      "text/plain": [
       "<Figure size 432x288 with 1 Axes>"
      ]
     },
     "metadata": {},
     "output_type": "display_data"
    }
   ],
   "source": [
    "plt.pie([(types['post_type'] == 1.0).sum(),(types['post_type'] > 1.0).sum()], labels = ['photo', 'also_video'])"
   ]
  },
  {
   "cell_type": "markdown",
   "id": "1fe16e17",
   "metadata": {},
   "source": [
    "- ## What's the percentage of business accounts vs non-business? What can you interpret regarding that percentage? "
   ]
  },
  {
   "cell_type": "code",
   "execution_count": 58,
   "id": "272e9e49",
   "metadata": {},
   "outputs": [],
   "source": [
    "buss_data = prof_data[['profile_name', 'is_business_account']]"
   ]
  },
  {
   "cell_type": "code",
   "execution_count": 59,
   "id": "5153f069",
   "metadata": {},
   "outputs": [
    {
     "data": {
      "text/html": [
       "<div>\n",
       "<style scoped>\n",
       "    .dataframe tbody tr th:only-of-type {\n",
       "        vertical-align: middle;\n",
       "    }\n",
       "\n",
       "    .dataframe tbody tr th {\n",
       "        vertical-align: top;\n",
       "    }\n",
       "\n",
       "    .dataframe thead th {\n",
       "        text-align: right;\n",
       "    }\n",
       "</style>\n",
       "<table border=\"1\" class=\"dataframe\">\n",
       "  <thead>\n",
       "    <tr style=\"text-align: right;\">\n",
       "      <th></th>\n",
       "      <th>profile_name</th>\n",
       "      <th>is_business_account</th>\n",
       "    </tr>\n",
       "  </thead>\n",
       "  <tbody>\n",
       "    <tr>\n",
       "      <th>0</th>\n",
       "      <td>jphillip033</td>\n",
       "      <td>False</td>\n",
       "    </tr>\n",
       "    <tr>\n",
       "      <th>1</th>\n",
       "      <td>mama_haas</td>\n",
       "      <td>False</td>\n",
       "    </tr>\n",
       "    <tr>\n",
       "      <th>2</th>\n",
       "      <td>yellowlightbreen</td>\n",
       "      <td>False</td>\n",
       "    </tr>\n",
       "    <tr>\n",
       "      <th>3</th>\n",
       "      <td>tec1025</td>\n",
       "      <td>NaN</td>\n",
       "    </tr>\n",
       "    <tr>\n",
       "      <th>4</th>\n",
       "      <td>luckyfluff</td>\n",
       "      <td>NaN</td>\n",
       "    </tr>\n",
       "    <tr>\n",
       "      <th>...</th>\n",
       "      <td>...</td>\n",
       "      <td>...</td>\n",
       "    </tr>\n",
       "    <tr>\n",
       "      <th>4509581</th>\n",
       "      <td>karenarkesteyn</td>\n",
       "      <td>False</td>\n",
       "    </tr>\n",
       "    <tr>\n",
       "      <th>4509582</th>\n",
       "      <td>jornvlaeminck</td>\n",
       "      <td>NaN</td>\n",
       "    </tr>\n",
       "    <tr>\n",
       "      <th>4509583</th>\n",
       "      <td>s_degol</td>\n",
       "      <td>NaN</td>\n",
       "    </tr>\n",
       "    <tr>\n",
       "      <th>4509584</th>\n",
       "      <td>anwilms</td>\n",
       "      <td>False</td>\n",
       "    </tr>\n",
       "    <tr>\n",
       "      <th>4509585</th>\n",
       "      <td>arnaubassols_</td>\n",
       "      <td>NaN</td>\n",
       "    </tr>\n",
       "  </tbody>\n",
       "</table>\n",
       "<p>4509586 rows × 2 columns</p>\n",
       "</div>"
      ],
      "text/plain": [
       "             profile_name is_business_account\n",
       "0             jphillip033               False\n",
       "1               mama_haas               False\n",
       "2        yellowlightbreen               False\n",
       "3                 tec1025                 NaN\n",
       "4              luckyfluff                 NaN\n",
       "...                   ...                 ...\n",
       "4509581    karenarkesteyn               False\n",
       "4509582     jornvlaeminck                 NaN\n",
       "4509583           s_degol                 NaN\n",
       "4509584           anwilms               False\n",
       "4509585     arnaubassols_                 NaN\n",
       "\n",
       "[4509586 rows x 2 columns]"
      ]
     },
     "execution_count": 59,
     "metadata": {},
     "output_type": "execute_result"
    }
   ],
   "source": [
    "buss_data"
   ]
  },
  {
   "cell_type": "code",
   "execution_count": 61,
   "id": "4031c657",
   "metadata": {},
   "outputs": [
    {
     "data": {
      "text/plain": [
       "False    81.034756\n",
       "True     18.965244\n",
       "Name: is_business_account, dtype: float64"
      ]
     },
     "execution_count": 61,
     "metadata": {},
     "output_type": "execute_result"
    }
   ],
   "source": [
    "buss_data.fillna(False)\n",
    "perc_is_business = buss_data.is_business_account.value_counts(normalize=True)*100\n",
    "perc_is_business\n"
   ]
  },
  {
   "cell_type": "code",
   "execution_count": 85,
   "id": "31cb1153",
   "metadata": {},
   "outputs": [
    {
     "data": {
      "text/plain": [
       "False    81.034756\n",
       "True     18.965244\n",
       "Name: is_business_account, dtype: float64"
      ]
     },
     "execution_count": 85,
     "metadata": {},
     "output_type": "execute_result"
    }
   ],
   "source": [
    "#percentages = is_business / df5.shape[0] * 100\n",
    "#percentages"
   ]
  },
  {
   "cell_type": "code",
   "execution_count": 62,
   "id": "a2b461d3",
   "metadata": {},
   "outputs": [
    {
     "data": {
      "text/plain": [
       "([<matplotlib.patches.Wedge at 0x2a554407100>,\n",
       "  <matplotlib.patches.Wedge at 0x2a5544075e0>],\n",
       " [Text(-0.9104633068776324, 0.6172977942852592, 'False'),\n",
       "  Text(0.9104634224687973, -0.6172976237977953, 'True')])"
      ]
     },
     "execution_count": 62,
     "metadata": {},
     "output_type": "execute_result"
    },
    {
     "data": {
      "image/png": "[encoded data removed]",
      "text/plain": [
       "<Figure size 432x288 with 1 Axes>"
      ]
     },
     "metadata": {},
     "output_type": "display_data"
    }
   ],
   "source": [
    "plt.pie(perc_is_business, labels=['False', 'True'])"
   ]
  },
  {
   "cell_type": "code",
   "execution_count": null,
   "id": "a42ef99d",
   "metadata": {},
   "outputs": [],
   "source": []
  }
 ],
 "metadata": {
  "kernelspec": {
   "display_name": "Python 3 (ipykernel)",
   "language": "python",
   "name": "python3"
  },
  "language_info": {
   "codemirror_mode": {
    "name": "ipython",
    "version": 3
   },
   "file_extension": ".py",
   "mimetype": "text/x-python",
   "name": "python",
   "nbconvert_exporter": "python",
   "pygments_lexer": "ipython3",
   "version": "3.9.12"
  }
 },
 "nbformat": 4,
 "nbformat_minor": 5
}
