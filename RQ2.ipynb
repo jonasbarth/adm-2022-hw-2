{
 "cells": [
  {
   "cell_type": "code",
   "execution_count": 24,
   "id": "e2386716",
   "metadata": {},
   "outputs": [],
   "source": [
    "import pandas as pd\n",
    "import matplotlib.pyplot as plt\n",
    "import seaborn as sns"
   ]
  },
  {
   "cell_type": "markdown",
   "id": "9a29ee68",
   "metadata": {},
   "source": [
    "## [RQ2] Let's explore the dataset by finding simple insights regarding the profile and posts."
   ]
  },
  {
   "cell_type": "markdown",
   "id": "06402ff2",
   "metadata": {},
   "source": [
    "- ## Plot the number of posts for each profile in descending order."
   ]
  },
  {
   "cell_type": "markdown",
   "id": "90fed35c",
   "metadata": {},
   "source": [
    "\\- We take only the two coloumns (profile_name, n_posts) of interest to us from our DataFrame 'instagram_profiles.csv'"
   ]
  },
  {
   "cell_type": "code",
   "execution_count": 2,
   "id": "bd1df252",
   "metadata": {},
   "outputs": [
    {
     "data": {
      "text/html": [
       "<div>\n",
       "<style scoped>\n",
       "    .dataframe tbody tr th:only-of-type {\n",
       "        vertical-align: middle;\n",
       "    }\n",
       "\n",
       "    .dataframe tbody tr th {\n",
       "        vertical-align: top;\n",
       "    }\n",
       "\n",
       "    .dataframe thead th {\n",
       "        text-align: right;\n",
       "    }\n",
       "</style>\n",
       "<table border=\"1\" class=\"dataframe\">\n",
       "  <thead>\n",
       "    <tr style=\"text-align: right;\">\n",
       "      <th></th>\n",
       "      <th>profile_name</th>\n",
       "      <th>firstname_lastname</th>\n",
       "      <th>n_posts</th>\n",
       "    </tr>\n",
       "  </thead>\n",
       "  <tbody>\n",
       "    <tr>\n",
       "      <th>0</th>\n",
       "      <td>jphillip033</td>\n",
       "      <td>John Pierce</td>\n",
       "      <td>170.0</td>\n",
       "    </tr>\n",
       "    <tr>\n",
       "      <th>1</th>\n",
       "      <td>mama_haas</td>\n",
       "      <td>Deanna</td>\n",
       "      <td>2878.0</td>\n",
       "    </tr>\n",
       "    <tr>\n",
       "      <th>2</th>\n",
       "      <td>yellowlightbreen</td>\n",
       "      <td>Eliza Gray</td>\n",
       "      <td>431.0</td>\n",
       "    </tr>\n",
       "    <tr>\n",
       "      <th>3</th>\n",
       "      <td>tec1025</td>\n",
       "      <td>Thomas Clark</td>\n",
       "      <td>NaN</td>\n",
       "    </tr>\n",
       "    <tr>\n",
       "      <th>4</th>\n",
       "      <td>luckyfluff</td>\n",
       "      <td>NaN</td>\n",
       "      <td>NaN</td>\n",
       "    </tr>\n",
       "    <tr>\n",
       "      <th>...</th>\n",
       "      <td>...</td>\n",
       "      <td>...</td>\n",
       "      <td>...</td>\n",
       "    </tr>\n",
       "    <tr>\n",
       "      <th>4509581</th>\n",
       "      <td>karenarkesteyn</td>\n",
       "      <td>Karen Arkesteyn</td>\n",
       "      <td>497.0</td>\n",
       "    </tr>\n",
       "    <tr>\n",
       "      <th>4509582</th>\n",
       "      <td>jornvlaeminck</td>\n",
       "      <td>Jorn Vlaeminck</td>\n",
       "      <td>NaN</td>\n",
       "    </tr>\n",
       "    <tr>\n",
       "      <th>4509583</th>\n",
       "      <td>s_degol</td>\n",
       "      <td>Sanne Degol</td>\n",
       "      <td>NaN</td>\n",
       "    </tr>\n",
       "    <tr>\n",
       "      <th>4509584</th>\n",
       "      <td>anwilms</td>\n",
       "      <td>An Wilms</td>\n",
       "      <td>183.0</td>\n",
       "    </tr>\n",
       "    <tr>\n",
       "      <th>4509585</th>\n",
       "      <td>arnaubassols_</td>\n",
       "      <td>Arnau Bassols Noguer</td>\n",
       "      <td>NaN</td>\n",
       "    </tr>\n",
       "  </tbody>\n",
       "</table>\n",
       "<p>4509586 rows × 3 columns</p>\n",
       "</div>"
      ],
      "text/plain": [
       "             profile_name    firstname_lastname  n_posts\n",
       "0             jphillip033           John Pierce    170.0\n",
       "1               mama_haas                Deanna   2878.0\n",
       "2        yellowlightbreen            Eliza Gray    431.0\n",
       "3                 tec1025          Thomas Clark      NaN\n",
       "4              luckyfluff                   NaN      NaN\n",
       "...                   ...                   ...      ...\n",
       "4509581    karenarkesteyn       Karen Arkesteyn    497.0\n",
       "4509582     jornvlaeminck        Jorn Vlaeminck      NaN\n",
       "4509583           s_degol           Sanne Degol      NaN\n",
       "4509584           anwilms              An Wilms    183.0\n",
       "4509585     arnaubassols_  Arnau Bassols Noguer      NaN\n",
       "\n",
       "[4509586 rows x 3 columns]"
      ]
     },
     "execution_count": 2,
     "metadata": {},
     "output_type": "execute_result"
    }
   ],
   "source": [
    "mydata = pd.read_csv('instagram_profiles.csv', sep='\\t', usecols=['profile_name', 'firstname_lastname', 'n_posts'])\n",
    "mydata"
   ]
  },
  {
   "cell_type": "markdown",
   "id": "39f64151",
   "metadata": {},
   "source": [
    "\\- As we could see in RQ1, in the DataFrame there are many NaN values so now we remove the row of \"mydata\" where such 'non-values' are present"
   ]
  },
  {
   "cell_type": "code",
   "execution_count": 3,
   "id": "cd04a8a6",
   "metadata": {},
   "outputs": [],
   "source": [
    "mydata.dropna(inplace=True)"
   ]
  },
  {
   "cell_type": "markdown",
   "id": "39a9ee6a",
   "metadata": {},
   "source": [
    "\\- Now we want to sort this coloumn in descending order"
   ]
  },
  {
   "cell_type": "code",
   "execution_count": 4,
   "id": "21013422",
   "metadata": {},
   "outputs": [],
   "source": [
    "mydata.sort_values(\"n_posts\", ascending=False, inplace=True)"
   ]
  },
  {
   "cell_type": "code",
   "execution_count": 5,
   "id": "6accf77a",
   "metadata": {},
   "outputs": [
    {
     "data": {
      "text/html": [
       "<div>\n",
       "<style scoped>\n",
       "    .dataframe tbody tr th:only-of-type {\n",
       "        vertical-align: middle;\n",
       "    }\n",
       "\n",
       "    .dataframe tbody tr th {\n",
       "        vertical-align: top;\n",
       "    }\n",
       "\n",
       "    .dataframe thead th {\n",
       "        text-align: right;\n",
       "    }\n",
       "</style>\n",
       "<table border=\"1\" class=\"dataframe\">\n",
       "  <thead>\n",
       "    <tr style=\"text-align: right;\">\n",
       "      <th></th>\n",
       "      <th>profile_name</th>\n",
       "      <th>firstname_lastname</th>\n",
       "      <th>n_posts</th>\n",
       "    </tr>\n",
       "  </thead>\n",
       "  <tbody>\n",
       "    <tr>\n",
       "      <th>3990313</th>\n",
       "      <td>jasem33312</td>\n",
       "      <td>jasem33312</td>\n",
       "      <td>183730.0</td>\n",
       "    </tr>\n",
       "    <tr>\n",
       "      <th>2571453</th>\n",
       "      <td>koenigpic</td>\n",
       "      <td>Helperwait Studio</td>\n",
       "      <td>142428.0</td>\n",
       "    </tr>\n",
       "    <tr>\n",
       "      <th>4338921</th>\n",
       "      <td>rudyanto62</td>\n",
       "      <td>Rudyanto 王耀祝</td>\n",
       "      <td>126340.0</td>\n",
       "    </tr>\n",
       "    <tr>\n",
       "      <th>3942129</th>\n",
       "      <td>hometown_ni</td>\n",
       "      <td>AngelsCowboysLakers</td>\n",
       "      <td>125220.0</td>\n",
       "    </tr>\n",
       "    <tr>\n",
       "      <th>4219642</th>\n",
       "      <td>dwfitfiber_thailand</td>\n",
       "      <td>เห็นผลตั้งแต่เซ็ตแรกท้าลอง</td>\n",
       "      <td>117262.0</td>\n",
       "    </tr>\n",
       "    <tr>\n",
       "      <th>...</th>\n",
       "      <td>...</td>\n",
       "      <td>...</td>\n",
       "      <td>...</td>\n",
       "    </tr>\n",
       "    <tr>\n",
       "      <th>1155781</th>\n",
       "      <td>helbertdarech</td>\n",
       "      <td>Helbert Darech</td>\n",
       "      <td>0.0</td>\n",
       "    </tr>\n",
       "    <tr>\n",
       "      <th>1155782</th>\n",
       "      <td>ck.jen</td>\n",
       "      <td>Jen CK</td>\n",
       "      <td>0.0</td>\n",
       "    </tr>\n",
       "    <tr>\n",
       "      <th>3496357</th>\n",
       "      <td>dinggedingge5</td>\n",
       "      <td>鼎哥鼎哥</td>\n",
       "      <td>0.0</td>\n",
       "    </tr>\n",
       "    <tr>\n",
       "      <th>2209858</th>\n",
       "      <td>aini8500</td>\n",
       "      <td>☘️庄薆霓☘️</td>\n",
       "      <td>0.0</td>\n",
       "    </tr>\n",
       "    <tr>\n",
       "      <th>3482348</th>\n",
       "      <td>bakhtawarfarooqui</td>\n",
       "      <td>Bakhtawar Farooqui</td>\n",
       "      <td>0.0</td>\n",
       "    </tr>\n",
       "  </tbody>\n",
       "</table>\n",
       "<p>3247483 rows × 3 columns</p>\n",
       "</div>"
      ],
      "text/plain": [
       "                profile_name          firstname_lastname   n_posts\n",
       "3990313           jasem33312                  jasem33312  183730.0\n",
       "2571453            koenigpic           Helperwait Studio  142428.0\n",
       "4338921           rudyanto62                Rudyanto 王耀祝  126340.0\n",
       "3942129          hometown_ni         AngelsCowboysLakers  125220.0\n",
       "4219642  dwfitfiber_thailand  เห็นผลตั้งแต่เซ็ตแรกท้าลอง  117262.0\n",
       "...                      ...                         ...       ...\n",
       "1155781        helbertdarech              Helbert Darech       0.0\n",
       "1155782               ck.jen                      Jen CK       0.0\n",
       "3496357        dinggedingge5                        鼎哥鼎哥       0.0\n",
       "2209858             aini8500                     ☘️庄薆霓☘️       0.0\n",
       "3482348    bakhtawarfarooqui          Bakhtawar Farooqui       0.0\n",
       "\n",
       "[3247483 rows x 3 columns]"
      ]
     },
     "execution_count": 5,
     "metadata": {},
     "output_type": "execute_result"
    }
   ],
   "source": [
    "mydata"
   ]
  },
  {
   "cell_type": "code",
   "execution_count": 6,
   "id": "f80ebc7f",
   "metadata": {},
   "outputs": [
    {
     "data": {
      "text/plain": [
       "<AxesSubplot:xlabel='profile_name'>"
      ]
     },
     "execution_count": 6,
     "metadata": {},
     "output_type": "execute_result"
    },
    {
     "data": {
      "image/png": "[encoded data removed]",
      "text/plain": [
       "<Figure size 432x288 with 1 Axes>"
      ]
     },
     "metadata": {
      "needs_background": "light"
     },
     "output_type": "display_data"
    }
   ],
   "source": [
    "mydata[:75].plot(\"profile_name\", \"n_posts\", kind=\"bar\", xticks=[], color='red', edgecolor='green')"
   ]
  },
  {
   "cell_type": "markdown",
   "id": "92a11e01",
   "metadata": {},
   "source": [
    "\\- As a final step, let's graph the top 20 profiles with the most posts"
   ]
  },
  {
   "cell_type": "code",
   "execution_count": 7,
   "id": "f2224e88",
   "metadata": {},
   "outputs": [
    {
     "data": {
      "text/plain": [
       "<BarContainer object of 25 artists>"
      ]
     },
     "execution_count": 7,
     "metadata": {},
     "output_type": "execute_result"
    },
    {
     "data": {
      "image/png": "[encoded data removed]",
      "text/plain": [
       "<Figure size 432x288 with 1 Axes>"
      ]
     },
     "metadata": {
      "needs_background": "light"
     },
     "output_type": "display_data"
    }
   ],
   "source": [
    "plt.barh(mydata.profile_name.head(25)[::-1], mydata.n_posts.head(25)[::-1], height=0.3, align='edge', color='red', edgecolor='green', )"
   ]
  },
  {
   "cell_type": "markdown",
   "id": "08d6183f",
   "metadata": {},
   "source": [
    "- ## What posts have the highest number of \"likes\"?"
   ]
  },
  {
   "cell_type": "markdown",
   "id": "54ae9a79",
   "metadata": {},
   "source": [
    "\\- We take only the two coloumns (post_id, numbr_likes) of interest to us from our DataFrame 'instagram_posts.csv'"
   ]
  },
  {
   "cell_type": "code",
   "execution_count": 8,
   "id": "2eebd639",
   "metadata": {},
   "outputs": [],
   "source": [
    "likes = pd.read_csv('instagram_posts.csv', sep='\\t', usecols=['post_id', 'numbr_likes'])"
   ]
  },
  {
   "cell_type": "code",
   "execution_count": 9,
   "id": "80ed6ed0",
   "metadata": {},
   "outputs": [
    {
     "data": {
      "text/html": [
       "<div>\n",
       "<style scoped>\n",
       "    .dataframe tbody tr th:only-of-type {\n",
       "        vertical-align: middle;\n",
       "    }\n",
       "\n",
       "    .dataframe tbody tr th {\n",
       "        vertical-align: top;\n",
       "    }\n",
       "\n",
       "    .dataframe thead th {\n",
       "        text-align: right;\n",
       "    }\n",
       "</style>\n",
       "<table border=\"1\" class=\"dataframe\">\n",
       "  <thead>\n",
       "    <tr style=\"text-align: right;\">\n",
       "      <th></th>\n",
       "      <th>post_id</th>\n",
       "      <th>numbr_likes</th>\n",
       "    </tr>\n",
       "  </thead>\n",
       "  <tbody>\n",
       "    <tr>\n",
       "      <th>0</th>\n",
       "      <td>BXdjjUlgcgq</td>\n",
       "      <td>80.0</td>\n",
       "    </tr>\n",
       "    <tr>\n",
       "      <th>1</th>\n",
       "      <td>BVg0pbolYBC</td>\n",
       "      <td>25.0</td>\n",
       "    </tr>\n",
       "    <tr>\n",
       "      <th>2</th>\n",
       "      <td>BRgkjcXFp3Q</td>\n",
       "      <td>9.0</td>\n",
       "    </tr>\n",
       "    <tr>\n",
       "      <th>3</th>\n",
       "      <td>BKTKeNhjEA7</td>\n",
       "      <td>4.0</td>\n",
       "    </tr>\n",
       "    <tr>\n",
       "      <th>4</th>\n",
       "      <td>8-NQrvoYLX</td>\n",
       "      <td>8.0</td>\n",
       "    </tr>\n",
       "    <tr>\n",
       "      <th>...</th>\n",
       "      <td>...</td>\n",
       "      <td>...</td>\n",
       "    </tr>\n",
       "    <tr>\n",
       "      <th>42710192</th>\n",
       "      <td>BcpWMWGBfxh</td>\n",
       "      <td>74.0</td>\n",
       "    </tr>\n",
       "    <tr>\n",
       "      <th>42710193</th>\n",
       "      <td>Ba6LZWwlCl8</td>\n",
       "      <td>49.0</td>\n",
       "    </tr>\n",
       "    <tr>\n",
       "      <th>42710194</th>\n",
       "      <td>BPN0kM1hYUw</td>\n",
       "      <td>18.0</td>\n",
       "    </tr>\n",
       "    <tr>\n",
       "      <th>42710195</th>\n",
       "      <td>BxsZ8nDBr-L</td>\n",
       "      <td>27.0</td>\n",
       "    </tr>\n",
       "    <tr>\n",
       "      <th>42710196</th>\n",
       "      <td>BgNJ4EzHQwQ</td>\n",
       "      <td>1824.0</td>\n",
       "    </tr>\n",
       "  </tbody>\n",
       "</table>\n",
       "<p>42710197 rows × 2 columns</p>\n",
       "</div>"
      ],
      "text/plain": [
       "              post_id  numbr_likes\n",
       "0         BXdjjUlgcgq         80.0\n",
       "1         BVg0pbolYBC         25.0\n",
       "2         BRgkjcXFp3Q          9.0\n",
       "3         BKTKeNhjEA7          4.0\n",
       "4          8-NQrvoYLX          8.0\n",
       "...               ...          ...\n",
       "42710192  BcpWMWGBfxh         74.0\n",
       "42710193  Ba6LZWwlCl8         49.0\n",
       "42710194  BPN0kM1hYUw         18.0\n",
       "42710195  BxsZ8nDBr-L         27.0\n",
       "42710196  BgNJ4EzHQwQ       1824.0\n",
       "\n",
       "[42710197 rows x 2 columns]"
      ]
     },
     "execution_count": 9,
     "metadata": {},
     "output_type": "execute_result"
    }
   ],
   "source": [
    "likes"
   ]
  },
  {
   "cell_type": "code",
   "execution_count": 10,
   "id": "12004621",
   "metadata": {},
   "outputs": [],
   "source": [
    "likes.dropna()\n",
    "likes.sort_values(\"numbr_likes\", ascending=False, inplace=True)"
   ]
  },
  {
   "cell_type": "code",
   "execution_count": 11,
   "id": "7026701a",
   "metadata": {},
   "outputs": [
    {
     "data": {
      "text/html": [
       "<div>\n",
       "<style scoped>\n",
       "    .dataframe tbody tr th:only-of-type {\n",
       "        vertical-align: middle;\n",
       "    }\n",
       "\n",
       "    .dataframe tbody tr th {\n",
       "        vertical-align: top;\n",
       "    }\n",
       "\n",
       "    .dataframe thead th {\n",
       "        text-align: right;\n",
       "    }\n",
       "</style>\n",
       "<table border=\"1\" class=\"dataframe\">\n",
       "  <thead>\n",
       "    <tr style=\"text-align: right;\">\n",
       "      <th></th>\n",
       "      <th>post_id</th>\n",
       "      <th>numbr_likes</th>\n",
       "    </tr>\n",
       "  </thead>\n",
       "  <tbody>\n",
       "    <tr>\n",
       "      <th>19624085</th>\n",
       "      <td>Bt3yaXmAM0d</td>\n",
       "      <td>8822952.0</td>\n",
       "    </tr>\n",
       "    <tr>\n",
       "      <th>19623988</th>\n",
       "      <td>BuwffB7g8cK</td>\n",
       "      <td>5447066.0</td>\n",
       "    </tr>\n",
       "    <tr>\n",
       "      <th>19624082</th>\n",
       "      <td>Buc1gyZAaMQ</td>\n",
       "      <td>5116398.0</td>\n",
       "    </tr>\n",
       "    <tr>\n",
       "      <th>19623986</th>\n",
       "      <td>BvcukE8AMuG</td>\n",
       "      <td>4271466.0</td>\n",
       "    </tr>\n",
       "    <tr>\n",
       "      <th>39701024</th>\n",
       "      <td>BqSLFVBFLfq</td>\n",
       "      <td>4264745.0</td>\n",
       "    </tr>\n",
       "    <tr>\n",
       "      <th>6293907</th>\n",
       "      <td>BwTSXBKg7gN</td>\n",
       "      <td>3586546.0</td>\n",
       "    </tr>\n",
       "    <tr>\n",
       "      <th>19624086</th>\n",
       "      <td>Btw8pFXAvQm</td>\n",
       "      <td>3558599.0</td>\n",
       "    </tr>\n",
       "    <tr>\n",
       "      <th>19802016</th>\n",
       "      <td>BvC3n6_gqin</td>\n",
       "      <td>3533326.0</td>\n",
       "    </tr>\n",
       "    <tr>\n",
       "      <th>30850564</th>\n",
       "      <td>Bw7vqLrFkHi</td>\n",
       "      <td>3340297.0</td>\n",
       "    </tr>\n",
       "    <tr>\n",
       "      <th>39812576</th>\n",
       "      <td>Bw2gTH1AiDA</td>\n",
       "      <td>3311246.0</td>\n",
       "    </tr>\n",
       "    <tr>\n",
       "      <th>17474533</th>\n",
       "      <td>BtorY9IFDvc</td>\n",
       "      <td>3201436.0</td>\n",
       "    </tr>\n",
       "    <tr>\n",
       "      <th>19624088</th>\n",
       "      <td>BtJxgNSgKSC</td>\n",
       "      <td>3198242.0</td>\n",
       "    </tr>\n",
       "    <tr>\n",
       "      <th>37248165</th>\n",
       "      <td>BxxY17hhQv8</td>\n",
       "      <td>3091301.0</td>\n",
       "    </tr>\n",
       "    <tr>\n",
       "      <th>30568676</th>\n",
       "      <td>BxJqn5Tj0kc</td>\n",
       "      <td>2973661.0</td>\n",
       "    </tr>\n",
       "    <tr>\n",
       "      <th>19623987</th>\n",
       "      <td>BvCQYRVgys4</td>\n",
       "      <td>2900455.0</td>\n",
       "    </tr>\n",
       "    <tr>\n",
       "      <th>19624081</th>\n",
       "      <td>BujmsmnAt8M</td>\n",
       "      <td>2813469.0</td>\n",
       "    </tr>\n",
       "    <tr>\n",
       "      <th>40754105</th>\n",
       "      <td>BsB9YrrFvIV</td>\n",
       "      <td>2726066.0</td>\n",
       "    </tr>\n",
       "    <tr>\n",
       "      <th>30568682</th>\n",
       "      <td>BwkAk0Xje8-</td>\n",
       "      <td>2664480.0</td>\n",
       "    </tr>\n",
       "    <tr>\n",
       "      <th>19802019</th>\n",
       "      <td>Bu1ty0HAQKv</td>\n",
       "      <td>2655200.0</td>\n",
       "    </tr>\n",
       "    <tr>\n",
       "      <th>10372026</th>\n",
       "      <td>BwP4stXFS94</td>\n",
       "      <td>2616479.0</td>\n",
       "    </tr>\n",
       "    <tr>\n",
       "      <th>7246211</th>\n",
       "      <td>BsAwJ1_nFiy</td>\n",
       "      <td>2590353.0</td>\n",
       "    </tr>\n",
       "    <tr>\n",
       "      <th>10372028</th>\n",
       "      <td>BvsgLsSlr_e</td>\n",
       "      <td>2566721.0</td>\n",
       "    </tr>\n",
       "    <tr>\n",
       "      <th>30568685</th>\n",
       "      <td>BwcKoo1DrBy</td>\n",
       "      <td>2541437.0</td>\n",
       "    </tr>\n",
       "    <tr>\n",
       "      <th>19802022</th>\n",
       "      <td>Bur6m7eAG6t</td>\n",
       "      <td>2483834.0</td>\n",
       "    </tr>\n",
       "    <tr>\n",
       "      <th>38421902</th>\n",
       "      <td>BnRF3aph5_-</td>\n",
       "      <td>2429228.0</td>\n",
       "    </tr>\n",
       "  </tbody>\n",
       "</table>\n",
       "</div>"
      ],
      "text/plain": [
       "              post_id  numbr_likes\n",
       "19624085  Bt3yaXmAM0d    8822952.0\n",
       "19623988  BuwffB7g8cK    5447066.0\n",
       "19624082  Buc1gyZAaMQ    5116398.0\n",
       "19623986  BvcukE8AMuG    4271466.0\n",
       "39701024  BqSLFVBFLfq    4264745.0\n",
       "6293907   BwTSXBKg7gN    3586546.0\n",
       "19624086  Btw8pFXAvQm    3558599.0\n",
       "19802016  BvC3n6_gqin    3533326.0\n",
       "30850564  Bw7vqLrFkHi    3340297.0\n",
       "39812576  Bw2gTH1AiDA    3311246.0\n",
       "17474533  BtorY9IFDvc    3201436.0\n",
       "19624088  BtJxgNSgKSC    3198242.0\n",
       "37248165  BxxY17hhQv8    3091301.0\n",
       "30568676  BxJqn5Tj0kc    2973661.0\n",
       "19623987  BvCQYRVgys4    2900455.0\n",
       "19624081  BujmsmnAt8M    2813469.0\n",
       "40754105  BsB9YrrFvIV    2726066.0\n",
       "30568682  BwkAk0Xje8-    2664480.0\n",
       "19802019  Bu1ty0HAQKv    2655200.0\n",
       "10372026  BwP4stXFS94    2616479.0\n",
       "7246211   BsAwJ1_nFiy    2590353.0\n",
       "10372028  BvsgLsSlr_e    2566721.0\n",
       "30568685  BwcKoo1DrBy    2541437.0\n",
       "19802022  Bur6m7eAG6t    2483834.0\n",
       "38421902  BnRF3aph5_-    2429228.0"
      ]
     },
     "execution_count": 11,
     "metadata": {},
     "output_type": "execute_result"
    }
   ],
   "source": [
    "likes.head(25)"
   ]
  },
  {
   "cell_type": "markdown",
   "id": "933d5880",
   "metadata": {},
   "source": [
    "- ## What posts have the most and the least number of comments?"
   ]
  },
  {
   "cell_type": "code",
   "execution_count": 90,
   "id": "da223242",
   "metadata": {},
   "outputs": [
    {
     "name": "stderr",
     "output_type": "stream",
     "text": [
      "86it [01:45,  1.22s/it]\n"
     ]
    },
    {
     "data": {
      "text/html": [
       "<div>\n",
       "<style scoped>\n",
       "    .dataframe tbody tr th:only-of-type {\n",
       "        vertical-align: middle;\n",
       "    }\n",
       "\n",
       "    .dataframe tbody tr th {\n",
       "        vertical-align: top;\n",
       "    }\n",
       "\n",
       "    .dataframe thead th {\n",
       "        text-align: right;\n",
       "    }\n",
       "</style>\n",
       "<table border=\"1\" class=\"dataframe\">\n",
       "  <thead>\n",
       "    <tr style=\"text-align: right;\">\n",
       "      <th></th>\n",
       "      <th>post_id</th>\n",
       "      <th>number_comments</th>\n",
       "    </tr>\n",
       "  </thead>\n",
       "  <tbody>\n",
       "    <tr>\n",
       "      <th>242837</th>\n",
       "      <td>BQ_N0bzhTSL</td>\n",
       "      <td>135221</td>\n",
       "    </tr>\n",
       "    <tr>\n",
       "      <th>0</th>\n",
       "      <td>BXdjjUlgcgq</td>\n",
       "      <td>0</td>\n",
       "    </tr>\n",
       "    <tr>\n",
       "      <th>579112</th>\n",
       "      <td>BmORc4znzzA</td>\n",
       "      <td>56686</td>\n",
       "    </tr>\n",
       "    <tr>\n",
       "      <th>750000</th>\n",
       "      <td>Bvz4wphAXvf</td>\n",
       "      <td>0</td>\n",
       "    </tr>\n",
       "    <tr>\n",
       "      <th>1228385</th>\n",
       "      <td>BT29eW-BHMn</td>\n",
       "      <td>116551</td>\n",
       "    </tr>\n",
       "    <tr>\n",
       "      <th>...</th>\n",
       "      <td>...</td>\n",
       "      <td>...</td>\n",
       "    </tr>\n",
       "    <tr>\n",
       "      <th>41750000</th>\n",
       "      <td>ByBH0J7CfRa</td>\n",
       "      <td>0</td>\n",
       "    </tr>\n",
       "    <tr>\n",
       "      <th>42137979</th>\n",
       "      <td>ByALrvllKrn</td>\n",
       "      <td>34243</td>\n",
       "    </tr>\n",
       "    <tr>\n",
       "      <th>42000000</th>\n",
       "      <td>BxjXT1RgAlt</td>\n",
       "      <td>0</td>\n",
       "    </tr>\n",
       "    <tr>\n",
       "      <th>42561214</th>\n",
       "      <td>Bx8zGp4FI1O</td>\n",
       "      <td>21585</td>\n",
       "    </tr>\n",
       "    <tr>\n",
       "      <th>42500000</th>\n",
       "      <td>ByAsaLZgweY</td>\n",
       "      <td>0</td>\n",
       "    </tr>\n",
       "  </tbody>\n",
       "</table>\n",
       "<p>172 rows × 2 columns</p>\n",
       "</div>"
      ],
      "text/plain": [
       "              post_id number_comments\n",
       "242837    BQ_N0bzhTSL          135221\n",
       "0         BXdjjUlgcgq               0\n",
       "579112    BmORc4znzzA           56686\n",
       "750000    Bvz4wphAXvf               0\n",
       "1228385   BT29eW-BHMn          116551\n",
       "...               ...             ...\n",
       "41750000  ByBH0J7CfRa               0\n",
       "42137979  ByALrvllKrn           34243\n",
       "42000000  BxjXT1RgAlt               0\n",
       "42561214  Bx8zGp4FI1O           21585\n",
       "42500000  ByAsaLZgweY               0\n",
       "\n",
       "[172 rows x 2 columns]"
      ]
     },
     "execution_count": 90,
     "metadata": {},
     "output_type": "execute_result"
    }
   ],
   "source": [
    "from tqdm import tqdm\n",
    "num_comms = pd.DataFrame(columns=['post_id','number_comments'])\n",
    "for chunk in tqdm(pd.read_csv('instagram_posts.csv', usecols=['post_id','number_comments'], sep='\\t', chunksize=500000)):\n",
    "    most_comms = chunk.sort_values(by='number_comments', ascending=False).head(1)\n",
    "    least_comms = chunk.sort_values(by='number_comments', ascending=False).tail(1)\n",
    "    num_comms = pd.concat([num_comms, most_comms])\n",
    "    num_comms = pd.concat([num_comms, least_comms])\n",
    "num_comms"
   ]
  },
  {
   "cell_type": "code",
   "execution_count": 113,
   "id": "5e5006b5",
   "metadata": {},
   "outputs": [],
   "source": [
    "df_most = pd.DataFrame([num_comms.max()])\n",
    "df_least = pd.DataFrame([num_comms.min()])"
   ]
  },
  {
   "cell_type": "code",
   "execution_count": 123,
   "id": "cb799994",
   "metadata": {},
   "outputs": [
    {
     "name": "stdout",
     "output_type": "stream",
     "text": [
      " Post: BzuwYJ_n_0u has the most number of comments: 488953\n",
      " Post: 0W-Y3uDY29 has the least number of comments: 0\n"
     ]
    }
   ],
   "source": [
    "print(f\" Post: {df_most.iloc[0, :].post_id} has the most number of comments: {df_most.iloc[0, :].number_comments}\")\n",
    "print(f\" Post: {df_least.iloc[0, :].post_id} has the least number of comments: {df_least.iloc[0, :].number_comments}\")"
   ]
  },
  {
   "cell_type": "markdown",
   "id": "280fbb15",
   "metadata": {},
   "source": [
    "- ## How many posts include tagged locations, and how many do not? Show it using an appropriate chart and comment your results."
   ]
  },
  {
   "cell_type": "code",
   "execution_count": 136,
   "id": "b1ec9456",
   "metadata": {},
   "outputs": [
    {
     "data": {
      "text/html": [
       "<div>\n",
       "<style scoped>\n",
       "    .dataframe tbody tr th:only-of-type {\n",
       "        vertical-align: middle;\n",
       "    }\n",
       "\n",
       "    .dataframe tbody tr th {\n",
       "        vertical-align: top;\n",
       "    }\n",
       "\n",
       "    .dataframe thead th {\n",
       "        text-align: right;\n",
       "    }\n",
       "</style>\n",
       "<table border=\"1\" class=\"dataframe\">\n",
       "  <thead>\n",
       "    <tr style=\"text-align: right;\">\n",
       "      <th></th>\n",
       "      <th>location</th>\n",
       "      <th>n_posts</th>\n",
       "    </tr>\n",
       "  </thead>\n",
       "  <tbody>\n",
       "    <tr>\n",
       "      <th>0</th>\n",
       "      <td>True</td>\n",
       "      <td>42710197</td>\n",
       "    </tr>\n",
       "    <tr>\n",
       "      <th>1</th>\n",
       "      <td>False</td>\n",
       "      <td>42710197</td>\n",
       "    </tr>\n",
       "  </tbody>\n",
       "</table>\n",
       "</div>"
      ],
      "text/plain": [
       "   location   n_posts\n",
       "0      True  42710197\n",
       "1     False  42710197"
      ]
     },
     "execution_count": 136,
     "metadata": {},
     "output_type": "execute_result"
    }
   ],
   "source": [
    "df3 = pd.read_csv('instagram_posts.csv', usecols=['location_id'], sep='\\t')\n"
   ]
  },
  {
   "cell_type": "code",
   "execution_count": 138,
   "id": "ceb98e9e",
   "metadata": {},
   "outputs": [
    {
     "data": {
      "text/html": [
       "<div>\n",
       "<style scoped>\n",
       "    .dataframe tbody tr th:only-of-type {\n",
       "        vertical-align: middle;\n",
       "    }\n",
       "\n",
       "    .dataframe tbody tr th {\n",
       "        vertical-align: top;\n",
       "    }\n",
       "\n",
       "    .dataframe thead th {\n",
       "        text-align: right;\n",
       "    }\n",
       "</style>\n",
       "<table border=\"1\" class=\"dataframe\">\n",
       "  <thead>\n",
       "    <tr style=\"text-align: right;\">\n",
       "      <th></th>\n",
       "      <th>location</th>\n",
       "      <th>n_posts</th>\n",
       "    </tr>\n",
       "  </thead>\n",
       "  <tbody>\n",
       "    <tr>\n",
       "      <th>0</th>\n",
       "      <td>True</td>\n",
       "      <td>42710197</td>\n",
       "    </tr>\n",
       "    <tr>\n",
       "      <th>1</th>\n",
       "      <td>False</td>\n",
       "      <td>42710197</td>\n",
       "    </tr>\n",
       "  </tbody>\n",
       "</table>\n",
       "</div>"
      ],
      "text/plain": [
       "   location   n_posts\n",
       "0      True  42710197\n",
       "1     False  42710197"
      ]
     },
     "execution_count": 138,
     "metadata": {},
     "output_type": "execute_result"
    }
   ],
   "source": [
    "unlocated = df3['location_id'].isnull().count()\n",
    "located = df3['location_id'].notnull().count()\n",
    "results = {'location':[True,False], 'n_posts' : [located, unlocated]}\n",
    "post_loc = pd.DataFrame(results)\n",
    "post_loc"
   ]
  },
  {
   "cell_type": "code",
   "execution_count": 135,
   "id": "65f73671",
   "metadata": {},
   "outputs": [
    {
     "data": {
      "text/plain": [
       "42710197"
      ]
     },
     "execution_count": 135,
     "metadata": {},
     "output_type": "execute_result"
    }
   ],
   "source": [
    "#df4 = df3.groupby(['location_id'])['location_id'].count()\n",
    "unlocated=df3['location_id'].isna().count()\n",
    "unlocated\n"
   ]
  },
  {
   "cell_type": "markdown",
   "id": "cd6c1bc2",
   "metadata": {},
   "source": [
    "- ## How many posts include only photos? How many also have videos?"
   ]
  },
  {
   "cell_type": "code",
   "execution_count": 41,
   "id": "2c397aee",
   "metadata": {},
   "outputs": [
    {
     "data": {
      "text/html": [
       "<div>\n",
       "<style scoped>\n",
       "    .dataframe tbody tr th:only-of-type {\n",
       "        vertical-align: middle;\n",
       "    }\n",
       "\n",
       "    .dataframe tbody tr th {\n",
       "        vertical-align: top;\n",
       "    }\n",
       "\n",
       "    .dataframe thead th {\n",
       "        text-align: right;\n",
       "    }\n",
       "</style>\n",
       "<table border=\"1\" class=\"dataframe\">\n",
       "  <thead>\n",
       "    <tr style=\"text-align: right;\">\n",
       "      <th></th>\n",
       "      <th>post_id</th>\n",
       "      <th>post_type</th>\n",
       "    </tr>\n",
       "  </thead>\n",
       "  <tbody>\n",
       "    <tr>\n",
       "      <th>0</th>\n",
       "      <td>BXdjjUlgcgq</td>\n",
       "      <td>2</td>\n",
       "    </tr>\n",
       "    <tr>\n",
       "      <th>1</th>\n",
       "      <td>BVg0pbolYBC</td>\n",
       "      <td>1</td>\n",
       "    </tr>\n",
       "    <tr>\n",
       "      <th>2</th>\n",
       "      <td>BRgkjcXFp3Q</td>\n",
       "      <td>1</td>\n",
       "    </tr>\n",
       "    <tr>\n",
       "      <th>3</th>\n",
       "      <td>BKTKeNhjEA7</td>\n",
       "      <td>1</td>\n",
       "    </tr>\n",
       "    <tr>\n",
       "      <th>4</th>\n",
       "      <td>8-NQrvoYLX</td>\n",
       "      <td>1</td>\n",
       "    </tr>\n",
       "    <tr>\n",
       "      <th>...</th>\n",
       "      <td>...</td>\n",
       "      <td>...</td>\n",
       "    </tr>\n",
       "    <tr>\n",
       "      <th>499995</th>\n",
       "      <td>Bgdrw_sBvq-</td>\n",
       "      <td>1</td>\n",
       "    </tr>\n",
       "    <tr>\n",
       "      <th>499996</th>\n",
       "      <td>BkwJ6u9h1Td</td>\n",
       "      <td>1</td>\n",
       "    </tr>\n",
       "    <tr>\n",
       "      <th>499997</th>\n",
       "      <td>Bx3O0qqBY9v</td>\n",
       "      <td>1</td>\n",
       "    </tr>\n",
       "    <tr>\n",
       "      <th>499998</th>\n",
       "      <td>Bqf4IxQg4vF</td>\n",
       "      <td>1</td>\n",
       "    </tr>\n",
       "    <tr>\n",
       "      <th>499999</th>\n",
       "      <td>BVLekLdg1EK</td>\n",
       "      <td>1</td>\n",
       "    </tr>\n",
       "  </tbody>\n",
       "</table>\n",
       "<p>500000 rows × 2 columns</p>\n",
       "</div>"
      ],
      "text/plain": [
       "            post_id  post_type\n",
       "0       BXdjjUlgcgq          2\n",
       "1       BVg0pbolYBC          1\n",
       "2       BRgkjcXFp3Q          1\n",
       "3       BKTKeNhjEA7          1\n",
       "4        8-NQrvoYLX          1\n",
       "...             ...        ...\n",
       "499995  Bgdrw_sBvq-          1\n",
       "499996  BkwJ6u9h1Td          1\n",
       "499997  Bx3O0qqBY9v          1\n",
       "499998  Bqf4IxQg4vF          1\n",
       "499999  BVLekLdg1EK          1\n",
       "\n",
       "[500000 rows x 2 columns]"
      ]
     },
     "execution_count": 41,
     "metadata": {},
     "output_type": "execute_result"
    }
   ],
   "source": [
    "df4 = pd.read_csv('instagram_posts.csv', usecols=['post_id', 'post_type'], sep='\\t', nrows=500000)\n",
    "df4"
   ]
  },
  {
   "cell_type": "code",
   "execution_count": 54,
   "id": "634a7834",
   "metadata": {},
   "outputs": [
    {
     "name": "stdout",
     "output_type": "stream",
     "text": [
      " Number of posts have only photos: 470605\n",
      " Number of posts have also videos: 29395\n"
     ]
    }
   ],
   "source": [
    "print(f\" Number of posts have only photos: {(df4['post_type'] == 1.0).sum()}\")\n",
    "print(f\" Number of posts have also videos: {(df4['post_type'] > 1.0).sum()}\")"
   ]
  },
  {
   "cell_type": "code",
   "execution_count": 57,
   "id": "f3d3e00c",
   "metadata": {},
   "outputs": [
    {
     "data": {
      "text/plain": [
       "<AxesSubplot:>"
      ]
     },
     "execution_count": 57,
     "metadata": {},
     "output_type": "execute_result"
    },
    {
     "data": {
      "image/png": "[encoded data removed]",
      "text/plain": [
       "<Figure size 432x288 with 1 Axes>"
      ]
     },
     "metadata": {
      "needs_background": "light"
     },
     "output_type": "display_data"
    }
   ],
   "source": [
    "sns.barplot(x=['photo', 'also_video'], y=[(df4['post_type'] == 1.0).sum(), (df4['post_type'] > 1.0).sum()])"
   ]
  },
  {
   "cell_type": "markdown",
   "id": "1fe16e17",
   "metadata": {},
   "source": [
    "- ## What's the percentage of business accounts vs non-business? What can you interpret regarding that percentage? "
   ]
  },
  {
   "cell_type": "code",
   "execution_count": 60,
   "id": "272e9e49",
   "metadata": {},
   "outputs": [],
   "source": [
    "df5 = pd.read_csv('instagram_profiles.csv', usecols=['is_business_account'], sep='\\t')"
   ]
  },
  {
   "cell_type": "code",
   "execution_count": 61,
   "id": "5153f069",
   "metadata": {},
   "outputs": [
    {
     "data": {
      "text/html": [
       "<div>\n",
       "<style scoped>\n",
       "    .dataframe tbody tr th:only-of-type {\n",
       "        vertical-align: middle;\n",
       "    }\n",
       "\n",
       "    .dataframe tbody tr th {\n",
       "        vertical-align: top;\n",
       "    }\n",
       "\n",
       "    .dataframe thead th {\n",
       "        text-align: right;\n",
       "    }\n",
       "</style>\n",
       "<table border=\"1\" class=\"dataframe\">\n",
       "  <thead>\n",
       "    <tr style=\"text-align: right;\">\n",
       "      <th></th>\n",
       "      <th>is_business_account</th>\n",
       "    </tr>\n",
       "  </thead>\n",
       "  <tbody>\n",
       "    <tr>\n",
       "      <th>0</th>\n",
       "      <td>False</td>\n",
       "    </tr>\n",
       "    <tr>\n",
       "      <th>1</th>\n",
       "      <td>False</td>\n",
       "    </tr>\n",
       "    <tr>\n",
       "      <th>2</th>\n",
       "      <td>False</td>\n",
       "    </tr>\n",
       "    <tr>\n",
       "      <th>3</th>\n",
       "      <td>NaN</td>\n",
       "    </tr>\n",
       "    <tr>\n",
       "      <th>4</th>\n",
       "      <td>NaN</td>\n",
       "    </tr>\n",
       "    <tr>\n",
       "      <th>...</th>\n",
       "      <td>...</td>\n",
       "    </tr>\n",
       "    <tr>\n",
       "      <th>4509581</th>\n",
       "      <td>False</td>\n",
       "    </tr>\n",
       "    <tr>\n",
       "      <th>4509582</th>\n",
       "      <td>NaN</td>\n",
       "    </tr>\n",
       "    <tr>\n",
       "      <th>4509583</th>\n",
       "      <td>NaN</td>\n",
       "    </tr>\n",
       "    <tr>\n",
       "      <th>4509584</th>\n",
       "      <td>False</td>\n",
       "    </tr>\n",
       "    <tr>\n",
       "      <th>4509585</th>\n",
       "      <td>NaN</td>\n",
       "    </tr>\n",
       "  </tbody>\n",
       "</table>\n",
       "<p>4509586 rows × 1 columns</p>\n",
       "</div>"
      ],
      "text/plain": [
       "        is_business_account\n",
       "0                     False\n",
       "1                     False\n",
       "2                     False\n",
       "3                       NaN\n",
       "4                       NaN\n",
       "...                     ...\n",
       "4509581               False\n",
       "4509582                 NaN\n",
       "4509583                 NaN\n",
       "4509584               False\n",
       "4509585                 NaN\n",
       "\n",
       "[4509586 rows x 1 columns]"
      ]
     },
     "execution_count": 61,
     "metadata": {},
     "output_type": "execute_result"
    }
   ],
   "source": [
    "df5"
   ]
  },
  {
   "cell_type": "code",
   "execution_count": 87,
   "id": "4031c657",
   "metadata": {},
   "outputs": [
    {
     "data": {
      "text/plain": [
       "False    81.034756\n",
       "True     18.965244\n",
       "Name: is_business_account, dtype: float64"
      ]
     },
     "execution_count": 87,
     "metadata": {},
     "output_type": "execute_result"
    }
   ],
   "source": [
    "df5.fillna(False, inplace=True)\n",
    "perc_is_business = df5.is_business_account.value_counts(normalize=True)*100\n",
    "perc_is_business\n"
   ]
  },
  {
   "cell_type": "code",
   "execution_count": 85,
   "id": "31cb1153",
   "metadata": {},
   "outputs": [
    {
     "data": {
      "text/plain": [
       "False    81.034756\n",
       "True     18.965244\n",
       "Name: is_business_account, dtype: float64"
      ]
     },
     "execution_count": 85,
     "metadata": {},
     "output_type": "execute_result"
    }
   ],
   "source": [
    "percentages = is_business / df5.shape[0] * 100\n",
    "percentages"
   ]
  },
  {
   "cell_type": "code",
   "execution_count": 88,
   "id": "a2b461d3",
   "metadata": {},
   "outputs": [
    {
     "data": {
      "text/plain": [
       "([<matplotlib.patches.Wedge at 0x16a30325ca0>,\n",
       "  <matplotlib.patches.Wedge at 0x16a30333160>],\n",
       " [Text(-0.9104633068776324, 0.6172977942852592, 'False'),\n",
       "  Text(0.9104634224687973, -0.6172976237977953, 'True')])"
      ]
     },
     "execution_count": 88,
     "metadata": {},
     "output_type": "execute_result"
    },
    {
     "data": {
      "image/png": "[encoded data removed]",
      "text/plain": [
       "<Figure size 432x288 with 1 Axes>"
      ]
     },
     "metadata": {},
     "output_type": "display_data"
    }
   ],
   "source": [
    "plt.pie(perc_is_business, labels=['False', 'True'])"
   ]
  },
  {
   "cell_type": "code",
   "execution_count": null,
   "id": "a42ef99d",
   "metadata": {},
   "outputs": [],
   "source": []
  }
 ],
 "metadata": {
  "kernelspec": {
   "display_name": "Python 3 (ipykernel)",
   "language": "python",
   "name": "python3"
  },
  "language_info": {
   "codemirror_mode": {
    "name": "ipython",
    "version": 3
   },
   "file_extension": ".py",
   "mimetype": "text/x-python",
   "name": "python",
   "nbconvert_exporter": "python",
   "pygments_lexer": "ipython3",
   "version": "3.9.12"
  }
 },
 "nbformat": 4,
 "nbformat_minor": 5
}
