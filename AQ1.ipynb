{
 "cells": [
  {
   "cell_type": "code",
   "execution_count": 19,
   "id": "2a61c425",
   "metadata": {},
   "outputs": [
    {
     "name": "stdout",
     "output_type": "stream",
     "text": [
      "3\n",
      "abc \n",
      "a\n",
      "b\n",
      "c\n",
      "\n",
      "\n",
      "a\n",
      "c\n",
      "b\n",
      "\n",
      "\n",
      "b\n",
      "a\n",
      "c\n",
      "\n",
      "\n",
      "b\n",
      "c\n",
      "a\n",
      "\n",
      "\n",
      "c\n",
      "b\n",
      "a\n",
      "\n",
      "\n",
      "c\n",
      "a\n",
      "b\n",
      "\n",
      "\n"
     ]
    }
   ],
   "source": [
    "N = int(input()) # integer\n",
    "List = list(input()) # array of characters of length N without repetition\n",
    "\n",
    "def f1(sequence, end): \n",
    "    for i in range(0,end):\n",
    "        print(sequence[i])\n",
    "    print(\"\\n\")\n",
    "    \n",
    "    \n",
    "def f2(sequence, start, end): \n",
    "    if start == end: \n",
    "        f1(sequence, end)\n",
    "    else:\n",
    "        for i in range(start, end): \n",
    "            temp = sequence[start]\n",
    "            sequence[start] = sequence[i]\n",
    "            sequence[i] = temp\n",
    "            f2(sequence, start+1, end)\n",
    "            temp = sequence[start]\n",
    "            sequence[start] = sequence[i]\n",
    "            sequence[i] = temp\n",
    "\n",
    "f2(List, 0, N)"
   ]
  },
  {
   "cell_type": "markdown",
   "id": "d9106cb4",
   "metadata": {},
   "source": [
    "The following algorithm outputs permutations of the characters given as input as a list.\n",
    "\n",
    "A permutation is defined as \"each of the several possible ways in which a set or number of things can be ordered or arranged\".\n",
    "\n",
    "Let's describe the algorithm.\n",
    "\n",
    "In the first function we receive as input a sequence of characters (\"sequence\") and an integer (\"end\").\n",
    "What the function does is to run through the entire sequence of characters and print it on the same line.\n",
    "\n",
    "In the second function we receive as input a sequence of characters (\"sequence\"), an integer (\"start\") and an integer (\"end\"). \n",
    "If the two values \"start\" and \"end\" are equal, the function f1 described above is called and is simply get the sequence printed on the same line. \n",
    "If the value of \"start\" is different from the value of \"end\", a for loop is entered. \n",
    "The for loop is applied in the range from \"start\" to \"end\".\n",
    "A temporary variable is created in which the value of the sequence of characters corresponding to the index \"start\" is entered (sequence[start]).\n",
    "Next, the original value sequence[start] is replaced with the value of sequence[i] and the temporary variable is assigned the value of sequence[i]. \n",
    "Once the values have been swapped, the function f2 is called, sending the \"start\" index forward by 1, and the process begins again. \n",
    "In this way we obtain all possible permutations of our input list of characters. "
   ]
  },
  {
   "cell_type": "code",
   "execution_count": null,
   "id": "9722d1c2",
   "metadata": {},
   "outputs": [],
   "source": []
  },
  {
   "cell_type": "code",
   "execution_count": null,
   "id": "c14d24c1",
   "metadata": {},
   "outputs": [],
   "source": []
  },
  {
   "cell_type": "code",
   "execution_count": null,
   "id": "36ac990f",
   "metadata": {},
   "outputs": [],
   "source": []
  },
  {
   "cell_type": "code",
   "execution_count": null,
   "id": "6c91a3d6",
   "metadata": {},
   "outputs": [],
   "source": []
  }
 ],
 "metadata": {
  "kernelspec": {
   "display_name": "Python 3 (ipykernel)",
   "language": "python",
   "name": "python3"
  },
  "language_info": {
   "codemirror_mode": {
    "name": "ipython",
    "version": 3
   },
   "file_extension": ".py",
   "mimetype": "text/x-python",
   "name": "python",
   "nbconvert_exporter": "python",
   "pygments_lexer": "ipython3",
   "version": "3.9.12"
  }
 },
 "nbformat": 4,
 "nbformat_minor": 5
}
