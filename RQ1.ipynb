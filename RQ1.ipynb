{
 "cells": [
  {
   "cell_type": "code",
   "execution_count": 1,
   "id": "af44cbbf",
   "metadata": {},
   "outputs": [],
   "source": [
    "import pandas as pd "
   ]
  },
  {
   "cell_type": "code",
   "execution_count": 59,
   "id": "ffad125b",
   "metadata": {},
   "outputs": [
    {
     "data": {
      "text/plain": [
       "Index(['sid', 'profile_id', 'profile_name', 'firstname_lastname',\n",
       "       'description', 'following', 'followers', 'n_posts', 'url', 'cts',\n",
       "       'is_business_account'],\n",
       "      dtype='object')"
      ]
     },
     "execution_count": 59,
     "metadata": {},
     "output_type": "execute_result"
    }
   ],
   "source": [
    "#import dataset\n",
    "profiles = pd.read_csv(r\"D:\\DATASET_ADM-HW2\\archive\\instagram_profiles.csv\", delimiter='\\t')\n",
    "profiles.columns"
   ]
  },
  {
   "cell_type": "code",
   "execution_count": 21,
   "id": "41f159c6",
   "metadata": {},
   "outputs": [
    {
     "data": {
      "text/plain": [
       "(4509586, 11)"
      ]
     },
     "execution_count": 21,
     "metadata": {},
     "output_type": "execute_result"
    }
   ],
   "source": [
    "#see what is in dataset\n",
    "profiles.head()\n",
    "profiles.shape"
   ]
  },
  {
   "cell_type": "code",
   "execution_count": null,
   "id": "b995def2",
   "metadata": {},
   "outputs": [],
   "source": []
  },
  {
   "cell_type": "code",
   "execution_count": null,
   "id": "e32dc467",
   "metadata": {},
   "outputs": [],
   "source": []
  },
  {
   "cell_type": "code",
   "execution_count": null,
   "id": "8b909e9b",
   "metadata": {},
   "outputs": [],
   "source": []
  },
  {
   "cell_type": "code",
   "execution_count": 22,
   "id": "119d0b62",
   "metadata": {},
   "outputs": [
    {
     "data": {
      "text/plain": [
       "(746064, 11)"
      ]
     },
     "execution_count": 22,
     "metadata": {},
     "output_type": "execute_result"
    }
   ],
   "source": [
    "# clean the dataset\n",
    "cleaned_profiles=profiles.dropna()\n",
    "cleaned_profiles.shape"
   ]
  },
  {
   "cell_type": "code",
   "execution_count": 17,
   "id": "8a2bfbd1",
   "metadata": {},
   "outputs": [
    {
     "data": {
      "text/html": [
       "<div>\n",
       "<style scoped>\n",
       "    .dataframe tbody tr th:only-of-type {\n",
       "        vertical-align: middle;\n",
       "    }\n",
       "\n",
       "    .dataframe tbody tr th {\n",
       "        vertical-align: top;\n",
       "    }\n",
       "\n",
       "    .dataframe thead th {\n",
       "        text-align: right;\n",
       "    }\n",
       "</style>\n",
       "<table border=\"1\" class=\"dataframe\">\n",
       "  <thead>\n",
       "    <tr style=\"text-align: right;\">\n",
       "      <th></th>\n",
       "      <th>sid</th>\n",
       "      <th>profile_id</th>\n",
       "      <th>profile_name</th>\n",
       "      <th>firstname_lastname</th>\n",
       "      <th>description</th>\n",
       "      <th>following</th>\n",
       "      <th>followers</th>\n",
       "      <th>n_posts</th>\n",
       "      <th>url</th>\n",
       "      <th>cts</th>\n",
       "      <th>is_business_account</th>\n",
       "    </tr>\n",
       "  </thead>\n",
       "  <tbody>\n",
       "    <tr>\n",
       "      <th>1</th>\n",
       "      <td>4184457</td>\n",
       "      <td>5.905830e+08</td>\n",
       "      <td>mama_haas</td>\n",
       "      <td>Deanna</td>\n",
       "      <td>Trying to enjoy the simple things in life. Kni...</td>\n",
       "      <td>534.0</td>\n",
       "      <td>1145.0</td>\n",
       "      <td>2878.0</td>\n",
       "      <td>www.etsy.com/shop/MamaHaas69</td>\n",
       "      <td>2019-08-01 14:39:36.526 -0400</td>\n",
       "      <td>False</td>\n",
       "    </tr>\n",
       "    <tr>\n",
       "      <th>2</th>\n",
       "      <td>4184460</td>\n",
       "      <td>1.074147e+09</td>\n",
       "      <td>yellowlightbreen</td>\n",
       "      <td>Eliza Gray</td>\n",
       "      <td>Maine is for Lovers</td>\n",
       "      <td>469.0</td>\n",
       "      <td>324.0</td>\n",
       "      <td>431.0</td>\n",
       "      <td>elizajanegray.com</td>\n",
       "      <td>2019-08-01 14:39:54.407 -0400</td>\n",
       "      <td>False</td>\n",
       "    </tr>\n",
       "    <tr>\n",
       "      <th>6</th>\n",
       "      <td>4184471</td>\n",
       "      <td>2.061868e+09</td>\n",
       "      <td>masslivehs</td>\n",
       "      <td>MassLive High School Sports</td>\n",
       "      <td>Your spot for the best Western Mass. high scho...</td>\n",
       "      <td>157.0</td>\n",
       "      <td>4137.0</td>\n",
       "      <td>753.0</td>\n",
       "      <td>bit.ly/2HIysyv</td>\n",
       "      <td>2019-08-01 14:40:40.390 -0400</td>\n",
       "      <td>True</td>\n",
       "    </tr>\n",
       "    <tr>\n",
       "      <th>13</th>\n",
       "      <td>4184486</td>\n",
       "      <td>3.041392e+08</td>\n",
       "      <td>katepani413</td>\n",
       "      <td>kp!!!! ☆</td>\n",
       "      <td>cowley college volleyball\\n3.18.19 @garrett.lange</td>\n",
       "      <td>1543.0</td>\n",
       "      <td>3008.0</td>\n",
       "      <td>115.0</td>\n",
       "      <td>vsco.co/kpani</td>\n",
       "      <td>2019-08-01 14:41:46.967 -0400</td>\n",
       "      <td>True</td>\n",
       "    </tr>\n",
       "    <tr>\n",
       "      <th>50</th>\n",
       "      <td>4184480</td>\n",
       "      <td>9.947274e+09</td>\n",
       "      <td>jk_vastgoed</td>\n",
       "      <td>JK VASTGOED</td>\n",
       "      <td>Een vernieuwend vastgoedkantoor waarbij persoo...</td>\n",
       "      <td>215.0</td>\n",
       "      <td>182.0</td>\n",
       "      <td>14.0</td>\n",
       "      <td>www.jkvastgoed.be</td>\n",
       "      <td>2019-08-01 14:41:25.930 -0400</td>\n",
       "      <td>True</td>\n",
       "    </tr>\n",
       "  </tbody>\n",
       "</table>\n",
       "</div>"
      ],
      "text/plain": [
       "        sid    profile_id      profile_name           firstname_lastname  \\\n",
       "1   4184457  5.905830e+08         mama_haas                       Deanna   \n",
       "2   4184460  1.074147e+09  yellowlightbreen                   Eliza Gray   \n",
       "6   4184471  2.061868e+09        masslivehs  MassLive High School Sports   \n",
       "13  4184486  3.041392e+08       katepani413                     kp!!!! ☆   \n",
       "50  4184480  9.947274e+09       jk_vastgoed                  JK VASTGOED   \n",
       "\n",
       "                                          description  following  followers  \\\n",
       "1   Trying to enjoy the simple things in life. Kni...      534.0     1145.0   \n",
       "2                                 Maine is for Lovers      469.0      324.0   \n",
       "6   Your spot for the best Western Mass. high scho...      157.0     4137.0   \n",
       "13  cowley college volleyball\\n3.18.19 @garrett.lange     1543.0     3008.0   \n",
       "50  Een vernieuwend vastgoedkantoor waarbij persoo...      215.0      182.0   \n",
       "\n",
       "    n_posts                           url                            cts  \\\n",
       "1    2878.0  www.etsy.com/shop/MamaHaas69  2019-08-01 14:39:36.526 -0400   \n",
       "2     431.0             elizajanegray.com  2019-08-01 14:39:54.407 -0400   \n",
       "6     753.0                bit.ly/2HIysyv  2019-08-01 14:40:40.390 -0400   \n",
       "13    115.0                 vsco.co/kpani  2019-08-01 14:41:46.967 -0400   \n",
       "50     14.0             www.jkvastgoed.be  2019-08-01 14:41:25.930 -0400   \n",
       "\n",
       "   is_business_account  \n",
       "1                False  \n",
       "2                False  \n",
       "6                 True  \n",
       "13                True  \n",
       "50                True  "
      ]
     },
     "execution_count": 17,
     "metadata": {},
     "output_type": "execute_result"
    }
   ],
   "source": [
    "cleaned_profiles.head()"
   ]
  },
  {
   "cell_type": "code",
   "execution_count": 50,
   "id": "f176b00b",
   "metadata": {},
   "outputs": [
    {
     "data": {
      "text/html": [
       "<div>\n",
       "<style scoped>\n",
       "    .dataframe tbody tr th:only-of-type {\n",
       "        vertical-align: middle;\n",
       "    }\n",
       "\n",
       "    .dataframe tbody tr th {\n",
       "        vertical-align: top;\n",
       "    }\n",
       "\n",
       "    .dataframe thead th {\n",
       "        text-align: right;\n",
       "    }\n",
       "</style>\n",
       "<table border=\"1\" class=\"dataframe\">\n",
       "  <thead>\n",
       "    <tr style=\"text-align: right;\">\n",
       "      <th></th>\n",
       "      <th>sid</th>\n",
       "      <th>profile_id</th>\n",
       "      <th>following</th>\n",
       "      <th>followers</th>\n",
       "      <th>n_posts</th>\n",
       "    </tr>\n",
       "  </thead>\n",
       "  <tbody>\n",
       "    <tr>\n",
       "      <th>count</th>\n",
       "      <td>7.460640e+05</td>\n",
       "      <td>7.460640e+05</td>\n",
       "      <td>7.460640e+05</td>\n",
       "      <td>7.460640e+05</td>\n",
       "      <td>746064.000000</td>\n",
       "    </tr>\n",
       "    <tr>\n",
       "      <th>mean</th>\n",
       "      <td>2.305006e+06</td>\n",
       "      <td>2.860714e+09</td>\n",
       "      <td>1.734034e+03</td>\n",
       "      <td>1.126961e+04</td>\n",
       "      <td>670.256459</td>\n",
       "    </tr>\n",
       "    <tr>\n",
       "      <th>std</th>\n",
       "      <td>1.380376e+06</td>\n",
       "      <td>3.076604e+09</td>\n",
       "      <td>1.536903e+04</td>\n",
       "      <td>1.553586e+05</td>\n",
       "      <td>1417.273477</td>\n",
       "    </tr>\n",
       "    <tr>\n",
       "      <th>min</th>\n",
       "      <td>1.186000e+03</td>\n",
       "      <td>1.900000e+01</td>\n",
       "      <td>0.000000e+00</td>\n",
       "      <td>0.000000e+00</td>\n",
       "      <td>0.000000</td>\n",
       "    </tr>\n",
       "    <tr>\n",
       "      <th>25%</th>\n",
       "      <td>1.070186e+06</td>\n",
       "      <td>2.686020e+08</td>\n",
       "      <td>4.510000e+02</td>\n",
       "      <td>4.270000e+02</td>\n",
       "      <td>83.000000</td>\n",
       "    </tr>\n",
       "    <tr>\n",
       "      <th>50%</th>\n",
       "      <td>2.445360e+06</td>\n",
       "      <td>1.646998e+09</td>\n",
       "      <td>9.380000e+02</td>\n",
       "      <td>9.990000e+02</td>\n",
       "      <td>278.000000</td>\n",
       "    </tr>\n",
       "    <tr>\n",
       "      <th>75%</th>\n",
       "      <td>3.546743e+06</td>\n",
       "      <td>4.768759e+09</td>\n",
       "      <td>2.012000e+03</td>\n",
       "      <td>2.746000e+03</td>\n",
       "      <td>754.000000</td>\n",
       "    </tr>\n",
       "    <tr>\n",
       "      <th>max</th>\n",
       "      <td>4.510784e+06</td>\n",
       "      <td>1.588704e+10</td>\n",
       "      <td>4.191080e+06</td>\n",
       "      <td>2.954214e+07</td>\n",
       "      <td>142428.000000</td>\n",
       "    </tr>\n",
       "  </tbody>\n",
       "</table>\n",
       "</div>"
      ],
      "text/plain": [
       "                sid    profile_id     following     followers        n_posts\n",
       "count  7.460640e+05  7.460640e+05  7.460640e+05  7.460640e+05  746064.000000\n",
       "mean   2.305006e+06  2.860714e+09  1.734034e+03  1.126961e+04     670.256459\n",
       "std    1.380376e+06  3.076604e+09  1.536903e+04  1.553586e+05    1417.273477\n",
       "min    1.186000e+03  1.900000e+01  0.000000e+00  0.000000e+00       0.000000\n",
       "25%    1.070186e+06  2.686020e+08  4.510000e+02  4.270000e+02      83.000000\n",
       "50%    2.445360e+06  1.646998e+09  9.380000e+02  9.990000e+02     278.000000\n",
       "75%    3.546743e+06  4.768759e+09  2.012000e+03  2.746000e+03     754.000000\n",
       "max    4.510784e+06  1.588704e+10  4.191080e+06  2.954214e+07  142428.000000"
      ]
     },
     "execution_count": 50,
     "metadata": {},
     "output_type": "execute_result"
    }
   ],
   "source": [
    "# understand our variables\n",
    "cleaned_profiles.describe()"
   ]
  },
  {
   "cell_type": "code",
   "execution_count": 24,
   "id": "3a6ea668",
   "metadata": {},
   "outputs": [
    {
     "data": {
      "text/plain": [
       "0"
      ]
     },
     "execution_count": 24,
     "metadata": {},
     "output_type": "execute_result"
    }
   ],
   "source": [
    "# non ci sono duplicati \n",
    "cleaned_profiles.duplicated().sum()"
   ]
  },
  {
   "cell_type": "code",
   "execution_count": 58,
   "id": "f7ffd84f",
   "metadata": {},
   "outputs": [
    {
     "data": {
      "text/plain": [
       "array([[<AxesSubplot:title={'center':'n_posts'}>]], dtype=object)"
      ]
     },
     "execution_count": 58,
     "metadata": {},
     "output_type": "execute_result"
    },
    {
     "data": {
      "image/png": "[encoded data removed]",
      "text/plain": [
       "<Figure size 432x288 with 1 Axes>"
      ]
     },
     "metadata": {
      "needs_background": "light"
     },
     "output_type": "display_data"
    }
   ],
   "source": [
    "cleaned_profiles.hist(\"n_posts\")"
   ]
  },
  {
   "cell_type": "code",
   "execution_count": null,
   "id": "39f2f65e",
   "metadata": {},
   "outputs": [],
   "source": []
  },
  {
   "cell_type": "code",
   "execution_count": 38,
   "id": "3e82a1ed",
   "metadata": {},
   "outputs": [
    {
     "data": {
      "image/png": "[encoded data removed]",
      "text/plain": [
       "<Figure size 432x288 with 1 Axes>"
      ]
     },
     "metadata": {
      "needs_background": "light"
     },
     "output_type": "display_data"
    }
   ],
   "source": [
    "# Import libraries\n",
    "import matplotlib.pyplot as plt\n",
    "import numpy as np\n",
    " \n",
    "# Creating dataset\n",
    "np.random.seed(10)\n",
    "data = np.random.normal(100, 20, 200)\n",
    "\n",
    " \n",
    "# Creating plot\n",
    "plt.hist(cleaned_profiles[\"followers\"])\n",
    " \n",
    "# show plot\n",
    "plt.show()"
   ]
  },
  {
   "cell_type": "code",
   "execution_count": null,
   "id": "1afb6095",
   "metadata": {},
   "outputs": [],
   "source": []
  },
  {
   "cell_type": "code",
   "execution_count": null,
   "id": "3a7cfa39",
   "metadata": {},
   "outputs": [],
   "source": []
  },
  {
   "cell_type": "code",
   "execution_count": null,
   "id": "a068757d",
   "metadata": {},
   "outputs": [],
   "source": []
  },
  {
   "cell_type": "code",
   "execution_count": null,
   "id": "a9cab2d9",
   "metadata": {},
   "outputs": [],
   "source": []
  },
  {
   "cell_type": "code",
   "execution_count": null,
   "id": "2b7a57a6",
   "metadata": {},
   "outputs": [],
   "source": []
  },
  {
   "cell_type": "code",
   "execution_count": null,
   "id": "74daf62e",
   "metadata": {},
   "outputs": [],
   "source": []
  },
  {
   "cell_type": "code",
   "execution_count": null,
   "id": "8781502e",
   "metadata": {},
   "outputs": [],
   "source": []
  }
 ],
 "metadata": {
  "kernelspec": {
   "display_name": "Python 3 (ipykernel)",
   "language": "python",
   "name": "python3"
  },
  "language_info": {
   "codemirror_mode": {
    "name": "ipython",
    "version": 3
   },
   "file_extension": ".py",
   "mimetype": "text/x-python",
   "name": "python",
   "nbconvert_exporter": "python",
   "pygments_lexer": "ipython3",
   "version": "3.9.12"
  }
 },
 "nbformat": 4,
 "nbformat_minor": 5
}
