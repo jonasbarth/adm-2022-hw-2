{
 "cells": [
  {
   "cell_type": "code",
   "execution_count": 1,
   "id": "e5ea66e8",
   "metadata": {},
   "outputs": [
    {
     "data": {
      "text/html": [
       "<style type='text/css'>\n",
       ".datatable table.frame { margin-bottom: 0; }\n",
       ".datatable table.frame thead { border-bottom: none; }\n",
       ".datatable table.frame tr.coltypes td {  color: #FFFFFF;  line-height: 6px;  padding: 0 0.5em;}\n",
       ".datatable .bool    { background: #DDDD99; }\n",
       ".datatable .object  { background: #565656; }\n",
       ".datatable .int     { background: #5D9E5D; }\n",
       ".datatable .float   { background: #4040CC; }\n",
       ".datatable .str     { background: #CC4040; }\n",
       ".datatable .time    { background: #40CC40; }\n",
       ".datatable .row_index {  background: var(--jp-border-color3);  border-right: 1px solid var(--jp-border-color0);  color: var(--jp-ui-font-color3);  font-size: 9px;}\n",
       ".datatable .frame tbody td { text-align: left; }\n",
       ".datatable .frame tr.coltypes .row_index {  background: var(--jp-border-color0);}\n",
       ".datatable th:nth-child(2) { padding-left: 12px; }\n",
       ".datatable .hellipsis {  color: var(--jp-cell-editor-border-color);}\n",
       ".datatable .vellipsis {  background: var(--jp-layout-color0);  color: var(--jp-cell-editor-border-color);}\n",
       ".datatable .na {  color: var(--jp-cell-editor-border-color);  font-size: 80%;}\n",
       ".datatable .sp {  opacity: 0.25;}\n",
       ".datatable .footer { font-size: 9px; }\n",
       ".datatable .frame_dimensions {  background: var(--jp-border-color3);  border-top: 1px solid var(--jp-border-color0);  color: var(--jp-ui-font-color3);  display: inline-block;  opacity: 0.6;  padding: 1px 10px 1px 5px;}\n",
       "</style>\n"
      ],
      "text/plain": [
       "<IPython.core.display.HTML object>"
      ]
     },
     "metadata": {},
     "output_type": "display_data"
    }
   ],
   "source": [
    "import pandas as pd\n",
    "import matplotlib.pyplot as plt\n",
    "import datatable as dt"
   ]
  },
  {
   "cell_type": "markdown",
   "id": "f136bc49",
   "metadata": {},
   "source": [
    "## [RQ7] Of course, calculating probabilities is a job that any Data Scientist must know. So let's compute some engaging figures."
   ]
  },
  {
   "cell_type": "markdown",
   "id": "08529aac",
   "metadata": {},
   "source": [
    "- ## What's the probability that a posts receives more than 20% \"likes\" of the number of followers a user has?"
   ]
  },
  {
   "cell_type": "markdown",
   "id": "30862d27",
   "metadata": {},
   "source": [
    "#### We've to compare the number of likes and number of followers for each user to compute this probability, so we create a new DataFrame with these columns in which we are interested.\n",
    "\n",
    "#### First DataFrame from \"instagram_profiles.csv\" in which we have removed NaN values because they don't give us informations and converted follower's number to an integer for each user."
   ]
  },
  {
   "cell_type": "code",
   "execution_count": 2,
   "id": "1ac145a1",
   "metadata": {},
   "outputs": [],
   "source": [
    "from_prof = dt.fread('instagram_profiles.csv', sep='\\t', columns={\"sid\", \"followers\"}).to_pandas()"
   ]
  },
  {
   "cell_type": "code",
   "execution_count": 3,
   "id": "4ecafc52",
   "metadata": {},
   "outputs": [],
   "source": [
    "from_prof = from_prof.dropna()"
   ]
  },
  {
   "cell_type": "code",
   "execution_count": 4,
   "id": "cd55cd10",
   "metadata": {},
   "outputs": [
    {
     "data": {
      "text/html": [
       "<div>\n",
       "<style scoped>\n",
       "    .dataframe tbody tr th:only-of-type {\n",
       "        vertical-align: middle;\n",
       "    }\n",
       "\n",
       "    .dataframe tbody tr th {\n",
       "        vertical-align: top;\n",
       "    }\n",
       "\n",
       "    .dataframe thead th {\n",
       "        text-align: right;\n",
       "    }\n",
       "</style>\n",
       "<table border=\"1\" class=\"dataframe\">\n",
       "  <thead>\n",
       "    <tr style=\"text-align: right;\">\n",
       "      <th></th>\n",
       "      <th>sid</th>\n",
       "      <th>followers</th>\n",
       "    </tr>\n",
       "  </thead>\n",
       "  <tbody>\n",
       "    <tr>\n",
       "      <th>0</th>\n",
       "      <td>4184446</td>\n",
       "      <td>146</td>\n",
       "    </tr>\n",
       "    <tr>\n",
       "      <th>1</th>\n",
       "      <td>4184457</td>\n",
       "      <td>1145</td>\n",
       "    </tr>\n",
       "    <tr>\n",
       "      <th>2</th>\n",
       "      <td>4184460</td>\n",
       "      <td>324</td>\n",
       "    </tr>\n",
       "    <tr>\n",
       "      <th>5</th>\n",
       "      <td>4184465</td>\n",
       "      <td>192</td>\n",
       "    </tr>\n",
       "    <tr>\n",
       "      <th>6</th>\n",
       "      <td>4184471</td>\n",
       "      <td>4137</td>\n",
       "    </tr>\n",
       "    <tr>\n",
       "      <th>...</th>\n",
       "      <td>...</td>\n",
       "      <td>...</td>\n",
       "    </tr>\n",
       "    <tr>\n",
       "      <th>4509578</th>\n",
       "      <td>4184455</td>\n",
       "      <td>809</td>\n",
       "    </tr>\n",
       "    <tr>\n",
       "      <th>4509579</th>\n",
       "      <td>4184458</td>\n",
       "      <td>599</td>\n",
       "    </tr>\n",
       "    <tr>\n",
       "      <th>4509580</th>\n",
       "      <td>4184463</td>\n",
       "      <td>261</td>\n",
       "    </tr>\n",
       "    <tr>\n",
       "      <th>4509581</th>\n",
       "      <td>4184467</td>\n",
       "      <td>481</td>\n",
       "    </tr>\n",
       "    <tr>\n",
       "      <th>4509584</th>\n",
       "      <td>4184473</td>\n",
       "      <td>153</td>\n",
       "    </tr>\n",
       "  </tbody>\n",
       "</table>\n",
       "<p>3452771 rows × 2 columns</p>\n",
       "</div>"
      ],
      "text/plain": [
       "             sid  followers\n",
       "0        4184446        146\n",
       "1        4184457       1145\n",
       "2        4184460        324\n",
       "5        4184465        192\n",
       "6        4184471       4137\n",
       "...          ...        ...\n",
       "4509578  4184455        809\n",
       "4509579  4184458        599\n",
       "4509580  4184463        261\n",
       "4509581  4184467        481\n",
       "4509584  4184473        153\n",
       "\n",
       "[3452771 rows x 2 columns]"
      ]
     },
     "execution_count": 4,
     "metadata": {},
     "output_type": "execute_result"
    }
   ],
   "source": [
    "from_prof['followers'] = from_prof['followers'].astype(int)\n",
    "from_prof"
   ]
  },
  {
   "cell_type": "markdown",
   "id": "6065a935",
   "metadata": {},
   "source": [
    "#### Now we want the second DataFrame from \"instagram_posts.csv\" to merge it with the first one including \"sid_profile\"(sequence ID of the profile from Profiles) to manage to connect and compare likes and comments in order."
   ]
  },
  {
   "cell_type": "code",
   "execution_count": 5,
   "id": "d2795783",
   "metadata": {},
   "outputs": [],
   "source": [
    "from_post = dt.fread('instagram_posts.csv', sep='\\t', columns={\"sid_profile\", \"numbr_likes\"}).to_pandas()"
   ]
  },
  {
   "cell_type": "markdown",
   "id": "3e58c853",
   "metadata": {},
   "source": [
    "#### At first we clean dataset by values in which we aren't interested(sid_profile values equal to '-1' don't have any sense)."
   ]
  },
  {
   "cell_type": "code",
   "execution_count": 7,
   "id": "cde06fba",
   "metadata": {},
   "outputs": [
    {
     "data": {
      "text/html": [
       "<div>\n",
       "<style scoped>\n",
       "    .dataframe tbody tr th:only-of-type {\n",
       "        vertical-align: middle;\n",
       "    }\n",
       "\n",
       "    .dataframe tbody tr th {\n",
       "        vertical-align: top;\n",
       "    }\n",
       "\n",
       "    .dataframe thead th {\n",
       "        text-align: right;\n",
       "    }\n",
       "</style>\n",
       "<table border=\"1\" class=\"dataframe\">\n",
       "  <thead>\n",
       "    <tr style=\"text-align: right;\">\n",
       "      <th></th>\n",
       "      <th>sid_profile</th>\n",
       "      <th>numbr_likes</th>\n",
       "    </tr>\n",
       "  </thead>\n",
       "  <tbody>\n",
       "    <tr>\n",
       "      <th>0</th>\n",
       "      <td>3496776</td>\n",
       "      <td>80.0</td>\n",
       "    </tr>\n",
       "    <tr>\n",
       "      <th>10</th>\n",
       "      <td>3303402</td>\n",
       "      <td>114.0</td>\n",
       "    </tr>\n",
       "    <tr>\n",
       "      <th>26</th>\n",
       "      <td>3406435</td>\n",
       "      <td>46.0</td>\n",
       "    </tr>\n",
       "    <tr>\n",
       "      <th>29</th>\n",
       "      <td>3529017</td>\n",
       "      <td>66.0</td>\n",
       "    </tr>\n",
       "    <tr>\n",
       "      <th>52</th>\n",
       "      <td>3206132</td>\n",
       "      <td>1983.0</td>\n",
       "    </tr>\n",
       "    <tr>\n",
       "      <th>...</th>\n",
       "      <td>...</td>\n",
       "      <td>...</td>\n",
       "    </tr>\n",
       "    <tr>\n",
       "      <th>42710181</th>\n",
       "      <td>3496776</td>\n",
       "      <td>107.0</td>\n",
       "    </tr>\n",
       "    <tr>\n",
       "      <th>42710182</th>\n",
       "      <td>3496776</td>\n",
       "      <td>69.0</td>\n",
       "    </tr>\n",
       "    <tr>\n",
       "      <th>42710183</th>\n",
       "      <td>3496776</td>\n",
       "      <td>133.0</td>\n",
       "    </tr>\n",
       "    <tr>\n",
       "      <th>42710188</th>\n",
       "      <td>1421602</td>\n",
       "      <td>322.0</td>\n",
       "    </tr>\n",
       "    <tr>\n",
       "      <th>42710196</th>\n",
       "      <td>3972555</td>\n",
       "      <td>1824.0</td>\n",
       "    </tr>\n",
       "  </tbody>\n",
       "</table>\n",
       "<p>27437012 rows × 2 columns</p>\n",
       "</div>"
      ],
      "text/plain": [
       "          sid_profile  numbr_likes\n",
       "0             3496776         80.0\n",
       "10            3303402        114.0\n",
       "26            3406435         46.0\n",
       "29            3529017         66.0\n",
       "52            3206132       1983.0\n",
       "...               ...          ...\n",
       "42710181      3496776        107.0\n",
       "42710182      3496776         69.0\n",
       "42710183      3496776        133.0\n",
       "42710188      1421602        322.0\n",
       "42710196      3972555       1824.0\n",
       "\n",
       "[27437012 rows x 2 columns]"
      ]
     },
     "execution_count": 7,
     "metadata": {},
     "output_type": "execute_result"
    }
   ],
   "source": [
    "from_post = from_post[['sid_profile', 'numbr_likes']][from_post['sid_profile'] != -1].dropna()\n",
    "from_post"
   ]
  },
  {
   "cell_type": "markdown",
   "id": "6a542d24",
   "metadata": {},
   "source": [
    "#### Converting into int values"
   ]
  },
  {
   "cell_type": "code",
   "execution_count": 8,
   "id": "6dd69e7e",
   "metadata": {},
   "outputs": [
    {
     "data": {
      "text/html": [
       "<div>\n",
       "<style scoped>\n",
       "    .dataframe tbody tr th:only-of-type {\n",
       "        vertical-align: middle;\n",
       "    }\n",
       "\n",
       "    .dataframe tbody tr th {\n",
       "        vertical-align: top;\n",
       "    }\n",
       "\n",
       "    .dataframe thead th {\n",
       "        text-align: right;\n",
       "    }\n",
       "</style>\n",
       "<table border=\"1\" class=\"dataframe\">\n",
       "  <thead>\n",
       "    <tr style=\"text-align: right;\">\n",
       "      <th></th>\n",
       "      <th>sid_profile</th>\n",
       "      <th>numbr_likes</th>\n",
       "    </tr>\n",
       "  </thead>\n",
       "  <tbody>\n",
       "    <tr>\n",
       "      <th>0</th>\n",
       "      <td>3496776</td>\n",
       "      <td>80</td>\n",
       "    </tr>\n",
       "    <tr>\n",
       "      <th>10</th>\n",
       "      <td>3303402</td>\n",
       "      <td>114</td>\n",
       "    </tr>\n",
       "    <tr>\n",
       "      <th>26</th>\n",
       "      <td>3406435</td>\n",
       "      <td>46</td>\n",
       "    </tr>\n",
       "    <tr>\n",
       "      <th>29</th>\n",
       "      <td>3529017</td>\n",
       "      <td>66</td>\n",
       "    </tr>\n",
       "    <tr>\n",
       "      <th>52</th>\n",
       "      <td>3206132</td>\n",
       "      <td>1983</td>\n",
       "    </tr>\n",
       "    <tr>\n",
       "      <th>...</th>\n",
       "      <td>...</td>\n",
       "      <td>...</td>\n",
       "    </tr>\n",
       "    <tr>\n",
       "      <th>42710181</th>\n",
       "      <td>3496776</td>\n",
       "      <td>107</td>\n",
       "    </tr>\n",
       "    <tr>\n",
       "      <th>42710182</th>\n",
       "      <td>3496776</td>\n",
       "      <td>69</td>\n",
       "    </tr>\n",
       "    <tr>\n",
       "      <th>42710183</th>\n",
       "      <td>3496776</td>\n",
       "      <td>133</td>\n",
       "    </tr>\n",
       "    <tr>\n",
       "      <th>42710188</th>\n",
       "      <td>1421602</td>\n",
       "      <td>322</td>\n",
       "    </tr>\n",
       "    <tr>\n",
       "      <th>42710196</th>\n",
       "      <td>3972555</td>\n",
       "      <td>1824</td>\n",
       "    </tr>\n",
       "  </tbody>\n",
       "</table>\n",
       "<p>27437012 rows × 2 columns</p>\n",
       "</div>"
      ],
      "text/plain": [
       "          sid_profile  numbr_likes\n",
       "0             3496776           80\n",
       "10            3303402          114\n",
       "26            3406435           46\n",
       "29            3529017           66\n",
       "52            3206132         1983\n",
       "...               ...          ...\n",
       "42710181      3496776          107\n",
       "42710182      3496776           69\n",
       "42710183      3496776          133\n",
       "42710188      1421602          322\n",
       "42710196      3972555         1824\n",
       "\n",
       "[27437012 rows x 2 columns]"
      ]
     },
     "execution_count": 8,
     "metadata": {},
     "output_type": "execute_result"
    }
   ],
   "source": [
    "from_post['numbr_likes'] = from_post['numbr_likes'].astype(int)\n",
    "from_post"
   ]
  },
  {
   "cell_type": "markdown",
   "id": "1597aa1e",
   "metadata": {},
   "source": [
    "#### Now we  can merge the dataframes to calculate the probability!... we notice that there are less rows cause of mismatching of two columns 'sid' and 'sid_profile' from the two different datasets."
   ]
  },
  {
   "cell_type": "code",
   "execution_count": 9,
   "id": "5bf0c63d",
   "metadata": {},
   "outputs": [
    {
     "data": {
      "text/html": [
       "<div>\n",
       "<style scoped>\n",
       "    .dataframe tbody tr th:only-of-type {\n",
       "        vertical-align: middle;\n",
       "    }\n",
       "\n",
       "    .dataframe tbody tr th {\n",
       "        vertical-align: top;\n",
       "    }\n",
       "\n",
       "    .dataframe thead th {\n",
       "        text-align: right;\n",
       "    }\n",
       "</style>\n",
       "<table border=\"1\" class=\"dataframe\">\n",
       "  <thead>\n",
       "    <tr style=\"text-align: right;\">\n",
       "      <th></th>\n",
       "      <th>sid_profile</th>\n",
       "      <th>numbr_likes</th>\n",
       "      <th>followers</th>\n",
       "    </tr>\n",
       "  </thead>\n",
       "  <tbody>\n",
       "    <tr>\n",
       "      <th>0</th>\n",
       "      <td>3496776</td>\n",
       "      <td>80</td>\n",
       "      <td>1204</td>\n",
       "    </tr>\n",
       "    <tr>\n",
       "      <th>1</th>\n",
       "      <td>3496776</td>\n",
       "      <td>86</td>\n",
       "      <td>1204</td>\n",
       "    </tr>\n",
       "    <tr>\n",
       "      <th>2</th>\n",
       "      <td>3496776</td>\n",
       "      <td>168</td>\n",
       "      <td>1204</td>\n",
       "    </tr>\n",
       "    <tr>\n",
       "      <th>3</th>\n",
       "      <td>3496776</td>\n",
       "      <td>102</td>\n",
       "      <td>1204</td>\n",
       "    </tr>\n",
       "    <tr>\n",
       "      <th>4</th>\n",
       "      <td>3496776</td>\n",
       "      <td>145</td>\n",
       "      <td>1204</td>\n",
       "    </tr>\n",
       "    <tr>\n",
       "      <th>...</th>\n",
       "      <td>...</td>\n",
       "      <td>...</td>\n",
       "      <td>...</td>\n",
       "    </tr>\n",
       "    <tr>\n",
       "      <th>27134177</th>\n",
       "      <td>1355462</td>\n",
       "      <td>125</td>\n",
       "      <td>1066</td>\n",
       "    </tr>\n",
       "    <tr>\n",
       "      <th>27134178</th>\n",
       "      <td>1451349</td>\n",
       "      <td>117</td>\n",
       "      <td>377</td>\n",
       "    </tr>\n",
       "    <tr>\n",
       "      <th>27134179</th>\n",
       "      <td>3500677</td>\n",
       "      <td>147</td>\n",
       "      <td>866</td>\n",
       "    </tr>\n",
       "    <tr>\n",
       "      <th>27134180</th>\n",
       "      <td>1788260</td>\n",
       "      <td>58</td>\n",
       "      <td>475</td>\n",
       "    </tr>\n",
       "    <tr>\n",
       "      <th>27134181</th>\n",
       "      <td>1313976</td>\n",
       "      <td>76</td>\n",
       "      <td>252</td>\n",
       "    </tr>\n",
       "  </tbody>\n",
       "</table>\n",
       "<p>27134182 rows × 3 columns</p>\n",
       "</div>"
      ],
      "text/plain": [
       "          sid_profile  numbr_likes  followers\n",
       "0             3496776           80       1204\n",
       "1             3496776           86       1204\n",
       "2             3496776          168       1204\n",
       "3             3496776          102       1204\n",
       "4             3496776          145       1204\n",
       "...               ...          ...        ...\n",
       "27134177      1355462          125       1066\n",
       "27134178      1451349          117        377\n",
       "27134179      3500677          147        866\n",
       "27134180      1788260           58        475\n",
       "27134181      1313976           76        252\n",
       "\n",
       "[27134182 rows x 3 columns]"
      ]
     },
     "execution_count": 9,
     "metadata": {},
     "output_type": "execute_result"
    }
   ],
   "source": [
    "df_probs = pd.merge(from_post, from_prof, left_on = 'sid_profile', right_on = 'sid').drop('sid', axis = 1)\n",
    "df_probs"
   ]
  },
  {
   "cell_type": "markdown",
   "id": "83e45c63",
   "metadata": {},
   "source": [
    "#### We have to do two checks.\n",
    "\n",
    "#### The first one is about when the number of followers is equal to zero and an user has at least one like in  his posts."
   ]
  },
  {
   "cell_type": "code",
   "execution_count": 10,
   "id": "467a8712",
   "metadata": {},
   "outputs": [
    {
     "data": {
      "text/plain": [
       "2276"
      ]
     },
     "execution_count": 10,
     "metadata": {},
     "output_type": "execute_result"
    }
   ],
   "source": [
    "check = ((df_probs['followers'] == 0) & (df_probs['numbr_likes'] > 0)).sum()\n",
    "check"
   ]
  },
  {
   "cell_type": "markdown",
   "id": "df0766cb",
   "metadata": {},
   "source": [
    "#### Now we delete rows where the number of followers is equal to zero to can do the second check.  "
   ]
  },
  {
   "cell_type": "code",
   "execution_count": 11,
   "id": "f680669e",
   "metadata": {},
   "outputs": [
    {
     "data": {
      "text/html": [
       "<div>\n",
       "<style scoped>\n",
       "    .dataframe tbody tr th:only-of-type {\n",
       "        vertical-align: middle;\n",
       "    }\n",
       "\n",
       "    .dataframe tbody tr th {\n",
       "        vertical-align: top;\n",
       "    }\n",
       "\n",
       "    .dataframe thead th {\n",
       "        text-align: right;\n",
       "    }\n",
       "</style>\n",
       "<table border=\"1\" class=\"dataframe\">\n",
       "  <thead>\n",
       "    <tr style=\"text-align: right;\">\n",
       "      <th></th>\n",
       "      <th>sid_profile</th>\n",
       "      <th>numbr_likes</th>\n",
       "      <th>followers</th>\n",
       "    </tr>\n",
       "  </thead>\n",
       "  <tbody>\n",
       "    <tr>\n",
       "      <th>0</th>\n",
       "      <td>3496776</td>\n",
       "      <td>80</td>\n",
       "      <td>1204</td>\n",
       "    </tr>\n",
       "    <tr>\n",
       "      <th>1</th>\n",
       "      <td>3496776</td>\n",
       "      <td>86</td>\n",
       "      <td>1204</td>\n",
       "    </tr>\n",
       "    <tr>\n",
       "      <th>2</th>\n",
       "      <td>3496776</td>\n",
       "      <td>168</td>\n",
       "      <td>1204</td>\n",
       "    </tr>\n",
       "    <tr>\n",
       "      <th>3</th>\n",
       "      <td>3496776</td>\n",
       "      <td>102</td>\n",
       "      <td>1204</td>\n",
       "    </tr>\n",
       "    <tr>\n",
       "      <th>4</th>\n",
       "      <td>3496776</td>\n",
       "      <td>145</td>\n",
       "      <td>1204</td>\n",
       "    </tr>\n",
       "    <tr>\n",
       "      <th>...</th>\n",
       "      <td>...</td>\n",
       "      <td>...</td>\n",
       "      <td>...</td>\n",
       "    </tr>\n",
       "    <tr>\n",
       "      <th>27134177</th>\n",
       "      <td>1355462</td>\n",
       "      <td>125</td>\n",
       "      <td>1066</td>\n",
       "    </tr>\n",
       "    <tr>\n",
       "      <th>27134178</th>\n",
       "      <td>1451349</td>\n",
       "      <td>117</td>\n",
       "      <td>377</td>\n",
       "    </tr>\n",
       "    <tr>\n",
       "      <th>27134179</th>\n",
       "      <td>3500677</td>\n",
       "      <td>147</td>\n",
       "      <td>866</td>\n",
       "    </tr>\n",
       "    <tr>\n",
       "      <th>27134180</th>\n",
       "      <td>1788260</td>\n",
       "      <td>58</td>\n",
       "      <td>475</td>\n",
       "    </tr>\n",
       "    <tr>\n",
       "      <th>27134181</th>\n",
       "      <td>1313976</td>\n",
       "      <td>76</td>\n",
       "      <td>252</td>\n",
       "    </tr>\n",
       "  </tbody>\n",
       "</table>\n",
       "<p>27130138 rows × 3 columns</p>\n",
       "</div>"
      ],
      "text/plain": [
       "          sid_profile  numbr_likes  followers\n",
       "0             3496776           80       1204\n",
       "1             3496776           86       1204\n",
       "2             3496776          168       1204\n",
       "3             3496776          102       1204\n",
       "4             3496776          145       1204\n",
       "...               ...          ...        ...\n",
       "27134177      1355462          125       1066\n",
       "27134178      1451349          117        377\n",
       "27134179      3500677          147        866\n",
       "27134180      1788260           58        475\n",
       "27134181      1313976           76        252\n",
       "\n",
       "[27130138 rows x 3 columns]"
      ]
     },
     "execution_count": 11,
     "metadata": {},
     "output_type": "execute_result"
    }
   ],
   "source": [
    "df_probs = df_probs[df_probs['followers'] != 0]\n",
    "df_probs"
   ]
  },
  {
   "cell_type": "markdown",
   "id": "c31f72da",
   "metadata": {},
   "source": [
    "#### Second check is about when number of likes is more than 20% of the number of followers that are now all different from zero. So we pick the two columns of our interest and do three steps:\n",
    "\n",
    "1. Create a new column **likes_followers_ratio** in which we have values from ratio between **numbr_likes** and **followers**\n",
    "1. Pick only the values that are > 0.2 \n",
    "1. Count how many these values are \n",
    "\n",
    "#### They will be our possible cases for the probability we have to calculate"
   ]
  },
  {
   "cell_type": "code",
   "execution_count": 27,
   "id": "091697b7",
   "metadata": {},
   "outputs": [
    {
     "data": {
      "text/plain": [
       "4131855"
      ]
     },
     "execution_count": 27,
     "metadata": {},
     "output_type": "execute_result"
    }
   ],
   "source": [
    "check2 = df_probs[['numbr_likes', 'followers']]\n",
    "check2[\"likes_followers_ratio\"] = check2.numbr_likes / check2.followers\n",
    "check2 = check2[check2.likes_followers_ratio > 0.2].likes_followers_ratio.count()\n",
    "check2"
   ]
  },
  {
   "cell_type": "markdown",
   "id": "bc917efe",
   "metadata": {},
   "source": [
    "#### At this point we have all informations to compute the probability requested and we show it."
   ]
  },
  {
   "cell_type": "code",
   "execution_count": 28,
   "id": "48cc2e42",
   "metadata": {},
   "outputs": [
    {
     "name": "stdout",
     "output_type": "stream",
     "text": [
      " The probability that a post receives more than 20% likes of the number of followers a user has is: 0.15238, so the percentage is 15.238%\n"
     ]
    }
   ],
   "source": [
    "print(f\" The probability that a post receives more than 20% likes of the number of followers a user has is: {round((check + check2) / df_probs.shape[0], 5)}, so the percentage is {round((((check + check2) / df_probs.shape[0])*100), 3)}%\")"
   ]
  },
  {
   "cell_type": "markdown",
   "id": "3c2a93a5",
   "metadata": {},
   "source": [
    "- ## Do users usually return to locations? Extract the probability that a user returns to a site after having posted it in the past. Does that probability make sense to you? Explain why or why not."
   ]
  },
  {
   "cell_type": "markdown",
   "id": "3b223aa5",
   "metadata": {},
   "source": [
    "#### Take columns in which we are interested and do a bit of preprocessing, removing NaN values and converting the columns into int values."
   ]
  },
  {
   "cell_type": "code",
   "execution_count": 29,
   "id": "8736c0b9",
   "metadata": {},
   "outputs": [
    {
     "data": {
      "text/html": [
       "<div>\n",
       "<style scoped>\n",
       "    .dataframe tbody tr th:only-of-type {\n",
       "        vertical-align: middle;\n",
       "    }\n",
       "\n",
       "    .dataframe tbody tr th {\n",
       "        vertical-align: top;\n",
       "    }\n",
       "\n",
       "    .dataframe thead th {\n",
       "        text-align: right;\n",
       "    }\n",
       "</style>\n",
       "<table border=\"1\" class=\"dataframe\">\n",
       "  <thead>\n",
       "    <tr style=\"text-align: right;\">\n",
       "      <th></th>\n",
       "      <th>profile_id</th>\n",
       "      <th>location_id</th>\n",
       "    </tr>\n",
       "  </thead>\n",
       "  <tbody>\n",
       "    <tr>\n",
       "      <th>0</th>\n",
       "      <td>2.237948e+09</td>\n",
       "      <td>1.022366e+15</td>\n",
       "    </tr>\n",
       "    <tr>\n",
       "      <th>1</th>\n",
       "      <td>5.579335e+09</td>\n",
       "      <td>4.574268e+14</td>\n",
       "    </tr>\n",
       "    <tr>\n",
       "      <th>2</th>\n",
       "      <td>3.134296e+08</td>\n",
       "      <td>4.574268e+14</td>\n",
       "    </tr>\n",
       "    <tr>\n",
       "      <th>3</th>\n",
       "      <td>1.837593e+09</td>\n",
       "      <td>4.574268e+14</td>\n",
       "    </tr>\n",
       "    <tr>\n",
       "      <th>4</th>\n",
       "      <td>1.131527e+09</td>\n",
       "      <td>4.574268e+14</td>\n",
       "    </tr>\n",
       "    <tr>\n",
       "      <th>...</th>\n",
       "      <td>...</td>\n",
       "      <td>...</td>\n",
       "    </tr>\n",
       "    <tr>\n",
       "      <th>42710192</th>\n",
       "      <td>5.556457e+09</td>\n",
       "      <td>4.574268e+14</td>\n",
       "    </tr>\n",
       "    <tr>\n",
       "      <th>42710193</th>\n",
       "      <td>3.371865e+08</td>\n",
       "      <td>4.574268e+14</td>\n",
       "    </tr>\n",
       "    <tr>\n",
       "      <th>42710194</th>\n",
       "      <td>3.289886e+09</td>\n",
       "      <td>4.574268e+14</td>\n",
       "    </tr>\n",
       "    <tr>\n",
       "      <th>42710195</th>\n",
       "      <td>8.536366e+09</td>\n",
       "      <td>4.267235e+06</td>\n",
       "    </tr>\n",
       "    <tr>\n",
       "      <th>42710196</th>\n",
       "      <td>2.219100e+09</td>\n",
       "      <td>4.574268e+14</td>\n",
       "    </tr>\n",
       "  </tbody>\n",
       "</table>\n",
       "<p>42710197 rows × 2 columns</p>\n",
       "</div>"
      ],
      "text/plain": [
       "            profile_id   location_id\n",
       "0         2.237948e+09  1.022366e+15\n",
       "1         5.579335e+09  4.574268e+14\n",
       "2         3.134296e+08  4.574268e+14\n",
       "3         1.837593e+09  4.574268e+14\n",
       "4         1.131527e+09  4.574268e+14\n",
       "...                ...           ...\n",
       "42710192  5.556457e+09  4.574268e+14\n",
       "42710193  3.371865e+08  4.574268e+14\n",
       "42710194  3.289886e+09  4.574268e+14\n",
       "42710195  8.536366e+09  4.267235e+06\n",
       "42710196  2.219100e+09  4.574268e+14\n",
       "\n",
       "[42710197 rows x 2 columns]"
      ]
     },
     "execution_count": 29,
     "metadata": {},
     "output_type": "execute_result"
    }
   ],
   "source": [
    "prof_loc = dt.fread('instagram_posts.csv', sep='\\t', columns={\"profile_id\", \"location_id\"}).to_pandas()\n",
    "prof_loc"
   ]
  },
  {
   "cell_type": "code",
   "execution_count": 30,
   "id": "c11e116f",
   "metadata": {},
   "outputs": [
    {
     "data": {
      "text/html": [
       "<div>\n",
       "<style scoped>\n",
       "    .dataframe tbody tr th:only-of-type {\n",
       "        vertical-align: middle;\n",
       "    }\n",
       "\n",
       "    .dataframe tbody tr th {\n",
       "        vertical-align: top;\n",
       "    }\n",
       "\n",
       "    .dataframe thead th {\n",
       "        text-align: right;\n",
       "    }\n",
       "</style>\n",
       "<table border=\"1\" class=\"dataframe\">\n",
       "  <thead>\n",
       "    <tr style=\"text-align: right;\">\n",
       "      <th></th>\n",
       "      <th>profile_id</th>\n",
       "      <th>location_id</th>\n",
       "    </tr>\n",
       "  </thead>\n",
       "  <tbody>\n",
       "    <tr>\n",
       "      <th>0</th>\n",
       "      <td>2237947779</td>\n",
       "      <td>1022366247837915</td>\n",
       "    </tr>\n",
       "    <tr>\n",
       "      <th>1</th>\n",
       "      <td>5579335020</td>\n",
       "      <td>457426771112991</td>\n",
       "    </tr>\n",
       "    <tr>\n",
       "      <th>2</th>\n",
       "      <td>313429634</td>\n",
       "      <td>457426771112991</td>\n",
       "    </tr>\n",
       "    <tr>\n",
       "      <th>3</th>\n",
       "      <td>1837592700</td>\n",
       "      <td>457426771112991</td>\n",
       "    </tr>\n",
       "    <tr>\n",
       "      <th>4</th>\n",
       "      <td>1131527143</td>\n",
       "      <td>457426771112991</td>\n",
       "    </tr>\n",
       "    <tr>\n",
       "      <th>...</th>\n",
       "      <td>...</td>\n",
       "      <td>...</td>\n",
       "    </tr>\n",
       "    <tr>\n",
       "      <th>42710192</th>\n",
       "      <td>5556457201</td>\n",
       "      <td>457426771112991</td>\n",
       "    </tr>\n",
       "    <tr>\n",
       "      <th>42710193</th>\n",
       "      <td>337186454</td>\n",
       "      <td>457426771112991</td>\n",
       "    </tr>\n",
       "    <tr>\n",
       "      <th>42710194</th>\n",
       "      <td>3289886053</td>\n",
       "      <td>457426771112991</td>\n",
       "    </tr>\n",
       "    <tr>\n",
       "      <th>42710195</th>\n",
       "      <td>8536366360</td>\n",
       "      <td>4267235</td>\n",
       "    </tr>\n",
       "    <tr>\n",
       "      <th>42710196</th>\n",
       "      <td>2219099766</td>\n",
       "      <td>457426771112991</td>\n",
       "    </tr>\n",
       "  </tbody>\n",
       "</table>\n",
       "<p>28625055 rows × 2 columns</p>\n",
       "</div>"
      ],
      "text/plain": [
       "          profile_id       location_id\n",
       "0         2237947779  1022366247837915\n",
       "1         5579335020   457426771112991\n",
       "2          313429634   457426771112991\n",
       "3         1837592700   457426771112991\n",
       "4         1131527143   457426771112991\n",
       "...              ...               ...\n",
       "42710192  5556457201   457426771112991\n",
       "42710193   337186454   457426771112991\n",
       "42710194  3289886053   457426771112991\n",
       "42710195  8536366360           4267235\n",
       "42710196  2219099766   457426771112991\n",
       "\n",
       "[28625055 rows x 2 columns]"
      ]
     },
     "execution_count": 30,
     "metadata": {},
     "output_type": "execute_result"
    }
   ],
   "source": [
    "prof_loc = prof_loc.dropna().astype('int64')\n",
    "prof_loc "
   ]
  },
  {
   "cell_type": "markdown",
   "id": "f705e0c6",
   "metadata": {},
   "source": [
    "#### Remove rows that are not duplicated because we want to analize only users return to a site!"
   ]
  },
  {
   "cell_type": "code",
   "execution_count": 31,
   "id": "4d52a27c",
   "metadata": {},
   "outputs": [
    {
     "data": {
      "text/html": [
       "<div>\n",
       "<style scoped>\n",
       "    .dataframe tbody tr th:only-of-type {\n",
       "        vertical-align: middle;\n",
       "    }\n",
       "\n",
       "    .dataframe tbody tr th {\n",
       "        vertical-align: top;\n",
       "    }\n",
       "\n",
       "    .dataframe thead th {\n",
       "        text-align: right;\n",
       "    }\n",
       "</style>\n",
       "<table border=\"1\" class=\"dataframe\">\n",
       "  <thead>\n",
       "    <tr style=\"text-align: right;\">\n",
       "      <th></th>\n",
       "      <th>profile_id</th>\n",
       "      <th>location_id</th>\n",
       "    </tr>\n",
       "  </thead>\n",
       "  <tbody>\n",
       "    <tr>\n",
       "      <th>0</th>\n",
       "      <td>2237947779</td>\n",
       "      <td>1022366247837915</td>\n",
       "    </tr>\n",
       "    <tr>\n",
       "      <th>15</th>\n",
       "      <td>176274494</td>\n",
       "      <td>282618748</td>\n",
       "    </tr>\n",
       "    <tr>\n",
       "      <th>17</th>\n",
       "      <td>8492416500</td>\n",
       "      <td>130379727582083</td>\n",
       "    </tr>\n",
       "    <tr>\n",
       "      <th>21</th>\n",
       "      <td>8492416500</td>\n",
       "      <td>130379727582083</td>\n",
       "    </tr>\n",
       "    <tr>\n",
       "      <th>25</th>\n",
       "      <td>8492416500</td>\n",
       "      <td>130379727582083</td>\n",
       "    </tr>\n",
       "    <tr>\n",
       "      <th>...</th>\n",
       "      <td>...</td>\n",
       "      <td>...</td>\n",
       "    </tr>\n",
       "    <tr>\n",
       "      <th>42710179</th>\n",
       "      <td>2237947779</td>\n",
       "      <td>1022366247837915</td>\n",
       "    </tr>\n",
       "    <tr>\n",
       "      <th>42710180</th>\n",
       "      <td>2237947779</td>\n",
       "      <td>1022366247837915</td>\n",
       "    </tr>\n",
       "    <tr>\n",
       "      <th>42710181</th>\n",
       "      <td>2237947779</td>\n",
       "      <td>1022366247837915</td>\n",
       "    </tr>\n",
       "    <tr>\n",
       "      <th>42710182</th>\n",
       "      <td>2237947779</td>\n",
       "      <td>1022366247837915</td>\n",
       "    </tr>\n",
       "    <tr>\n",
       "      <th>42710183</th>\n",
       "      <td>2237947779</td>\n",
       "      <td>1022366247837915</td>\n",
       "    </tr>\n",
       "  </tbody>\n",
       "</table>\n",
       "<p>10491024 rows × 2 columns</p>\n",
       "</div>"
      ],
      "text/plain": [
       "          profile_id       location_id\n",
       "0         2237947779  1022366247837915\n",
       "15         176274494         282618748\n",
       "17        8492416500   130379727582083\n",
       "21        8492416500   130379727582083\n",
       "25        8492416500   130379727582083\n",
       "...              ...               ...\n",
       "42710179  2237947779  1022366247837915\n",
       "42710180  2237947779  1022366247837915\n",
       "42710181  2237947779  1022366247837915\n",
       "42710182  2237947779  1022366247837915\n",
       "42710183  2237947779  1022366247837915\n",
       "\n",
       "[10491024 rows x 2 columns]"
      ]
     },
     "execution_count": 31,
     "metadata": {},
     "output_type": "execute_result"
    }
   ],
   "source": [
    "prof_loc_dup = prof_loc[prof_loc.duplicated(subset=[\"profile_id\", \"location_id\"], keep=False)]\n",
    "prof_loc_dup"
   ]
  },
  {
   "cell_type": "markdown",
   "id": "fa56aabc",
   "metadata": {},
   "source": [
    "#### We count how many rows are in the dataset above in which we remove duplicates to take all users in which we are interested only once(all possible cases of the probability). "
   ]
  },
  {
   "cell_type": "code",
   "execution_count": 32,
   "id": "39b1b6ed",
   "metadata": {},
   "outputs": [
    {
     "data": {
      "text/plain": [
       "2962104"
      ]
     },
     "execution_count": 32,
     "metadata": {},
     "output_type": "execute_result"
    }
   ],
   "source": [
    "numbr_dup = prof_loc_dup.drop_duplicates(subset=[\"profile_id\", \"location_id\"]).shape[0]\n",
    "numbr_dup"
   ]
  },
  {
   "cell_type": "markdown",
   "id": "7af35dcf",
   "metadata": {},
   "source": [
    "#### Calculate probability requested dividing for all total cases(n groups from the data we have), so all profiles counted once. "
   ]
  },
  {
   "cell_type": "code",
   "execution_count": 33,
   "id": "ac657ce7",
   "metadata": {},
   "outputs": [],
   "source": [
    "prob = numbr_dup / prof_loc.groupby([\"profile_id\", \"location_id\"]).ngroups"
   ]
  },
  {
   "cell_type": "code",
   "execution_count": 34,
   "id": "ffdc7a7a",
   "metadata": {},
   "outputs": [
    {
     "name": "stdout",
     "output_type": "stream",
     "text": [
      " The probability that a user returns to a site after having posted it in the past is: 14.04%\n"
     ]
    }
   ],
   "source": [
    "print(f\" The probability that a user returns to a site after having posted it in the past is: {round(prob*100, 2)}%\")"
   ]
  },
  {
   "cell_type": "markdown",
   "id": "ee3e87e9",
   "metadata": {},
   "source": [
    "### Comments about this probability"
   ]
  },
  {
   "cell_type": "markdown",
   "id": "0c82dea4",
   "metadata": {},
   "source": [
    "###### This probability does not make much sense since if a user posts on Instagram withe the location tag it is not certain that he or she has returned to that location. Let me explain further.  For example, a user might have been in that site and not post anything at that time and instead post more posts with that location once he or she returned home. Or post multiple posts on different days, even a long time apart, and have only been to that location once!!\n",
    "\n",
    "###### Nevertheless, this probability gives us a very rough idea of how much people used to return to those places or sites, or even better, how muche they like to show that they visit the same place many times or that they have visited various parts of that place even though in reality they may have been in it only once in their lives and maybe even for a short time.\n",
    "\n",
    "###### We can say that it turns out to be interesting to find this out but for the purpose of getting very relevant information its quite useless and we should go into much more detail!!"
   ]
  }
 ],
 "metadata": {
  "kernelspec": {
   "display_name": "Python 3 (ipykernel)",
   "language": "python",
   "name": "python3"
  },
  "language_info": {
   "codemirror_mode": {
    "name": "ipython",
    "version": 3
   },
   "file_extension": ".py",
   "mimetype": "text/x-python",
   "name": "python",
   "nbconvert_exporter": "python",
   "pygments_lexer": "ipython3",
   "version": "3.9.12"
  }
 },
 "nbformat": 4,
 "nbformat_minor": 5
}
