{
 "cells": [
  {
   "cell_type": "code",
   "execution_count": 1,
   "id": "fc0bc92f",
   "metadata": {},
   "outputs": [],
   "source": [
    "from algorithmic import max_ribbon_product, max_ribbon_product_dynamic\n",
    "import timeit"
   ]
  },
  {
   "cell_type": "code",
   "execution_count": 2,
   "id": "d3b47b30",
   "metadata": {},
   "outputs": [
    {
     "data": {
      "text/plain": [
       "3.631792700000001"
      ]
     },
     "execution_count": 2,
     "metadata": {},
     "output_type": "execute_result"
    }
   ],
   "source": [
    "timeit.timeit(stmt='max_ribbon_product(20)', setup='pass', number=10, globals=globals())"
   ]
  },
  {
   "cell_type": "code",
   "execution_count": 3,
   "id": "cffe366d",
   "metadata": {},
   "outputs": [
    {
     "data": {
      "text/plain": [
       "0.0023932999999995985"
      ]
     },
     "execution_count": 3,
     "metadata": {},
     "output_type": "execute_result"
    }
   ],
   "source": [
    "timeit.timeit(stmt='max_ribbon_product_dynamic(20, {})', setup='pass', number=10, globals=globals())"
   ]
  }
 ],
 "metadata": {
  "kernelspec": {
   "display_name": "Python 3 (ipykernel)",
   "language": "python",
   "name": "python3"
  },
  "language_info": {
   "codemirror_mode": {
    "name": "ipython",
    "version": 3
   },
   "file_extension": ".py",
   "mimetype": "text/x-python",
   "name": "python",
   "nbconvert_exporter": "python",
   "pygments_lexer": "ipython3",
   "version": "3.9.0"
  }
 },
 "nbformat": 4,
 "nbformat_minor": 5
}
